{
  "nbformat": 4,
  "nbformat_minor": 0,
  "metadata": {
    "colab": {
      "provenance": []
    },
    "kernelspec": {
      "name": "python3",
      "display_name": "Python 3"
    },
    "language_info": {
      "name": "python"
    }
  },
  "cells": [
    {
      "cell_type": "code",
      "execution_count": 3,
      "metadata": {
        "id": "m86PKrf_HS0c"
      },
      "outputs": [],
      "source": [
        "import pandas as pd\n",
        "import matplotlib.pyplot as plt\n",
        "import numpy as np\n",
        "import seaborn as sns"
      ]
    },
    {
      "cell_type": "code",
      "source": [
        "from google.colab import drive\n",
        "drive.mount('/content/drive')"
      ],
      "metadata": {
        "id": "wLOcaLZ5flD5",
        "outputId": "5fafff95-1975-48b2-db8f-d0c1d79c5af2",
        "colab": {
          "base_uri": "https://localhost:8080/"
        }
      },
      "execution_count": 4,
      "outputs": [
        {
          "output_type": "stream",
          "name": "stdout",
          "text": [
            "Mounted at /content/drive\n"
          ]
        }
      ]
    },
    {
      "cell_type": "code",
      "source": [
        "crash_df = pd.read_csv('/content/drive/MyDrive/Colab Notebooks/Crash_details.csv')"
      ],
      "metadata": {
        "id": "g5PeW6cbVjZs"
      },
      "execution_count": 5,
      "outputs": []
    },
    {
      "cell_type": "markdown",
      "source": [
        "# New Section"
      ],
      "metadata": {
        "id": "hNM65pgOOVPU"
      }
    },
    {
      "cell_type": "code",
      "source": [
        "crash_df.head()"
      ],
      "metadata": {
        "id": "mKzOBRsofziU",
        "colab": {
          "base_uri": "https://localhost:8080/",
          "height": 456
        },
        "outputId": "42c4c829-b5a1-44ff-af01-c00e4e7f1f1f"
      },
      "execution_count": 6,
      "outputs": [
        {
          "output_type": "execute_result",
          "data": {
            "text/plain": [
              "   Crash_Number City_Town_Name Crash_Date Crash_Time  \\\n",
              "0       1496835         BOSTON  01-Jan-02    1:30 AM   \n",
              "1       1413374         BOSTON  01-Jan-02    1:35 AM   \n",
              "2       1572072         BOSTON  01-Jan-02    2:00 AM   \n",
              "3       1583849         BOSTON  01-Jan-02    2:00 AM   \n",
              "4       1612170         BOSTON  01-Jan-02    2:40 AM   \n",
              "\n",
              "                        Crash_Severity       Maximum_Injury_Severity_Reported  \\\n",
              "0                     Non-fatal injury  Non-fatal injury - Non-incapacitating   \n",
              "1                     Non-fatal injury  Non-fatal injury - Non-incapacitating   \n",
              "2  Property damage only (none injured)                              No injury   \n",
              "3  Property damage only (none injured)                              No injury   \n",
              "4  Property damage only (none injured)                              No injury   \n",
              "\n",
              "   Number_of_Vehicles  Total_Nonfatal_Injuries  Total_Fatal_Injuries  \\\n",
              "0                   2                        2                     0   \n",
              "1                   2                        1                     0   \n",
              "2                   1                        0                     0   \n",
              "3                   1                        0                     0   \n",
              "4                   2                        0                     0   \n",
              "\n",
              "    Manner_of_Collision  ...           Ambient_Light Weather_Condition  \\\n",
              "0              Rear-end  ...  Dark - lighted roadway             Clear   \n",
              "1                 Angle  ...  Dark - lighted roadway             Clear   \n",
              "2  Single vehicle crash  ...  Dark - lighted roadway             Clear   \n",
              "3          Not reported  ...  Dark - lighted roadway        Clear/Rain   \n",
              "4              Rear-end  ...  Dark - lighted roadway       Clear/Clear   \n",
              "\n",
              "                             At_Roadway_Intersection  \\\n",
              "0  WASHINGTON STREET Rte 1 / M L KING BOULEVARD R...   \n",
              "1                     MORTON STREET / NORFOLK STREET   \n",
              "2                                                NaN   \n",
              "3              COMMONWEALTH AVENUE / BOYLSTON STREET   \n",
              "4                                                NaN   \n",
              "\n",
              "          Distance_From_Nearest_Roadway_Intersection  \\\n",
              "0  WASHINGTON STREET Rte 1 / M L KING BOULEVARD R...   \n",
              "1                     MORTON STREET / NORFOLK STREET   \n",
              "2                     MARKET STREET / LOTHROP STREET   \n",
              "3              COMMONWEALTH AVENUE / BOYLSTON STREET   \n",
              "4                                  101 BEACON STREET   \n",
              "\n",
              "  Distance_From_Nearest_Milemarker Distance_From_Nearest_Exit  \\\n",
              "0                              NaN                        NaN   \n",
              "1                              NaN                        NaN   \n",
              "2                              NaN                        NaN   \n",
              "3                              NaN                        NaN   \n",
              "4                              NaN                        NaN   \n",
              "\n",
              "  Distance_From_Nearest_Landmark Non_Motorist_Type X_Cooordinate Y_Cooordinate  \n",
              "0                            NaN               NaN           NaN           NaN  \n",
              "1                            NaN               NaN   234066.8436    892435.125  \n",
              "2           MASS TURNPIKE BRIDGE               NaN           NaN           NaN  \n",
              "3                            NaN               NaN           NaN           NaN  \n",
              "4                            NaN               NaN           NaN           NaN  \n",
              "\n",
              "[5 rows x 25 columns]"
            ],
            "text/html": [
              "\n",
              "  <div id=\"df-e7da66bb-31a6-4fa2-a951-57576a3b06e7\">\n",
              "    <div class=\"colab-df-container\">\n",
              "      <div>\n",
              "<style scoped>\n",
              "    .dataframe tbody tr th:only-of-type {\n",
              "        vertical-align: middle;\n",
              "    }\n",
              "\n",
              "    .dataframe tbody tr th {\n",
              "        vertical-align: top;\n",
              "    }\n",
              "\n",
              "    .dataframe thead th {\n",
              "        text-align: right;\n",
              "    }\n",
              "</style>\n",
              "<table border=\"1\" class=\"dataframe\">\n",
              "  <thead>\n",
              "    <tr style=\"text-align: right;\">\n",
              "      <th></th>\n",
              "      <th>Crash_Number</th>\n",
              "      <th>City_Town_Name</th>\n",
              "      <th>Crash_Date</th>\n",
              "      <th>Crash_Time</th>\n",
              "      <th>Crash_Severity</th>\n",
              "      <th>Maximum_Injury_Severity_Reported</th>\n",
              "      <th>Number_of_Vehicles</th>\n",
              "      <th>Total_Nonfatal_Injuries</th>\n",
              "      <th>Total_Fatal_Injuries</th>\n",
              "      <th>Manner_of_Collision</th>\n",
              "      <th>...</th>\n",
              "      <th>Ambient_Light</th>\n",
              "      <th>Weather_Condition</th>\n",
              "      <th>At_Roadway_Intersection</th>\n",
              "      <th>Distance_From_Nearest_Roadway_Intersection</th>\n",
              "      <th>Distance_From_Nearest_Milemarker</th>\n",
              "      <th>Distance_From_Nearest_Exit</th>\n",
              "      <th>Distance_From_Nearest_Landmark</th>\n",
              "      <th>Non_Motorist_Type</th>\n",
              "      <th>X_Cooordinate</th>\n",
              "      <th>Y_Cooordinate</th>\n",
              "    </tr>\n",
              "  </thead>\n",
              "  <tbody>\n",
              "    <tr>\n",
              "      <th>0</th>\n",
              "      <td>1496835</td>\n",
              "      <td>BOSTON</td>\n",
              "      <td>01-Jan-02</td>\n",
              "      <td>1:30 AM</td>\n",
              "      <td>Non-fatal injury</td>\n",
              "      <td>Non-fatal injury - Non-incapacitating</td>\n",
              "      <td>2</td>\n",
              "      <td>2</td>\n",
              "      <td>0</td>\n",
              "      <td>Rear-end</td>\n",
              "      <td>...</td>\n",
              "      <td>Dark - lighted roadway</td>\n",
              "      <td>Clear</td>\n",
              "      <td>WASHINGTON STREET Rte 1 / M L KING BOULEVARD R...</td>\n",
              "      <td>WASHINGTON STREET Rte 1 / M L KING BOULEVARD R...</td>\n",
              "      <td>NaN</td>\n",
              "      <td>NaN</td>\n",
              "      <td>NaN</td>\n",
              "      <td>NaN</td>\n",
              "      <td>NaN</td>\n",
              "      <td>NaN</td>\n",
              "    </tr>\n",
              "    <tr>\n",
              "      <th>1</th>\n",
              "      <td>1413374</td>\n",
              "      <td>BOSTON</td>\n",
              "      <td>01-Jan-02</td>\n",
              "      <td>1:35 AM</td>\n",
              "      <td>Non-fatal injury</td>\n",
              "      <td>Non-fatal injury - Non-incapacitating</td>\n",
              "      <td>2</td>\n",
              "      <td>1</td>\n",
              "      <td>0</td>\n",
              "      <td>Angle</td>\n",
              "      <td>...</td>\n",
              "      <td>Dark - lighted roadway</td>\n",
              "      <td>Clear</td>\n",
              "      <td>MORTON STREET / NORFOLK STREET</td>\n",
              "      <td>MORTON STREET / NORFOLK STREET</td>\n",
              "      <td>NaN</td>\n",
              "      <td>NaN</td>\n",
              "      <td>NaN</td>\n",
              "      <td>NaN</td>\n",
              "      <td>234066.8436</td>\n",
              "      <td>892435.125</td>\n",
              "    </tr>\n",
              "    <tr>\n",
              "      <th>2</th>\n",
              "      <td>1572072</td>\n",
              "      <td>BOSTON</td>\n",
              "      <td>01-Jan-02</td>\n",
              "      <td>2:00 AM</td>\n",
              "      <td>Property damage only (none injured)</td>\n",
              "      <td>No injury</td>\n",
              "      <td>1</td>\n",
              "      <td>0</td>\n",
              "      <td>0</td>\n",
              "      <td>Single vehicle crash</td>\n",
              "      <td>...</td>\n",
              "      <td>Dark - lighted roadway</td>\n",
              "      <td>Clear</td>\n",
              "      <td>NaN</td>\n",
              "      <td>MARKET STREET / LOTHROP STREET</td>\n",
              "      <td>NaN</td>\n",
              "      <td>NaN</td>\n",
              "      <td>MASS TURNPIKE BRIDGE</td>\n",
              "      <td>NaN</td>\n",
              "      <td>NaN</td>\n",
              "      <td>NaN</td>\n",
              "    </tr>\n",
              "    <tr>\n",
              "      <th>3</th>\n",
              "      <td>1583849</td>\n",
              "      <td>BOSTON</td>\n",
              "      <td>01-Jan-02</td>\n",
              "      <td>2:00 AM</td>\n",
              "      <td>Property damage only (none injured)</td>\n",
              "      <td>No injury</td>\n",
              "      <td>1</td>\n",
              "      <td>0</td>\n",
              "      <td>0</td>\n",
              "      <td>Not reported</td>\n",
              "      <td>...</td>\n",
              "      <td>Dark - lighted roadway</td>\n",
              "      <td>Clear/Rain</td>\n",
              "      <td>COMMONWEALTH AVENUE / BOYLSTON STREET</td>\n",
              "      <td>COMMONWEALTH AVENUE / BOYLSTON STREET</td>\n",
              "      <td>NaN</td>\n",
              "      <td>NaN</td>\n",
              "      <td>NaN</td>\n",
              "      <td>NaN</td>\n",
              "      <td>NaN</td>\n",
              "      <td>NaN</td>\n",
              "    </tr>\n",
              "    <tr>\n",
              "      <th>4</th>\n",
              "      <td>1612170</td>\n",
              "      <td>BOSTON</td>\n",
              "      <td>01-Jan-02</td>\n",
              "      <td>2:40 AM</td>\n",
              "      <td>Property damage only (none injured)</td>\n",
              "      <td>No injury</td>\n",
              "      <td>2</td>\n",
              "      <td>0</td>\n",
              "      <td>0</td>\n",
              "      <td>Rear-end</td>\n",
              "      <td>...</td>\n",
              "      <td>Dark - lighted roadway</td>\n",
              "      <td>Clear/Clear</td>\n",
              "      <td>NaN</td>\n",
              "      <td>101 BEACON STREET</td>\n",
              "      <td>NaN</td>\n",
              "      <td>NaN</td>\n",
              "      <td>NaN</td>\n",
              "      <td>NaN</td>\n",
              "      <td>NaN</td>\n",
              "      <td>NaN</td>\n",
              "    </tr>\n",
              "  </tbody>\n",
              "</table>\n",
              "<p>5 rows × 25 columns</p>\n",
              "</div>\n",
              "      <button class=\"colab-df-convert\" onclick=\"convertToInteractive('df-e7da66bb-31a6-4fa2-a951-57576a3b06e7')\"\n",
              "              title=\"Convert this dataframe to an interactive table.\"\n",
              "              style=\"display:none;\">\n",
              "        \n",
              "  <svg xmlns=\"http://www.w3.org/2000/svg\" height=\"24px\"viewBox=\"0 0 24 24\"\n",
              "       width=\"24px\">\n",
              "    <path d=\"M0 0h24v24H0V0z\" fill=\"none\"/>\n",
              "    <path d=\"M18.56 5.44l.94 2.06.94-2.06 2.06-.94-2.06-.94-.94-2.06-.94 2.06-2.06.94zm-11 1L8.5 8.5l.94-2.06 2.06-.94-2.06-.94L8.5 2.5l-.94 2.06-2.06.94zm10 10l.94 2.06.94-2.06 2.06-.94-2.06-.94-.94-2.06-.94 2.06-2.06.94z\"/><path d=\"M17.41 7.96l-1.37-1.37c-.4-.4-.92-.59-1.43-.59-.52 0-1.04.2-1.43.59L10.3 9.45l-7.72 7.72c-.78.78-.78 2.05 0 2.83L4 21.41c.39.39.9.59 1.41.59.51 0 1.02-.2 1.41-.59l7.78-7.78 2.81-2.81c.8-.78.8-2.07 0-2.86zM5.41 20L4 18.59l7.72-7.72 1.47 1.35L5.41 20z\"/>\n",
              "  </svg>\n",
              "      </button>\n",
              "      \n",
              "  <style>\n",
              "    .colab-df-container {\n",
              "      display:flex;\n",
              "      flex-wrap:wrap;\n",
              "      gap: 12px;\n",
              "    }\n",
              "\n",
              "    .colab-df-convert {\n",
              "      background-color: #E8F0FE;\n",
              "      border: none;\n",
              "      border-radius: 50%;\n",
              "      cursor: pointer;\n",
              "      display: none;\n",
              "      fill: #1967D2;\n",
              "      height: 32px;\n",
              "      padding: 0 0 0 0;\n",
              "      width: 32px;\n",
              "    }\n",
              "\n",
              "    .colab-df-convert:hover {\n",
              "      background-color: #E2EBFA;\n",
              "      box-shadow: 0px 1px 2px rgba(60, 64, 67, 0.3), 0px 1px 3px 1px rgba(60, 64, 67, 0.15);\n",
              "      fill: #174EA6;\n",
              "    }\n",
              "\n",
              "    [theme=dark] .colab-df-convert {\n",
              "      background-color: #3B4455;\n",
              "      fill: #D2E3FC;\n",
              "    }\n",
              "\n",
              "    [theme=dark] .colab-df-convert:hover {\n",
              "      background-color: #434B5C;\n",
              "      box-shadow: 0px 1px 3px 1px rgba(0, 0, 0, 0.15);\n",
              "      filter: drop-shadow(0px 1px 2px rgba(0, 0, 0, 0.3));\n",
              "      fill: #FFFFFF;\n",
              "    }\n",
              "  </style>\n",
              "\n",
              "      <script>\n",
              "        const buttonEl =\n",
              "          document.querySelector('#df-e7da66bb-31a6-4fa2-a951-57576a3b06e7 button.colab-df-convert');\n",
              "        buttonEl.style.display =\n",
              "          google.colab.kernel.accessAllowed ? 'block' : 'none';\n",
              "\n",
              "        async function convertToInteractive(key) {\n",
              "          const element = document.querySelector('#df-e7da66bb-31a6-4fa2-a951-57576a3b06e7');\n",
              "          const dataTable =\n",
              "            await google.colab.kernel.invokeFunction('convertToInteractive',\n",
              "                                                     [key], {});\n",
              "          if (!dataTable) return;\n",
              "\n",
              "          const docLinkHtml = 'Like what you see? Visit the ' +\n",
              "            '<a target=\"_blank\" href=https://colab.research.google.com/notebooks/data_table.ipynb>data table notebook</a>'\n",
              "            + ' to learn more about interactive tables.';\n",
              "          element.innerHTML = '';\n",
              "          dataTable['output_type'] = 'display_data';\n",
              "          await google.colab.output.renderOutput(dataTable, element);\n",
              "          const docLink = document.createElement('div');\n",
              "          docLink.innerHTML = docLinkHtml;\n",
              "          element.appendChild(docLink);\n",
              "        }\n",
              "      </script>\n",
              "    </div>\n",
              "  </div>\n",
              "  "
            ]
          },
          "metadata": {},
          "execution_count": 6
        }
      ]
    },
    {
      "cell_type": "code",
      "source": [
        "crash_df.tail()"
      ],
      "metadata": {
        "id": "smaE9Ey7guFJ",
        "colab": {
          "base_uri": "https://localhost:8080/",
          "height": 473
        },
        "outputId": "95a59fd6-ef64-4dec-ce6b-c8fbfa4acfc5"
      },
      "execution_count": 7,
      "outputs": [
        {
          "output_type": "execute_result",
          "data": {
            "text/plain": [
              "        Crash_Number City_Town_Name Crash_Date Crash_Time  \\\n",
              "112332       5200007         BOSTON  31-Dec-22    7:15 PM   \n",
              "112333       5195700         BOSTON  31-Dec-22    9:25 PM   \n",
              "112334       5195632         BOSTON  31-Dec-22   10:03 PM   \n",
              "112335       5195792         BOSTON  31-Dec-22   10:59 PM   \n",
              "112336       5197402         BOSTON  31-Dec-22   11:05 PM   \n",
              "\n",
              "                             Crash_Severity Maximum_Injury_Severity_Reported  \\\n",
              "112332  Property damage only (none injured)           No Apparent Injury (O)   \n",
              "112333  Property damage only (none injured)           No Apparent Injury (O)   \n",
              "112334  Property damage only (none injured)           No Apparent Injury (O)   \n",
              "112335  Property damage only (none injured)           No Apparent Injury (O)   \n",
              "112336  Property damage only (none injured)           No Apparent Injury (O)   \n",
              "\n",
              "        Number_of_Vehicles  Total_Nonfatal_Injuries  Total_Fatal_Injuries  \\\n",
              "112332                   2                        0                     0   \n",
              "112333                   3                        0                     0   \n",
              "112334                   1                        0                     0   \n",
              "112335                   1                        0                     0   \n",
              "112336                   1                        0                     0   \n",
              "\n",
              "         Manner_of_Collision  ...           Ambient_Light Weather_Condition  \\\n",
              "112332              Rear-end  ...  Dark - lighted roadway              Rain   \n",
              "112333              Rear-end  ...  Dark - lighted roadway              Rain   \n",
              "112334  Single vehicle crash  ...  Dark - lighted roadway              Rain   \n",
              "112335  Single vehicle crash  ...  Dark - lighted roadway              Rain   \n",
              "112336  Single vehicle crash  ...  Dark - lighted roadway              Rain   \n",
              "\n",
              "       At_Roadway_Intersection  \\\n",
              "112332                     NaN   \n",
              "112333                     NaN   \n",
              "112334                     NaN   \n",
              "112335                     NaN   \n",
              "112336                     NaN   \n",
              "\n",
              "               Distance_From_Nearest_Roadway_Intersection  \\\n",
              "112332                                           Rte 93 N   \n",
              "112333                     MORTON STREET / NORFOLK STREET   \n",
              "112334  MASSACHUSETTS TURNPIKE Rte I90 E / RAMP-MASSPO...   \n",
              "112335                                          Rte I93 N   \n",
              "112336                           1600 SOLDIERS FIELD ROAD   \n",
              "\n",
              "       Distance_From_Nearest_Milemarker Distance_From_Nearest_Exit  \\\n",
              "112332                              NaN       Exit 13A on Rte 93 N   \n",
              "112333                              NaN                        NaN   \n",
              "112334                              NaN                        NaN   \n",
              "112335                              NaN       Exit 18 on Rte I93 N   \n",
              "112336                              NaN                        NaN   \n",
              "\n",
              "       Distance_From_Nearest_Landmark Non_Motorist_Type X_Cooordinate  \\\n",
              "112332                            NaN               NaN   237419.5680   \n",
              "112333                            NaN               NaN   234060.8593   \n",
              "112334            TED WILLIAMS TUNNEL               NaN   238945.7940   \n",
              "112335                            NaN               NaN   236402.3281   \n",
              "112336    FRONT from ACURA DEALERSHIP               NaN   228756.4108   \n",
              "\n",
              "       Y_Cooordinate  \n",
              "112332   894077.9843  \n",
              "112333   892425.8129  \n",
              "112334   900677.6273  \n",
              "112335   901600.5844  \n",
              "112336   901136.7766  \n",
              "\n",
              "[5 rows x 25 columns]"
            ],
            "text/html": [
              "\n",
              "  <div id=\"df-2e6bfd38-a46a-4149-ba1e-05fcfaf86066\">\n",
              "    <div class=\"colab-df-container\">\n",
              "      <div>\n",
              "<style scoped>\n",
              "    .dataframe tbody tr th:only-of-type {\n",
              "        vertical-align: middle;\n",
              "    }\n",
              "\n",
              "    .dataframe tbody tr th {\n",
              "        vertical-align: top;\n",
              "    }\n",
              "\n",
              "    .dataframe thead th {\n",
              "        text-align: right;\n",
              "    }\n",
              "</style>\n",
              "<table border=\"1\" class=\"dataframe\">\n",
              "  <thead>\n",
              "    <tr style=\"text-align: right;\">\n",
              "      <th></th>\n",
              "      <th>Crash_Number</th>\n",
              "      <th>City_Town_Name</th>\n",
              "      <th>Crash_Date</th>\n",
              "      <th>Crash_Time</th>\n",
              "      <th>Crash_Severity</th>\n",
              "      <th>Maximum_Injury_Severity_Reported</th>\n",
              "      <th>Number_of_Vehicles</th>\n",
              "      <th>Total_Nonfatal_Injuries</th>\n",
              "      <th>Total_Fatal_Injuries</th>\n",
              "      <th>Manner_of_Collision</th>\n",
              "      <th>...</th>\n",
              "      <th>Ambient_Light</th>\n",
              "      <th>Weather_Condition</th>\n",
              "      <th>At_Roadway_Intersection</th>\n",
              "      <th>Distance_From_Nearest_Roadway_Intersection</th>\n",
              "      <th>Distance_From_Nearest_Milemarker</th>\n",
              "      <th>Distance_From_Nearest_Exit</th>\n",
              "      <th>Distance_From_Nearest_Landmark</th>\n",
              "      <th>Non_Motorist_Type</th>\n",
              "      <th>X_Cooordinate</th>\n",
              "      <th>Y_Cooordinate</th>\n",
              "    </tr>\n",
              "  </thead>\n",
              "  <tbody>\n",
              "    <tr>\n",
              "      <th>112332</th>\n",
              "      <td>5200007</td>\n",
              "      <td>BOSTON</td>\n",
              "      <td>31-Dec-22</td>\n",
              "      <td>7:15 PM</td>\n",
              "      <td>Property damage only (none injured)</td>\n",
              "      <td>No Apparent Injury (O)</td>\n",
              "      <td>2</td>\n",
              "      <td>0</td>\n",
              "      <td>0</td>\n",
              "      <td>Rear-end</td>\n",
              "      <td>...</td>\n",
              "      <td>Dark - lighted roadway</td>\n",
              "      <td>Rain</td>\n",
              "      <td>NaN</td>\n",
              "      <td>Rte 93 N</td>\n",
              "      <td>NaN</td>\n",
              "      <td>Exit 13A on Rte 93 N</td>\n",
              "      <td>NaN</td>\n",
              "      <td>NaN</td>\n",
              "      <td>237419.5680</td>\n",
              "      <td>894077.9843</td>\n",
              "    </tr>\n",
              "    <tr>\n",
              "      <th>112333</th>\n",
              "      <td>5195700</td>\n",
              "      <td>BOSTON</td>\n",
              "      <td>31-Dec-22</td>\n",
              "      <td>9:25 PM</td>\n",
              "      <td>Property damage only (none injured)</td>\n",
              "      <td>No Apparent Injury (O)</td>\n",
              "      <td>3</td>\n",
              "      <td>0</td>\n",
              "      <td>0</td>\n",
              "      <td>Rear-end</td>\n",
              "      <td>...</td>\n",
              "      <td>Dark - lighted roadway</td>\n",
              "      <td>Rain</td>\n",
              "      <td>NaN</td>\n",
              "      <td>MORTON STREET / NORFOLK STREET</td>\n",
              "      <td>NaN</td>\n",
              "      <td>NaN</td>\n",
              "      <td>NaN</td>\n",
              "      <td>NaN</td>\n",
              "      <td>234060.8593</td>\n",
              "      <td>892425.8129</td>\n",
              "    </tr>\n",
              "    <tr>\n",
              "      <th>112334</th>\n",
              "      <td>5195632</td>\n",
              "      <td>BOSTON</td>\n",
              "      <td>31-Dec-22</td>\n",
              "      <td>10:03 PM</td>\n",
              "      <td>Property damage only (none injured)</td>\n",
              "      <td>No Apparent Injury (O)</td>\n",
              "      <td>1</td>\n",
              "      <td>0</td>\n",
              "      <td>0</td>\n",
              "      <td>Single vehicle crash</td>\n",
              "      <td>...</td>\n",
              "      <td>Dark - lighted roadway</td>\n",
              "      <td>Rain</td>\n",
              "      <td>NaN</td>\n",
              "      <td>MASSACHUSETTS TURNPIKE Rte I90 E / RAMP-MASSPO...</td>\n",
              "      <td>NaN</td>\n",
              "      <td>NaN</td>\n",
              "      <td>TED WILLIAMS TUNNEL</td>\n",
              "      <td>NaN</td>\n",
              "      <td>238945.7940</td>\n",
              "      <td>900677.6273</td>\n",
              "    </tr>\n",
              "    <tr>\n",
              "      <th>112335</th>\n",
              "      <td>5195792</td>\n",
              "      <td>BOSTON</td>\n",
              "      <td>31-Dec-22</td>\n",
              "      <td>10:59 PM</td>\n",
              "      <td>Property damage only (none injured)</td>\n",
              "      <td>No Apparent Injury (O)</td>\n",
              "      <td>1</td>\n",
              "      <td>0</td>\n",
              "      <td>0</td>\n",
              "      <td>Single vehicle crash</td>\n",
              "      <td>...</td>\n",
              "      <td>Dark - lighted roadway</td>\n",
              "      <td>Rain</td>\n",
              "      <td>NaN</td>\n",
              "      <td>Rte I93 N</td>\n",
              "      <td>NaN</td>\n",
              "      <td>Exit 18 on Rte I93 N</td>\n",
              "      <td>NaN</td>\n",
              "      <td>NaN</td>\n",
              "      <td>236402.3281</td>\n",
              "      <td>901600.5844</td>\n",
              "    </tr>\n",
              "    <tr>\n",
              "      <th>112336</th>\n",
              "      <td>5197402</td>\n",
              "      <td>BOSTON</td>\n",
              "      <td>31-Dec-22</td>\n",
              "      <td>11:05 PM</td>\n",
              "      <td>Property damage only (none injured)</td>\n",
              "      <td>No Apparent Injury (O)</td>\n",
              "      <td>1</td>\n",
              "      <td>0</td>\n",
              "      <td>0</td>\n",
              "      <td>Single vehicle crash</td>\n",
              "      <td>...</td>\n",
              "      <td>Dark - lighted roadway</td>\n",
              "      <td>Rain</td>\n",
              "      <td>NaN</td>\n",
              "      <td>1600 SOLDIERS FIELD ROAD</td>\n",
              "      <td>NaN</td>\n",
              "      <td>NaN</td>\n",
              "      <td>FRONT from ACURA DEALERSHIP</td>\n",
              "      <td>NaN</td>\n",
              "      <td>228756.4108</td>\n",
              "      <td>901136.7766</td>\n",
              "    </tr>\n",
              "  </tbody>\n",
              "</table>\n",
              "<p>5 rows × 25 columns</p>\n",
              "</div>\n",
              "      <button class=\"colab-df-convert\" onclick=\"convertToInteractive('df-2e6bfd38-a46a-4149-ba1e-05fcfaf86066')\"\n",
              "              title=\"Convert this dataframe to an interactive table.\"\n",
              "              style=\"display:none;\">\n",
              "        \n",
              "  <svg xmlns=\"http://www.w3.org/2000/svg\" height=\"24px\"viewBox=\"0 0 24 24\"\n",
              "       width=\"24px\">\n",
              "    <path d=\"M0 0h24v24H0V0z\" fill=\"none\"/>\n",
              "    <path d=\"M18.56 5.44l.94 2.06.94-2.06 2.06-.94-2.06-.94-.94-2.06-.94 2.06-2.06.94zm-11 1L8.5 8.5l.94-2.06 2.06-.94-2.06-.94L8.5 2.5l-.94 2.06-2.06.94zm10 10l.94 2.06.94-2.06 2.06-.94-2.06-.94-.94-2.06-.94 2.06-2.06.94z\"/><path d=\"M17.41 7.96l-1.37-1.37c-.4-.4-.92-.59-1.43-.59-.52 0-1.04.2-1.43.59L10.3 9.45l-7.72 7.72c-.78.78-.78 2.05 0 2.83L4 21.41c.39.39.9.59 1.41.59.51 0 1.02-.2 1.41-.59l7.78-7.78 2.81-2.81c.8-.78.8-2.07 0-2.86zM5.41 20L4 18.59l7.72-7.72 1.47 1.35L5.41 20z\"/>\n",
              "  </svg>\n",
              "      </button>\n",
              "      \n",
              "  <style>\n",
              "    .colab-df-container {\n",
              "      display:flex;\n",
              "      flex-wrap:wrap;\n",
              "      gap: 12px;\n",
              "    }\n",
              "\n",
              "    .colab-df-convert {\n",
              "      background-color: #E8F0FE;\n",
              "      border: none;\n",
              "      border-radius: 50%;\n",
              "      cursor: pointer;\n",
              "      display: none;\n",
              "      fill: #1967D2;\n",
              "      height: 32px;\n",
              "      padding: 0 0 0 0;\n",
              "      width: 32px;\n",
              "    }\n",
              "\n",
              "    .colab-df-convert:hover {\n",
              "      background-color: #E2EBFA;\n",
              "      box-shadow: 0px 1px 2px rgba(60, 64, 67, 0.3), 0px 1px 3px 1px rgba(60, 64, 67, 0.15);\n",
              "      fill: #174EA6;\n",
              "    }\n",
              "\n",
              "    [theme=dark] .colab-df-convert {\n",
              "      background-color: #3B4455;\n",
              "      fill: #D2E3FC;\n",
              "    }\n",
              "\n",
              "    [theme=dark] .colab-df-convert:hover {\n",
              "      background-color: #434B5C;\n",
              "      box-shadow: 0px 1px 3px 1px rgba(0, 0, 0, 0.15);\n",
              "      filter: drop-shadow(0px 1px 2px rgba(0, 0, 0, 0.3));\n",
              "      fill: #FFFFFF;\n",
              "    }\n",
              "  </style>\n",
              "\n",
              "      <script>\n",
              "        const buttonEl =\n",
              "          document.querySelector('#df-2e6bfd38-a46a-4149-ba1e-05fcfaf86066 button.colab-df-convert');\n",
              "        buttonEl.style.display =\n",
              "          google.colab.kernel.accessAllowed ? 'block' : 'none';\n",
              "\n",
              "        async function convertToInteractive(key) {\n",
              "          const element = document.querySelector('#df-2e6bfd38-a46a-4149-ba1e-05fcfaf86066');\n",
              "          const dataTable =\n",
              "            await google.colab.kernel.invokeFunction('convertToInteractive',\n",
              "                                                     [key], {});\n",
              "          if (!dataTable) return;\n",
              "\n",
              "          const docLinkHtml = 'Like what you see? Visit the ' +\n",
              "            '<a target=\"_blank\" href=https://colab.research.google.com/notebooks/data_table.ipynb>data table notebook</a>'\n",
              "            + ' to learn more about interactive tables.';\n",
              "          element.innerHTML = '';\n",
              "          dataTable['output_type'] = 'display_data';\n",
              "          await google.colab.output.renderOutput(dataTable, element);\n",
              "          const docLink = document.createElement('div');\n",
              "          docLink.innerHTML = docLinkHtml;\n",
              "          element.appendChild(docLink);\n",
              "        }\n",
              "      </script>\n",
              "    </div>\n",
              "  </div>\n",
              "  "
            ]
          },
          "metadata": {},
          "execution_count": 7
        }
      ]
    },
    {
      "cell_type": "code",
      "source": [
        "#changing to date format\n",
        "crash_df[\"Crash_Date\"] = pd.to_datetime(crash_df[\"Crash_Date\"], format=\"%d-%b-%y\")"
      ],
      "metadata": {
        "id": "2r3hLebAgxl8"
      },
      "execution_count": 8,
      "outputs": []
    },
    {
      "cell_type": "code",
      "source": [
        "crash_df.head()"
      ],
      "metadata": {
        "id": "QuvAlDlqhdgq",
        "colab": {
          "base_uri": "https://localhost:8080/",
          "height": 456
        },
        "outputId": "162310d7-f5c6-4af6-9069-acca17e89060"
      },
      "execution_count": 9,
      "outputs": [
        {
          "output_type": "execute_result",
          "data": {
            "text/plain": [
              "   Crash_Number City_Town_Name Crash_Date Crash_Time  \\\n",
              "0       1496835         BOSTON 2002-01-01    1:30 AM   \n",
              "1       1413374         BOSTON 2002-01-01    1:35 AM   \n",
              "2       1572072         BOSTON 2002-01-01    2:00 AM   \n",
              "3       1583849         BOSTON 2002-01-01    2:00 AM   \n",
              "4       1612170         BOSTON 2002-01-01    2:40 AM   \n",
              "\n",
              "                        Crash_Severity       Maximum_Injury_Severity_Reported  \\\n",
              "0                     Non-fatal injury  Non-fatal injury - Non-incapacitating   \n",
              "1                     Non-fatal injury  Non-fatal injury - Non-incapacitating   \n",
              "2  Property damage only (none injured)                              No injury   \n",
              "3  Property damage only (none injured)                              No injury   \n",
              "4  Property damage only (none injured)                              No injury   \n",
              "\n",
              "   Number_of_Vehicles  Total_Nonfatal_Injuries  Total_Fatal_Injuries  \\\n",
              "0                   2                        2                     0   \n",
              "1                   2                        1                     0   \n",
              "2                   1                        0                     0   \n",
              "3                   1                        0                     0   \n",
              "4                   2                        0                     0   \n",
              "\n",
              "    Manner_of_Collision  ...           Ambient_Light Weather_Condition  \\\n",
              "0              Rear-end  ...  Dark - lighted roadway             Clear   \n",
              "1                 Angle  ...  Dark - lighted roadway             Clear   \n",
              "2  Single vehicle crash  ...  Dark - lighted roadway             Clear   \n",
              "3          Not reported  ...  Dark - lighted roadway        Clear/Rain   \n",
              "4              Rear-end  ...  Dark - lighted roadway       Clear/Clear   \n",
              "\n",
              "                             At_Roadway_Intersection  \\\n",
              "0  WASHINGTON STREET Rte 1 / M L KING BOULEVARD R...   \n",
              "1                     MORTON STREET / NORFOLK STREET   \n",
              "2                                                NaN   \n",
              "3              COMMONWEALTH AVENUE / BOYLSTON STREET   \n",
              "4                                                NaN   \n",
              "\n",
              "          Distance_From_Nearest_Roadway_Intersection  \\\n",
              "0  WASHINGTON STREET Rte 1 / M L KING BOULEVARD R...   \n",
              "1                     MORTON STREET / NORFOLK STREET   \n",
              "2                     MARKET STREET / LOTHROP STREET   \n",
              "3              COMMONWEALTH AVENUE / BOYLSTON STREET   \n",
              "4                                  101 BEACON STREET   \n",
              "\n",
              "  Distance_From_Nearest_Milemarker Distance_From_Nearest_Exit  \\\n",
              "0                              NaN                        NaN   \n",
              "1                              NaN                        NaN   \n",
              "2                              NaN                        NaN   \n",
              "3                              NaN                        NaN   \n",
              "4                              NaN                        NaN   \n",
              "\n",
              "  Distance_From_Nearest_Landmark Non_Motorist_Type X_Cooordinate Y_Cooordinate  \n",
              "0                            NaN               NaN           NaN           NaN  \n",
              "1                            NaN               NaN   234066.8436    892435.125  \n",
              "2           MASS TURNPIKE BRIDGE               NaN           NaN           NaN  \n",
              "3                            NaN               NaN           NaN           NaN  \n",
              "4                            NaN               NaN           NaN           NaN  \n",
              "\n",
              "[5 rows x 25 columns]"
            ],
            "text/html": [
              "\n",
              "  <div id=\"df-b4472fe6-d0f4-46ef-b54f-61c5c347afcb\">\n",
              "    <div class=\"colab-df-container\">\n",
              "      <div>\n",
              "<style scoped>\n",
              "    .dataframe tbody tr th:only-of-type {\n",
              "        vertical-align: middle;\n",
              "    }\n",
              "\n",
              "    .dataframe tbody tr th {\n",
              "        vertical-align: top;\n",
              "    }\n",
              "\n",
              "    .dataframe thead th {\n",
              "        text-align: right;\n",
              "    }\n",
              "</style>\n",
              "<table border=\"1\" class=\"dataframe\">\n",
              "  <thead>\n",
              "    <tr style=\"text-align: right;\">\n",
              "      <th></th>\n",
              "      <th>Crash_Number</th>\n",
              "      <th>City_Town_Name</th>\n",
              "      <th>Crash_Date</th>\n",
              "      <th>Crash_Time</th>\n",
              "      <th>Crash_Severity</th>\n",
              "      <th>Maximum_Injury_Severity_Reported</th>\n",
              "      <th>Number_of_Vehicles</th>\n",
              "      <th>Total_Nonfatal_Injuries</th>\n",
              "      <th>Total_Fatal_Injuries</th>\n",
              "      <th>Manner_of_Collision</th>\n",
              "      <th>...</th>\n",
              "      <th>Ambient_Light</th>\n",
              "      <th>Weather_Condition</th>\n",
              "      <th>At_Roadway_Intersection</th>\n",
              "      <th>Distance_From_Nearest_Roadway_Intersection</th>\n",
              "      <th>Distance_From_Nearest_Milemarker</th>\n",
              "      <th>Distance_From_Nearest_Exit</th>\n",
              "      <th>Distance_From_Nearest_Landmark</th>\n",
              "      <th>Non_Motorist_Type</th>\n",
              "      <th>X_Cooordinate</th>\n",
              "      <th>Y_Cooordinate</th>\n",
              "    </tr>\n",
              "  </thead>\n",
              "  <tbody>\n",
              "    <tr>\n",
              "      <th>0</th>\n",
              "      <td>1496835</td>\n",
              "      <td>BOSTON</td>\n",
              "      <td>2002-01-01</td>\n",
              "      <td>1:30 AM</td>\n",
              "      <td>Non-fatal injury</td>\n",
              "      <td>Non-fatal injury - Non-incapacitating</td>\n",
              "      <td>2</td>\n",
              "      <td>2</td>\n",
              "      <td>0</td>\n",
              "      <td>Rear-end</td>\n",
              "      <td>...</td>\n",
              "      <td>Dark - lighted roadway</td>\n",
              "      <td>Clear</td>\n",
              "      <td>WASHINGTON STREET Rte 1 / M L KING BOULEVARD R...</td>\n",
              "      <td>WASHINGTON STREET Rte 1 / M L KING BOULEVARD R...</td>\n",
              "      <td>NaN</td>\n",
              "      <td>NaN</td>\n",
              "      <td>NaN</td>\n",
              "      <td>NaN</td>\n",
              "      <td>NaN</td>\n",
              "      <td>NaN</td>\n",
              "    </tr>\n",
              "    <tr>\n",
              "      <th>1</th>\n",
              "      <td>1413374</td>\n",
              "      <td>BOSTON</td>\n",
              "      <td>2002-01-01</td>\n",
              "      <td>1:35 AM</td>\n",
              "      <td>Non-fatal injury</td>\n",
              "      <td>Non-fatal injury - Non-incapacitating</td>\n",
              "      <td>2</td>\n",
              "      <td>1</td>\n",
              "      <td>0</td>\n",
              "      <td>Angle</td>\n",
              "      <td>...</td>\n",
              "      <td>Dark - lighted roadway</td>\n",
              "      <td>Clear</td>\n",
              "      <td>MORTON STREET / NORFOLK STREET</td>\n",
              "      <td>MORTON STREET / NORFOLK STREET</td>\n",
              "      <td>NaN</td>\n",
              "      <td>NaN</td>\n",
              "      <td>NaN</td>\n",
              "      <td>NaN</td>\n",
              "      <td>234066.8436</td>\n",
              "      <td>892435.125</td>\n",
              "    </tr>\n",
              "    <tr>\n",
              "      <th>2</th>\n",
              "      <td>1572072</td>\n",
              "      <td>BOSTON</td>\n",
              "      <td>2002-01-01</td>\n",
              "      <td>2:00 AM</td>\n",
              "      <td>Property damage only (none injured)</td>\n",
              "      <td>No injury</td>\n",
              "      <td>1</td>\n",
              "      <td>0</td>\n",
              "      <td>0</td>\n",
              "      <td>Single vehicle crash</td>\n",
              "      <td>...</td>\n",
              "      <td>Dark - lighted roadway</td>\n",
              "      <td>Clear</td>\n",
              "      <td>NaN</td>\n",
              "      <td>MARKET STREET / LOTHROP STREET</td>\n",
              "      <td>NaN</td>\n",
              "      <td>NaN</td>\n",
              "      <td>MASS TURNPIKE BRIDGE</td>\n",
              "      <td>NaN</td>\n",
              "      <td>NaN</td>\n",
              "      <td>NaN</td>\n",
              "    </tr>\n",
              "    <tr>\n",
              "      <th>3</th>\n",
              "      <td>1583849</td>\n",
              "      <td>BOSTON</td>\n",
              "      <td>2002-01-01</td>\n",
              "      <td>2:00 AM</td>\n",
              "      <td>Property damage only (none injured)</td>\n",
              "      <td>No injury</td>\n",
              "      <td>1</td>\n",
              "      <td>0</td>\n",
              "      <td>0</td>\n",
              "      <td>Not reported</td>\n",
              "      <td>...</td>\n",
              "      <td>Dark - lighted roadway</td>\n",
              "      <td>Clear/Rain</td>\n",
              "      <td>COMMONWEALTH AVENUE / BOYLSTON STREET</td>\n",
              "      <td>COMMONWEALTH AVENUE / BOYLSTON STREET</td>\n",
              "      <td>NaN</td>\n",
              "      <td>NaN</td>\n",
              "      <td>NaN</td>\n",
              "      <td>NaN</td>\n",
              "      <td>NaN</td>\n",
              "      <td>NaN</td>\n",
              "    </tr>\n",
              "    <tr>\n",
              "      <th>4</th>\n",
              "      <td>1612170</td>\n",
              "      <td>BOSTON</td>\n",
              "      <td>2002-01-01</td>\n",
              "      <td>2:40 AM</td>\n",
              "      <td>Property damage only (none injured)</td>\n",
              "      <td>No injury</td>\n",
              "      <td>2</td>\n",
              "      <td>0</td>\n",
              "      <td>0</td>\n",
              "      <td>Rear-end</td>\n",
              "      <td>...</td>\n",
              "      <td>Dark - lighted roadway</td>\n",
              "      <td>Clear/Clear</td>\n",
              "      <td>NaN</td>\n",
              "      <td>101 BEACON STREET</td>\n",
              "      <td>NaN</td>\n",
              "      <td>NaN</td>\n",
              "      <td>NaN</td>\n",
              "      <td>NaN</td>\n",
              "      <td>NaN</td>\n",
              "      <td>NaN</td>\n",
              "    </tr>\n",
              "  </tbody>\n",
              "</table>\n",
              "<p>5 rows × 25 columns</p>\n",
              "</div>\n",
              "      <button class=\"colab-df-convert\" onclick=\"convertToInteractive('df-b4472fe6-d0f4-46ef-b54f-61c5c347afcb')\"\n",
              "              title=\"Convert this dataframe to an interactive table.\"\n",
              "              style=\"display:none;\">\n",
              "        \n",
              "  <svg xmlns=\"http://www.w3.org/2000/svg\" height=\"24px\"viewBox=\"0 0 24 24\"\n",
              "       width=\"24px\">\n",
              "    <path d=\"M0 0h24v24H0V0z\" fill=\"none\"/>\n",
              "    <path d=\"M18.56 5.44l.94 2.06.94-2.06 2.06-.94-2.06-.94-.94-2.06-.94 2.06-2.06.94zm-11 1L8.5 8.5l.94-2.06 2.06-.94-2.06-.94L8.5 2.5l-.94 2.06-2.06.94zm10 10l.94 2.06.94-2.06 2.06-.94-2.06-.94-.94-2.06-.94 2.06-2.06.94z\"/><path d=\"M17.41 7.96l-1.37-1.37c-.4-.4-.92-.59-1.43-.59-.52 0-1.04.2-1.43.59L10.3 9.45l-7.72 7.72c-.78.78-.78 2.05 0 2.83L4 21.41c.39.39.9.59 1.41.59.51 0 1.02-.2 1.41-.59l7.78-7.78 2.81-2.81c.8-.78.8-2.07 0-2.86zM5.41 20L4 18.59l7.72-7.72 1.47 1.35L5.41 20z\"/>\n",
              "  </svg>\n",
              "      </button>\n",
              "      \n",
              "  <style>\n",
              "    .colab-df-container {\n",
              "      display:flex;\n",
              "      flex-wrap:wrap;\n",
              "      gap: 12px;\n",
              "    }\n",
              "\n",
              "    .colab-df-convert {\n",
              "      background-color: #E8F0FE;\n",
              "      border: none;\n",
              "      border-radius: 50%;\n",
              "      cursor: pointer;\n",
              "      display: none;\n",
              "      fill: #1967D2;\n",
              "      height: 32px;\n",
              "      padding: 0 0 0 0;\n",
              "      width: 32px;\n",
              "    }\n",
              "\n",
              "    .colab-df-convert:hover {\n",
              "      background-color: #E2EBFA;\n",
              "      box-shadow: 0px 1px 2px rgba(60, 64, 67, 0.3), 0px 1px 3px 1px rgba(60, 64, 67, 0.15);\n",
              "      fill: #174EA6;\n",
              "    }\n",
              "\n",
              "    [theme=dark] .colab-df-convert {\n",
              "      background-color: #3B4455;\n",
              "      fill: #D2E3FC;\n",
              "    }\n",
              "\n",
              "    [theme=dark] .colab-df-convert:hover {\n",
              "      background-color: #434B5C;\n",
              "      box-shadow: 0px 1px 3px 1px rgba(0, 0, 0, 0.15);\n",
              "      filter: drop-shadow(0px 1px 2px rgba(0, 0, 0, 0.3));\n",
              "      fill: #FFFFFF;\n",
              "    }\n",
              "  </style>\n",
              "\n",
              "      <script>\n",
              "        const buttonEl =\n",
              "          document.querySelector('#df-b4472fe6-d0f4-46ef-b54f-61c5c347afcb button.colab-df-convert');\n",
              "        buttonEl.style.display =\n",
              "          google.colab.kernel.accessAllowed ? 'block' : 'none';\n",
              "\n",
              "        async function convertToInteractive(key) {\n",
              "          const element = document.querySelector('#df-b4472fe6-d0f4-46ef-b54f-61c5c347afcb');\n",
              "          const dataTable =\n",
              "            await google.colab.kernel.invokeFunction('convertToInteractive',\n",
              "                                                     [key], {});\n",
              "          if (!dataTable) return;\n",
              "\n",
              "          const docLinkHtml = 'Like what you see? Visit the ' +\n",
              "            '<a target=\"_blank\" href=https://colab.research.google.com/notebooks/data_table.ipynb>data table notebook</a>'\n",
              "            + ' to learn more about interactive tables.';\n",
              "          element.innerHTML = '';\n",
              "          dataTable['output_type'] = 'display_data';\n",
              "          await google.colab.output.renderOutput(dataTable, element);\n",
              "          const docLink = document.createElement('div');\n",
              "          docLink.innerHTML = docLinkHtml;\n",
              "          element.appendChild(docLink);\n",
              "        }\n",
              "      </script>\n",
              "    </div>\n",
              "  </div>\n",
              "  "
            ]
          },
          "metadata": {},
          "execution_count": 9
        }
      ]
    },
    {
      "cell_type": "code",
      "source": [
        "#checking data types\n",
        "crash_df.dtypes"
      ],
      "metadata": {
        "id": "eSQQzKy9gzux",
        "colab": {
          "base_uri": "https://localhost:8080/"
        },
        "outputId": "90ce7224-a5f5-4aeb-b699-c5aedc470f00"
      },
      "execution_count": 10,
      "outputs": [
        {
          "output_type": "execute_result",
          "data": {
            "text/plain": [
              "Crash_Number                                           int64\n",
              "City_Town_Name                                        object\n",
              "Crash_Date                                    datetime64[ns]\n",
              "Crash_Time                                            object\n",
              "Crash_Severity                                        object\n",
              "Maximum_Injury_Severity_Reported                      object\n",
              "Number_of_Vehicles                                     int64\n",
              "Total_Nonfatal_Injuries                                int64\n",
              "Total_Fatal_Injuries                                   int64\n",
              "Manner_of_Collision                                   object\n",
              "Vehicle_Action_Prior_to_Crash                         object\n",
              "Vehicle_Travel_Directions                             object\n",
              "Most_Harmful_Events                                   object\n",
              "Vehicle_Configuration                                 object\n",
              "Road_Surface_Condition                                object\n",
              "Ambient_Light                                         object\n",
              "Weather_Condition                                     object\n",
              "At_Roadway_Intersection                               object\n",
              "Distance_From_Nearest_Roadway_Intersection            object\n",
              "Distance_From_Nearest_Milemarker                      object\n",
              "Distance_From_Nearest_Exit                            object\n",
              "Distance_From_Nearest_Landmark                        object\n",
              "Non_Motorist_Type                                     object\n",
              "X_Cooordinate                                        float64\n",
              "Y_Cooordinate                                        float64\n",
              "dtype: object"
            ]
          },
          "metadata": {},
          "execution_count": 10
        }
      ]
    },
    {
      "cell_type": "code",
      "source": [
        "#removing these columns\n",
        "crash_df = crash_df.drop([\"Vehicle_Travel_Directions\",\"Most_Harmful_Events\"],axis=1)"
      ],
      "metadata": {
        "id": "eeu3KhWcg-fT"
      },
      "execution_count": 11,
      "outputs": []
    },
    {
      "cell_type": "code",
      "source": [
        "#keeping only records >= 2012-01-01\n",
        "crash_df = crash_df[(crash_df[\"Crash_Date\"] >= \"2012-01-01\")]"
      ],
      "metadata": {
        "id": "H35SiHWChkV1"
      },
      "execution_count": 12,
      "outputs": []
    },
    {
      "cell_type": "code",
      "source": [
        "crash_df.info()"
      ],
      "metadata": {
        "id": "Qo4ZqGeng3Qe",
        "colab": {
          "base_uri": "https://localhost:8080/"
        },
        "outputId": "9c7f5d1f-83c7-4dbe-8d04-f2e48b9855d2"
      },
      "execution_count": 13,
      "outputs": [
        {
          "output_type": "stream",
          "name": "stdout",
          "text": [
            "<class 'pandas.core.frame.DataFrame'>\n",
            "Int64Index: 45980 entries, 66357 to 112336\n",
            "Data columns (total 23 columns):\n",
            " #   Column                                      Non-Null Count  Dtype         \n",
            "---  ------                                      --------------  -----         \n",
            " 0   Crash_Number                                45980 non-null  int64         \n",
            " 1   City_Town_Name                              45980 non-null  object        \n",
            " 2   Crash_Date                                  45980 non-null  datetime64[ns]\n",
            " 3   Crash_Time                                  45980 non-null  object        \n",
            " 4   Crash_Severity                              45980 non-null  object        \n",
            " 5   Maximum_Injury_Severity_Reported            45980 non-null  object        \n",
            " 6   Number_of_Vehicles                          45980 non-null  int64         \n",
            " 7   Total_Nonfatal_Injuries                     45980 non-null  int64         \n",
            " 8   Total_Fatal_Injuries                        45980 non-null  int64         \n",
            " 9   Manner_of_Collision                         45975 non-null  object        \n",
            " 10  Vehicle_Action_Prior_to_Crash               45972 non-null  object        \n",
            " 11  Vehicle_Configuration                       45767 non-null  object        \n",
            " 12  Road_Surface_Condition                      45612 non-null  object        \n",
            " 13  Ambient_Light                               45979 non-null  object        \n",
            " 14  Weather_Condition                           45980 non-null  object        \n",
            " 15  At_Roadway_Intersection                     12920 non-null  object        \n",
            " 16  Distance_From_Nearest_Roadway_Intersection  45676 non-null  object        \n",
            " 17  Distance_From_Nearest_Milemarker            2683 non-null   object        \n",
            " 18  Distance_From_Nearest_Exit                  9459 non-null   object        \n",
            " 19  Distance_From_Nearest_Landmark              10272 non-null  object        \n",
            " 20  Non_Motorist_Type                           2518 non-null   object        \n",
            " 21  X_Cooordinate                               44081 non-null  float64       \n",
            " 22  Y_Cooordinate                               44081 non-null  float64       \n",
            "dtypes: datetime64[ns](1), float64(2), int64(4), object(16)\n",
            "memory usage: 8.4+ MB\n"
          ]
        }
      ]
    },
    {
      "cell_type": "code",
      "source": [
        "#checking null values\n",
        "crash_df.isnull().sum()"
      ],
      "metadata": {
        "id": "aRkAYZPGg6UQ",
        "colab": {
          "base_uri": "https://localhost:8080/"
        },
        "outputId": "66fa3ea9-c68e-40a3-c202-fa74f946c152"
      },
      "execution_count": 14,
      "outputs": [
        {
          "output_type": "execute_result",
          "data": {
            "text/plain": [
              "Crash_Number                                      0\n",
              "City_Town_Name                                    0\n",
              "Crash_Date                                        0\n",
              "Crash_Time                                        0\n",
              "Crash_Severity                                    0\n",
              "Maximum_Injury_Severity_Reported                  0\n",
              "Number_of_Vehicles                                0\n",
              "Total_Nonfatal_Injuries                           0\n",
              "Total_Fatal_Injuries                              0\n",
              "Manner_of_Collision                               5\n",
              "Vehicle_Action_Prior_to_Crash                     8\n",
              "Vehicle_Configuration                           213\n",
              "Road_Surface_Condition                          368\n",
              "Ambient_Light                                     1\n",
              "Weather_Condition                                 0\n",
              "At_Roadway_Intersection                       33060\n",
              "Distance_From_Nearest_Roadway_Intersection      304\n",
              "Distance_From_Nearest_Milemarker              43297\n",
              "Distance_From_Nearest_Exit                    36521\n",
              "Distance_From_Nearest_Landmark                35708\n",
              "Non_Motorist_Type                             43462\n",
              "X_Cooordinate                                  1899\n",
              "Y_Cooordinate                                  1899\n",
              "dtype: int64"
            ]
          },
          "metadata": {},
          "execution_count": 14
        }
      ]
    },
    {
      "cell_type": "code",
      "source": [
        "crash_df[\"Vehicle_Configuration\"].nunique()"
      ],
      "metadata": {
        "id": "4lXQEqciWNTP",
        "colab": {
          "base_uri": "https://localhost:8080/"
        },
        "outputId": "da7c7637-f0b3-49a9-8be2-10284dd15a96"
      },
      "execution_count": 15,
      "outputs": [
        {
          "output_type": "execute_result",
          "data": {
            "text/plain": [
              "655"
            ]
          },
          "metadata": {},
          "execution_count": 15
        }
      ]
    },
    {
      "cell_type": "code",
      "source": [
        "#checking duplicated values\n",
        "crash_df.duplicated().sum()"
      ],
      "metadata": {
        "id": "cLelAAhbjM59",
        "colab": {
          "base_uri": "https://localhost:8080/"
        },
        "outputId": "5ad8a92e-7ca1-4c80-c638-55b69190b573"
      },
      "execution_count": 16,
      "outputs": [
        {
          "output_type": "execute_result",
          "data": {
            "text/plain": [
              "0"
            ]
          },
          "metadata": {},
          "execution_count": 16
        }
      ]
    },
    {
      "cell_type": "code",
      "source": [
        "#checking null rows\n",
        "crash_df.isnull()"
      ],
      "metadata": {
        "id": "u9SIn-grm0HI",
        "colab": {
          "base_uri": "https://localhost:8080/",
          "height": 488
        },
        "outputId": "4137910d-6cdc-475f-9a3d-7f7507f65ad4"
      },
      "execution_count": 17,
      "outputs": [
        {
          "output_type": "execute_result",
          "data": {
            "text/plain": [
              "        Crash_Number  City_Town_Name  Crash_Date  Crash_Time  Crash_Severity  \\\n",
              "66357          False           False       False       False           False   \n",
              "66358          False           False       False       False           False   \n",
              "66359          False           False       False       False           False   \n",
              "66360          False           False       False       False           False   \n",
              "66361          False           False       False       False           False   \n",
              "...              ...             ...         ...         ...             ...   \n",
              "112332         False           False       False       False           False   \n",
              "112333         False           False       False       False           False   \n",
              "112334         False           False       False       False           False   \n",
              "112335         False           False       False       False           False   \n",
              "112336         False           False       False       False           False   \n",
              "\n",
              "        Maximum_Injury_Severity_Reported  Number_of_Vehicles  \\\n",
              "66357                              False               False   \n",
              "66358                              False               False   \n",
              "66359                              False               False   \n",
              "66360                              False               False   \n",
              "66361                              False               False   \n",
              "...                                  ...                 ...   \n",
              "112332                             False               False   \n",
              "112333                             False               False   \n",
              "112334                             False               False   \n",
              "112335                             False               False   \n",
              "112336                             False               False   \n",
              "\n",
              "        Total_Nonfatal_Injuries  Total_Fatal_Injuries  Manner_of_Collision  \\\n",
              "66357                     False                 False                False   \n",
              "66358                     False                 False                False   \n",
              "66359                     False                 False                False   \n",
              "66360                     False                 False                False   \n",
              "66361                     False                 False                False   \n",
              "...                         ...                   ...                  ...   \n",
              "112332                    False                 False                False   \n",
              "112333                    False                 False                False   \n",
              "112334                    False                 False                False   \n",
              "112335                    False                 False                False   \n",
              "112336                    False                 False                False   \n",
              "\n",
              "        ...  Ambient_Light  Weather_Condition  At_Roadway_Intersection  \\\n",
              "66357   ...          False              False                     True   \n",
              "66358   ...          False              False                     True   \n",
              "66359   ...          False              False                    False   \n",
              "66360   ...          False              False                     True   \n",
              "66361   ...          False              False                     True   \n",
              "...     ...            ...                ...                      ...   \n",
              "112332  ...          False              False                     True   \n",
              "112333  ...          False              False                     True   \n",
              "112334  ...          False              False                     True   \n",
              "112335  ...          False              False                     True   \n",
              "112336  ...          False              False                     True   \n",
              "\n",
              "        Distance_From_Nearest_Roadway_Intersection  \\\n",
              "66357                                        False   \n",
              "66358                                        False   \n",
              "66359                                        False   \n",
              "66360                                        False   \n",
              "66361                                        False   \n",
              "...                                            ...   \n",
              "112332                                       False   \n",
              "112333                                       False   \n",
              "112334                                       False   \n",
              "112335                                       False   \n",
              "112336                                       False   \n",
              "\n",
              "        Distance_From_Nearest_Milemarker  Distance_From_Nearest_Exit  \\\n",
              "66357                               True                        True   \n",
              "66358                               True                        True   \n",
              "66359                               True                        True   \n",
              "66360                               True                        True   \n",
              "66361                               True                        True   \n",
              "...                                  ...                         ...   \n",
              "112332                              True                       False   \n",
              "112333                              True                        True   \n",
              "112334                              True                        True   \n",
              "112335                              True                       False   \n",
              "112336                              True                        True   \n",
              "\n",
              "        Distance_From_Nearest_Landmark  Non_Motorist_Type  X_Cooordinate  \\\n",
              "66357                             True               True          False   \n",
              "66358                             True               True          False   \n",
              "66359                             True               True          False   \n",
              "66360                             True               True          False   \n",
              "66361                             True               True           True   \n",
              "...                                ...                ...            ...   \n",
              "112332                            True               True          False   \n",
              "112333                            True               True          False   \n",
              "112334                           False               True          False   \n",
              "112335                            True               True          False   \n",
              "112336                           False               True          False   \n",
              "\n",
              "        Y_Cooordinate  \n",
              "66357           False  \n",
              "66358           False  \n",
              "66359           False  \n",
              "66360           False  \n",
              "66361            True  \n",
              "...               ...  \n",
              "112332          False  \n",
              "112333          False  \n",
              "112334          False  \n",
              "112335          False  \n",
              "112336          False  \n",
              "\n",
              "[45980 rows x 23 columns]"
            ],
            "text/html": [
              "\n",
              "  <div id=\"df-830f8532-86db-4466-a59c-912d48f9dc3b\">\n",
              "    <div class=\"colab-df-container\">\n",
              "      <div>\n",
              "<style scoped>\n",
              "    .dataframe tbody tr th:only-of-type {\n",
              "        vertical-align: middle;\n",
              "    }\n",
              "\n",
              "    .dataframe tbody tr th {\n",
              "        vertical-align: top;\n",
              "    }\n",
              "\n",
              "    .dataframe thead th {\n",
              "        text-align: right;\n",
              "    }\n",
              "</style>\n",
              "<table border=\"1\" class=\"dataframe\">\n",
              "  <thead>\n",
              "    <tr style=\"text-align: right;\">\n",
              "      <th></th>\n",
              "      <th>Crash_Number</th>\n",
              "      <th>City_Town_Name</th>\n",
              "      <th>Crash_Date</th>\n",
              "      <th>Crash_Time</th>\n",
              "      <th>Crash_Severity</th>\n",
              "      <th>Maximum_Injury_Severity_Reported</th>\n",
              "      <th>Number_of_Vehicles</th>\n",
              "      <th>Total_Nonfatal_Injuries</th>\n",
              "      <th>Total_Fatal_Injuries</th>\n",
              "      <th>Manner_of_Collision</th>\n",
              "      <th>...</th>\n",
              "      <th>Ambient_Light</th>\n",
              "      <th>Weather_Condition</th>\n",
              "      <th>At_Roadway_Intersection</th>\n",
              "      <th>Distance_From_Nearest_Roadway_Intersection</th>\n",
              "      <th>Distance_From_Nearest_Milemarker</th>\n",
              "      <th>Distance_From_Nearest_Exit</th>\n",
              "      <th>Distance_From_Nearest_Landmark</th>\n",
              "      <th>Non_Motorist_Type</th>\n",
              "      <th>X_Cooordinate</th>\n",
              "      <th>Y_Cooordinate</th>\n",
              "    </tr>\n",
              "  </thead>\n",
              "  <tbody>\n",
              "    <tr>\n",
              "      <th>66357</th>\n",
              "      <td>False</td>\n",
              "      <td>False</td>\n",
              "      <td>False</td>\n",
              "      <td>False</td>\n",
              "      <td>False</td>\n",
              "      <td>False</td>\n",
              "      <td>False</td>\n",
              "      <td>False</td>\n",
              "      <td>False</td>\n",
              "      <td>False</td>\n",
              "      <td>...</td>\n",
              "      <td>False</td>\n",
              "      <td>False</td>\n",
              "      <td>True</td>\n",
              "      <td>False</td>\n",
              "      <td>True</td>\n",
              "      <td>True</td>\n",
              "      <td>True</td>\n",
              "      <td>True</td>\n",
              "      <td>False</td>\n",
              "      <td>False</td>\n",
              "    </tr>\n",
              "    <tr>\n",
              "      <th>66358</th>\n",
              "      <td>False</td>\n",
              "      <td>False</td>\n",
              "      <td>False</td>\n",
              "      <td>False</td>\n",
              "      <td>False</td>\n",
              "      <td>False</td>\n",
              "      <td>False</td>\n",
              "      <td>False</td>\n",
              "      <td>False</td>\n",
              "      <td>False</td>\n",
              "      <td>...</td>\n",
              "      <td>False</td>\n",
              "      <td>False</td>\n",
              "      <td>True</td>\n",
              "      <td>False</td>\n",
              "      <td>True</td>\n",
              "      <td>True</td>\n",
              "      <td>True</td>\n",
              "      <td>True</td>\n",
              "      <td>False</td>\n",
              "      <td>False</td>\n",
              "    </tr>\n",
              "    <tr>\n",
              "      <th>66359</th>\n",
              "      <td>False</td>\n",
              "      <td>False</td>\n",
              "      <td>False</td>\n",
              "      <td>False</td>\n",
              "      <td>False</td>\n",
              "      <td>False</td>\n",
              "      <td>False</td>\n",
              "      <td>False</td>\n",
              "      <td>False</td>\n",
              "      <td>False</td>\n",
              "      <td>...</td>\n",
              "      <td>False</td>\n",
              "      <td>False</td>\n",
              "      <td>False</td>\n",
              "      <td>False</td>\n",
              "      <td>True</td>\n",
              "      <td>True</td>\n",
              "      <td>True</td>\n",
              "      <td>True</td>\n",
              "      <td>False</td>\n",
              "      <td>False</td>\n",
              "    </tr>\n",
              "    <tr>\n",
              "      <th>66360</th>\n",
              "      <td>False</td>\n",
              "      <td>False</td>\n",
              "      <td>False</td>\n",
              "      <td>False</td>\n",
              "      <td>False</td>\n",
              "      <td>False</td>\n",
              "      <td>False</td>\n",
              "      <td>False</td>\n",
              "      <td>False</td>\n",
              "      <td>False</td>\n",
              "      <td>...</td>\n",
              "      <td>False</td>\n",
              "      <td>False</td>\n",
              "      <td>True</td>\n",
              "      <td>False</td>\n",
              "      <td>True</td>\n",
              "      <td>True</td>\n",
              "      <td>True</td>\n",
              "      <td>True</td>\n",
              "      <td>False</td>\n",
              "      <td>False</td>\n",
              "    </tr>\n",
              "    <tr>\n",
              "      <th>66361</th>\n",
              "      <td>False</td>\n",
              "      <td>False</td>\n",
              "      <td>False</td>\n",
              "      <td>False</td>\n",
              "      <td>False</td>\n",
              "      <td>False</td>\n",
              "      <td>False</td>\n",
              "      <td>False</td>\n",
              "      <td>False</td>\n",
              "      <td>False</td>\n",
              "      <td>...</td>\n",
              "      <td>False</td>\n",
              "      <td>False</td>\n",
              "      <td>True</td>\n",
              "      <td>False</td>\n",
              "      <td>True</td>\n",
              "      <td>True</td>\n",
              "      <td>True</td>\n",
              "      <td>True</td>\n",
              "      <td>True</td>\n",
              "      <td>True</td>\n",
              "    </tr>\n",
              "    <tr>\n",
              "      <th>...</th>\n",
              "      <td>...</td>\n",
              "      <td>...</td>\n",
              "      <td>...</td>\n",
              "      <td>...</td>\n",
              "      <td>...</td>\n",
              "      <td>...</td>\n",
              "      <td>...</td>\n",
              "      <td>...</td>\n",
              "      <td>...</td>\n",
              "      <td>...</td>\n",
              "      <td>...</td>\n",
              "      <td>...</td>\n",
              "      <td>...</td>\n",
              "      <td>...</td>\n",
              "      <td>...</td>\n",
              "      <td>...</td>\n",
              "      <td>...</td>\n",
              "      <td>...</td>\n",
              "      <td>...</td>\n",
              "      <td>...</td>\n",
              "      <td>...</td>\n",
              "    </tr>\n",
              "    <tr>\n",
              "      <th>112332</th>\n",
              "      <td>False</td>\n",
              "      <td>False</td>\n",
              "      <td>False</td>\n",
              "      <td>False</td>\n",
              "      <td>False</td>\n",
              "      <td>False</td>\n",
              "      <td>False</td>\n",
              "      <td>False</td>\n",
              "      <td>False</td>\n",
              "      <td>False</td>\n",
              "      <td>...</td>\n",
              "      <td>False</td>\n",
              "      <td>False</td>\n",
              "      <td>True</td>\n",
              "      <td>False</td>\n",
              "      <td>True</td>\n",
              "      <td>False</td>\n",
              "      <td>True</td>\n",
              "      <td>True</td>\n",
              "      <td>False</td>\n",
              "      <td>False</td>\n",
              "    </tr>\n",
              "    <tr>\n",
              "      <th>112333</th>\n",
              "      <td>False</td>\n",
              "      <td>False</td>\n",
              "      <td>False</td>\n",
              "      <td>False</td>\n",
              "      <td>False</td>\n",
              "      <td>False</td>\n",
              "      <td>False</td>\n",
              "      <td>False</td>\n",
              "      <td>False</td>\n",
              "      <td>False</td>\n",
              "      <td>...</td>\n",
              "      <td>False</td>\n",
              "      <td>False</td>\n",
              "      <td>True</td>\n",
              "      <td>False</td>\n",
              "      <td>True</td>\n",
              "      <td>True</td>\n",
              "      <td>True</td>\n",
              "      <td>True</td>\n",
              "      <td>False</td>\n",
              "      <td>False</td>\n",
              "    </tr>\n",
              "    <tr>\n",
              "      <th>112334</th>\n",
              "      <td>False</td>\n",
              "      <td>False</td>\n",
              "      <td>False</td>\n",
              "      <td>False</td>\n",
              "      <td>False</td>\n",
              "      <td>False</td>\n",
              "      <td>False</td>\n",
              "      <td>False</td>\n",
              "      <td>False</td>\n",
              "      <td>False</td>\n",
              "      <td>...</td>\n",
              "      <td>False</td>\n",
              "      <td>False</td>\n",
              "      <td>True</td>\n",
              "      <td>False</td>\n",
              "      <td>True</td>\n",
              "      <td>True</td>\n",
              "      <td>False</td>\n",
              "      <td>True</td>\n",
              "      <td>False</td>\n",
              "      <td>False</td>\n",
              "    </tr>\n",
              "    <tr>\n",
              "      <th>112335</th>\n",
              "      <td>False</td>\n",
              "      <td>False</td>\n",
              "      <td>False</td>\n",
              "      <td>False</td>\n",
              "      <td>False</td>\n",
              "      <td>False</td>\n",
              "      <td>False</td>\n",
              "      <td>False</td>\n",
              "      <td>False</td>\n",
              "      <td>False</td>\n",
              "      <td>...</td>\n",
              "      <td>False</td>\n",
              "      <td>False</td>\n",
              "      <td>True</td>\n",
              "      <td>False</td>\n",
              "      <td>True</td>\n",
              "      <td>False</td>\n",
              "      <td>True</td>\n",
              "      <td>True</td>\n",
              "      <td>False</td>\n",
              "      <td>False</td>\n",
              "    </tr>\n",
              "    <tr>\n",
              "      <th>112336</th>\n",
              "      <td>False</td>\n",
              "      <td>False</td>\n",
              "      <td>False</td>\n",
              "      <td>False</td>\n",
              "      <td>False</td>\n",
              "      <td>False</td>\n",
              "      <td>False</td>\n",
              "      <td>False</td>\n",
              "      <td>False</td>\n",
              "      <td>False</td>\n",
              "      <td>...</td>\n",
              "      <td>False</td>\n",
              "      <td>False</td>\n",
              "      <td>True</td>\n",
              "      <td>False</td>\n",
              "      <td>True</td>\n",
              "      <td>True</td>\n",
              "      <td>False</td>\n",
              "      <td>True</td>\n",
              "      <td>False</td>\n",
              "      <td>False</td>\n",
              "    </tr>\n",
              "  </tbody>\n",
              "</table>\n",
              "<p>45980 rows × 23 columns</p>\n",
              "</div>\n",
              "      <button class=\"colab-df-convert\" onclick=\"convertToInteractive('df-830f8532-86db-4466-a59c-912d48f9dc3b')\"\n",
              "              title=\"Convert this dataframe to an interactive table.\"\n",
              "              style=\"display:none;\">\n",
              "        \n",
              "  <svg xmlns=\"http://www.w3.org/2000/svg\" height=\"24px\"viewBox=\"0 0 24 24\"\n",
              "       width=\"24px\">\n",
              "    <path d=\"M0 0h24v24H0V0z\" fill=\"none\"/>\n",
              "    <path d=\"M18.56 5.44l.94 2.06.94-2.06 2.06-.94-2.06-.94-.94-2.06-.94 2.06-2.06.94zm-11 1L8.5 8.5l.94-2.06 2.06-.94-2.06-.94L8.5 2.5l-.94 2.06-2.06.94zm10 10l.94 2.06.94-2.06 2.06-.94-2.06-.94-.94-2.06-.94 2.06-2.06.94z\"/><path d=\"M17.41 7.96l-1.37-1.37c-.4-.4-.92-.59-1.43-.59-.52 0-1.04.2-1.43.59L10.3 9.45l-7.72 7.72c-.78.78-.78 2.05 0 2.83L4 21.41c.39.39.9.59 1.41.59.51 0 1.02-.2 1.41-.59l7.78-7.78 2.81-2.81c.8-.78.8-2.07 0-2.86zM5.41 20L4 18.59l7.72-7.72 1.47 1.35L5.41 20z\"/>\n",
              "  </svg>\n",
              "      </button>\n",
              "      \n",
              "  <style>\n",
              "    .colab-df-container {\n",
              "      display:flex;\n",
              "      flex-wrap:wrap;\n",
              "      gap: 12px;\n",
              "    }\n",
              "\n",
              "    .colab-df-convert {\n",
              "      background-color: #E8F0FE;\n",
              "      border: none;\n",
              "      border-radius: 50%;\n",
              "      cursor: pointer;\n",
              "      display: none;\n",
              "      fill: #1967D2;\n",
              "      height: 32px;\n",
              "      padding: 0 0 0 0;\n",
              "      width: 32px;\n",
              "    }\n",
              "\n",
              "    .colab-df-convert:hover {\n",
              "      background-color: #E2EBFA;\n",
              "      box-shadow: 0px 1px 2px rgba(60, 64, 67, 0.3), 0px 1px 3px 1px rgba(60, 64, 67, 0.15);\n",
              "      fill: #174EA6;\n",
              "    }\n",
              "\n",
              "    [theme=dark] .colab-df-convert {\n",
              "      background-color: #3B4455;\n",
              "      fill: #D2E3FC;\n",
              "    }\n",
              "\n",
              "    [theme=dark] .colab-df-convert:hover {\n",
              "      background-color: #434B5C;\n",
              "      box-shadow: 0px 1px 3px 1px rgba(0, 0, 0, 0.15);\n",
              "      filter: drop-shadow(0px 1px 2px rgba(0, 0, 0, 0.3));\n",
              "      fill: #FFFFFF;\n",
              "    }\n",
              "  </style>\n",
              "\n",
              "      <script>\n",
              "        const buttonEl =\n",
              "          document.querySelector('#df-830f8532-86db-4466-a59c-912d48f9dc3b button.colab-df-convert');\n",
              "        buttonEl.style.display =\n",
              "          google.colab.kernel.accessAllowed ? 'block' : 'none';\n",
              "\n",
              "        async function convertToInteractive(key) {\n",
              "          const element = document.querySelector('#df-830f8532-86db-4466-a59c-912d48f9dc3b');\n",
              "          const dataTable =\n",
              "            await google.colab.kernel.invokeFunction('convertToInteractive',\n",
              "                                                     [key], {});\n",
              "          if (!dataTable) return;\n",
              "\n",
              "          const docLinkHtml = 'Like what you see? Visit the ' +\n",
              "            '<a target=\"_blank\" href=https://colab.research.google.com/notebooks/data_table.ipynb>data table notebook</a>'\n",
              "            + ' to learn more about interactive tables.';\n",
              "          element.innerHTML = '';\n",
              "          dataTable['output_type'] = 'display_data';\n",
              "          await google.colab.output.renderOutput(dataTable, element);\n",
              "          const docLink = document.createElement('div');\n",
              "          docLink.innerHTML = docLinkHtml;\n",
              "          element.appendChild(docLink);\n",
              "        }\n",
              "      </script>\n",
              "    </div>\n",
              "  </div>\n",
              "  "
            ]
          },
          "metadata": {},
          "execution_count": 17
        }
      ]
    },
    {
      "cell_type": "code",
      "source": [
        "#interpolating null values with forward and backward fill to remove na values\n",
        "crash_df = crash_df.interpolate(method='ffill').fillna(method='ffill').fillna(method='bfill')"
      ],
      "metadata": {
        "id": "t54t8IE_vRZB"
      },
      "execution_count": 18,
      "outputs": []
    },
    {
      "cell_type": "code",
      "source": [
        "#summary statistics\n",
        "crash_df.describe()"
      ],
      "metadata": {
        "id": "-dIoN2_0B133",
        "colab": {
          "base_uri": "https://localhost:8080/",
          "height": 300
        },
        "outputId": "f366c96a-e0ff-4532-a885-3af499056c4c"
      },
      "execution_count": 19,
      "outputs": [
        {
          "output_type": "execute_result",
          "data": {
            "text/plain": [
              "       Crash_Number  Number_of_Vehicles  Total_Nonfatal_Injuries  \\\n",
              "count  4.598000e+04        45980.000000             45980.000000   \n",
              "mean   4.326648e+06            1.957590                 0.381144   \n",
              "std    5.736320e+05            0.745493                 0.754110   \n",
              "min    2.841999e+06            0.000000                 0.000000   \n",
              "25%    3.987214e+06            2.000000                 0.000000   \n",
              "50%    4.392096e+06            2.000000                 0.000000   \n",
              "75%    4.786407e+06            2.000000                 1.000000   \n",
              "max    5.240684e+06           18.000000                34.000000   \n",
              "\n",
              "       Total_Fatal_Injuries  X_Cooordinate  Y_Cooordinate  \n",
              "count          45980.000000   45980.000000   45980.000000  \n",
              "mean               0.005807  234858.113699  898009.646412  \n",
              "std                0.082038    2705.216809    3573.294087  \n",
              "min                0.000000  213065.200400  886087.429400  \n",
              "25%                0.000000  233493.402600  895214.680925  \n",
              "50%                0.000000  235775.900800  898992.057100  \n",
              "75%                0.000000  236748.228850  900906.437400  \n",
              "max                4.000000  243877.695300  913570.260000  "
            ],
            "text/html": [
              "\n",
              "  <div id=\"df-e8071384-355d-4817-abd5-9e820acaf131\">\n",
              "    <div class=\"colab-df-container\">\n",
              "      <div>\n",
              "<style scoped>\n",
              "    .dataframe tbody tr th:only-of-type {\n",
              "        vertical-align: middle;\n",
              "    }\n",
              "\n",
              "    .dataframe tbody tr th {\n",
              "        vertical-align: top;\n",
              "    }\n",
              "\n",
              "    .dataframe thead th {\n",
              "        text-align: right;\n",
              "    }\n",
              "</style>\n",
              "<table border=\"1\" class=\"dataframe\">\n",
              "  <thead>\n",
              "    <tr style=\"text-align: right;\">\n",
              "      <th></th>\n",
              "      <th>Crash_Number</th>\n",
              "      <th>Number_of_Vehicles</th>\n",
              "      <th>Total_Nonfatal_Injuries</th>\n",
              "      <th>Total_Fatal_Injuries</th>\n",
              "      <th>X_Cooordinate</th>\n",
              "      <th>Y_Cooordinate</th>\n",
              "    </tr>\n",
              "  </thead>\n",
              "  <tbody>\n",
              "    <tr>\n",
              "      <th>count</th>\n",
              "      <td>4.598000e+04</td>\n",
              "      <td>45980.000000</td>\n",
              "      <td>45980.000000</td>\n",
              "      <td>45980.000000</td>\n",
              "      <td>45980.000000</td>\n",
              "      <td>45980.000000</td>\n",
              "    </tr>\n",
              "    <tr>\n",
              "      <th>mean</th>\n",
              "      <td>4.326648e+06</td>\n",
              "      <td>1.957590</td>\n",
              "      <td>0.381144</td>\n",
              "      <td>0.005807</td>\n",
              "      <td>234858.113699</td>\n",
              "      <td>898009.646412</td>\n",
              "    </tr>\n",
              "    <tr>\n",
              "      <th>std</th>\n",
              "      <td>5.736320e+05</td>\n",
              "      <td>0.745493</td>\n",
              "      <td>0.754110</td>\n",
              "      <td>0.082038</td>\n",
              "      <td>2705.216809</td>\n",
              "      <td>3573.294087</td>\n",
              "    </tr>\n",
              "    <tr>\n",
              "      <th>min</th>\n",
              "      <td>2.841999e+06</td>\n",
              "      <td>0.000000</td>\n",
              "      <td>0.000000</td>\n",
              "      <td>0.000000</td>\n",
              "      <td>213065.200400</td>\n",
              "      <td>886087.429400</td>\n",
              "    </tr>\n",
              "    <tr>\n",
              "      <th>25%</th>\n",
              "      <td>3.987214e+06</td>\n",
              "      <td>2.000000</td>\n",
              "      <td>0.000000</td>\n",
              "      <td>0.000000</td>\n",
              "      <td>233493.402600</td>\n",
              "      <td>895214.680925</td>\n",
              "    </tr>\n",
              "    <tr>\n",
              "      <th>50%</th>\n",
              "      <td>4.392096e+06</td>\n",
              "      <td>2.000000</td>\n",
              "      <td>0.000000</td>\n",
              "      <td>0.000000</td>\n",
              "      <td>235775.900800</td>\n",
              "      <td>898992.057100</td>\n",
              "    </tr>\n",
              "    <tr>\n",
              "      <th>75%</th>\n",
              "      <td>4.786407e+06</td>\n",
              "      <td>2.000000</td>\n",
              "      <td>1.000000</td>\n",
              "      <td>0.000000</td>\n",
              "      <td>236748.228850</td>\n",
              "      <td>900906.437400</td>\n",
              "    </tr>\n",
              "    <tr>\n",
              "      <th>max</th>\n",
              "      <td>5.240684e+06</td>\n",
              "      <td>18.000000</td>\n",
              "      <td>34.000000</td>\n",
              "      <td>4.000000</td>\n",
              "      <td>243877.695300</td>\n",
              "      <td>913570.260000</td>\n",
              "    </tr>\n",
              "  </tbody>\n",
              "</table>\n",
              "</div>\n",
              "      <button class=\"colab-df-convert\" onclick=\"convertToInteractive('df-e8071384-355d-4817-abd5-9e820acaf131')\"\n",
              "              title=\"Convert this dataframe to an interactive table.\"\n",
              "              style=\"display:none;\">\n",
              "        \n",
              "  <svg xmlns=\"http://www.w3.org/2000/svg\" height=\"24px\"viewBox=\"0 0 24 24\"\n",
              "       width=\"24px\">\n",
              "    <path d=\"M0 0h24v24H0V0z\" fill=\"none\"/>\n",
              "    <path d=\"M18.56 5.44l.94 2.06.94-2.06 2.06-.94-2.06-.94-.94-2.06-.94 2.06-2.06.94zm-11 1L8.5 8.5l.94-2.06 2.06-.94-2.06-.94L8.5 2.5l-.94 2.06-2.06.94zm10 10l.94 2.06.94-2.06 2.06-.94-2.06-.94-.94-2.06-.94 2.06-2.06.94z\"/><path d=\"M17.41 7.96l-1.37-1.37c-.4-.4-.92-.59-1.43-.59-.52 0-1.04.2-1.43.59L10.3 9.45l-7.72 7.72c-.78.78-.78 2.05 0 2.83L4 21.41c.39.39.9.59 1.41.59.51 0 1.02-.2 1.41-.59l7.78-7.78 2.81-2.81c.8-.78.8-2.07 0-2.86zM5.41 20L4 18.59l7.72-7.72 1.47 1.35L5.41 20z\"/>\n",
              "  </svg>\n",
              "      </button>\n",
              "      \n",
              "  <style>\n",
              "    .colab-df-container {\n",
              "      display:flex;\n",
              "      flex-wrap:wrap;\n",
              "      gap: 12px;\n",
              "    }\n",
              "\n",
              "    .colab-df-convert {\n",
              "      background-color: #E8F0FE;\n",
              "      border: none;\n",
              "      border-radius: 50%;\n",
              "      cursor: pointer;\n",
              "      display: none;\n",
              "      fill: #1967D2;\n",
              "      height: 32px;\n",
              "      padding: 0 0 0 0;\n",
              "      width: 32px;\n",
              "    }\n",
              "\n",
              "    .colab-df-convert:hover {\n",
              "      background-color: #E2EBFA;\n",
              "      box-shadow: 0px 1px 2px rgba(60, 64, 67, 0.3), 0px 1px 3px 1px rgba(60, 64, 67, 0.15);\n",
              "      fill: #174EA6;\n",
              "    }\n",
              "\n",
              "    [theme=dark] .colab-df-convert {\n",
              "      background-color: #3B4455;\n",
              "      fill: #D2E3FC;\n",
              "    }\n",
              "\n",
              "    [theme=dark] .colab-df-convert:hover {\n",
              "      background-color: #434B5C;\n",
              "      box-shadow: 0px 1px 3px 1px rgba(0, 0, 0, 0.15);\n",
              "      filter: drop-shadow(0px 1px 2px rgba(0, 0, 0, 0.3));\n",
              "      fill: #FFFFFF;\n",
              "    }\n",
              "  </style>\n",
              "\n",
              "      <script>\n",
              "        const buttonEl =\n",
              "          document.querySelector('#df-e8071384-355d-4817-abd5-9e820acaf131 button.colab-df-convert');\n",
              "        buttonEl.style.display =\n",
              "          google.colab.kernel.accessAllowed ? 'block' : 'none';\n",
              "\n",
              "        async function convertToInteractive(key) {\n",
              "          const element = document.querySelector('#df-e8071384-355d-4817-abd5-9e820acaf131');\n",
              "          const dataTable =\n",
              "            await google.colab.kernel.invokeFunction('convertToInteractive',\n",
              "                                                     [key], {});\n",
              "          if (!dataTable) return;\n",
              "\n",
              "          const docLinkHtml = 'Like what you see? Visit the ' +\n",
              "            '<a target=\"_blank\" href=https://colab.research.google.com/notebooks/data_table.ipynb>data table notebook</a>'\n",
              "            + ' to learn more about interactive tables.';\n",
              "          element.innerHTML = '';\n",
              "          dataTable['output_type'] = 'display_data';\n",
              "          await google.colab.output.renderOutput(dataTable, element);\n",
              "          const docLink = document.createElement('div');\n",
              "          docLink.innerHTML = docLinkHtml;\n",
              "          element.appendChild(docLink);\n",
              "        }\n",
              "      </script>\n",
              "    </div>\n",
              "  </div>\n",
              "  "
            ]
          },
          "metadata": {},
          "execution_count": 19
        }
      ]
    },
    {
      "cell_type": "markdown",
      "source": [
        "print df['crash_df'].isnull()"
      ],
      "metadata": {
        "id": "0CWSB3Xik-e1"
      }
    },
    {
      "cell_type": "code",
      "source": [
        "         #ouliers - Zcore \n",
        "\n",
        "z_scores = (crash_df['Total_Nonfatal_Injuries'] - np.mean(crash_df['Total_Nonfatal_Injuries'])) / np.std(crash_df['Total_Nonfatal_Injuries'])\n",
        "\n",
        "# Identify the outliers using a threshold of 3\n",
        "outliers = np.abs(z_scores) > 3\n",
        "\n",
        "mean_z_score = np.mean(z_scores)\n",
        "median_z_score = np.median(z_scores)\n",
        "min_z_score = np.min(z_scores)\n",
        "max_z_score = np.max(z_scores)\n",
        "\n",
        "# Print the summary statistics for the Z-Scores\n",
        "print('Mean Z-Score:', mean_z_score)\n",
        "print('Median Z-Score:', median_z_score)\n",
        "print('Minimum Z-Score:', min_z_score)\n",
        "print('Maximum Z-Score:', max_z_score)\n",
        "# Print the outliers\n",
        "print(crash_df[outliers])"
      ],
      "metadata": {
        "id": "QCQa3Sa6PsZe",
        "colab": {
          "base_uri": "https://localhost:8080/"
        },
        "outputId": "2c266408-91e4-4abc-84d4-cc534124119e"
      },
      "execution_count": 20,
      "outputs": [
        {
          "output_type": "stream",
          "name": "stdout",
          "text": [
            "Mean Z-Score: -2.2252752055122754e-17\n",
            "Median Z-Score: -0.5054274877548718\n",
            "Minimum Z-Score: -0.5054274877548718\n",
            "Maximum Z-Score: 44.58130005329769\n",
            "        Crash_Number City_Town_Name Crash_Date Crash_Time    Crash_Severity  \\\n",
            "66397        2964893         BOSTON 2012-01-05    7:50 AM  Non-fatal injury   \n",
            "66405        3386753         BOSTON 2012-01-05    7:30 PM  Non-fatal injury   \n",
            "66406        2964891         BOSTON 2012-01-05    8:50 PM  Non-fatal injury   \n",
            "66448        3020240         BOSTON 2012-01-09   10:45 PM  Non-fatal injury   \n",
            "66500        2868302         BOSTON 2012-01-13   11:16 PM  Non-fatal injury   \n",
            "...              ...            ...        ...        ...               ...   \n",
            "111961       5184301         BOSTON 2022-11-27    6:14 PM  Non-fatal injury   \n",
            "112222       5191265         BOSTON 2022-12-17    8:36 AM  Non-fatal injury   \n",
            "112260       5191948         BOSTON 2022-12-21   12:45 AM  Non-fatal injury   \n",
            "112301       5207675         BOSTON 2022-12-25    9:40 PM  Non-fatal injury   \n",
            "112312       5195696         BOSTON 2022-12-28    4:27 PM  Non-fatal injury   \n",
            "\n",
            "             Maximum_Injury_Severity_Reported  Number_of_Vehicles  \\\n",
            "66397   Non-fatal injury - Non-incapacitating                   2   \n",
            "66405   Non-fatal injury - Non-incapacitating                   2   \n",
            "66406       Non-fatal injury - Incapacitating                   2   \n",
            "66448   Non-fatal injury - Non-incapacitating                   2   \n",
            "66500             Non-fatal injury - Possible                   5   \n",
            "...                                       ...                 ...   \n",
            "111961             Suspected Minor Injury (B)                   2   \n",
            "112222             Suspected Minor Injury (B)                   2   \n",
            "112260             Suspected Minor Injury (B)                   4   \n",
            "112301                    Possible Injury (C)                   2   \n",
            "112312                    Possible Injury (C)                   2   \n",
            "\n",
            "        Total_Nonfatal_Injuries  Total_Fatal_Injuries  \\\n",
            "66397                         4                     0   \n",
            "66405                         4                     0   \n",
            "66406                         3                     0   \n",
            "66448                         3                     0   \n",
            "66500                         4                     0   \n",
            "...                         ...                   ...   \n",
            "111961                        4                     0   \n",
            "112222                        3                     0   \n",
            "112260                        3                     0   \n",
            "112301                        3                     0   \n",
            "112312                        3                     0   \n",
            "\n",
            "              Manner_of_Collision  ...           Ambient_Light  \\\n",
            "66397                       Angle  ...                Daylight   \n",
            "66405                    Rear-end  ...  Dark - lighted roadway   \n",
            "66406                       Angle  ...  Dark - lighted roadway   \n",
            "66448                       Angle  ...  Dark - lighted roadway   \n",
            "66500                    Rear-end  ...  Dark - lighted roadway   \n",
            "...                           ...  ...                     ...   \n",
            "111961  Sideswipe, same direction  ...  Dark - lighted roadway   \n",
            "112222  Sideswipe, same direction  ...                Daylight   \n",
            "112260                   Rear-end  ...  Dark - lighted roadway   \n",
            "112301                   Rear-end  ...  Dark - lighted roadway   \n",
            "112312                   Rear-end  ...                    Dusk   \n",
            "\n",
            "       Weather_Condition                            At_Roadway_Intersection  \\\n",
            "66397              Clear         CENTRE STREET / CEDAR STREET / FORT AVENUE   \n",
            "66405              Clear                Rte 93 S / SOUTHBOUND FRONTAGE ROAD   \n",
            "66406        Clear/Clear                  DORCHESTER AVENUE / CENTRE STREET   \n",
            "66448              Clear                 WASHINGTON STREET / WALTHAM STREET   \n",
            "66500              Clear                       MAURICE TOBIN BRIDGE Rte 1 N   \n",
            "...                  ...                                                ...   \n",
            "111961       Cloudy/Rain  MASSACHUSETTS AVENUE CONNECTOR / SOUTHAMPTON S...   \n",
            "112222              Rain                   MASSACHUSETTS TURNPIKE Rte I90 W   \n",
            "112260      Not Reported       BRIGHTON AVENUE Rte E / REEDSDALE STREET Rte   \n",
            "112301             Clear    RAMP-RT 90 WB/CONGRESS ST TO RTS 93/3 Rte I90 W   \n",
            "112312             Clear             RAMP-RT 93 NB/SUMNER TUNL TO NASHUA ST   \n",
            "\n",
            "               Distance_From_Nearest_Roadway_Intersection  \\\n",
            "66397          CENTRE STREET / CEDAR STREET / FORT AVENUE   \n",
            "66405                 Rte 93 S / SOUTHBOUND FRONTAGE ROAD   \n",
            "66406                   DORCHESTER AVENUE / CENTRE STREET   \n",
            "66448                  WASHINGTON STREET / WALTHAM STREET   \n",
            "66500                        MAURICE TOBIN BRIDGE Rte 1 N   \n",
            "...                                                   ...   \n",
            "111961             JOHN F FITZGERALD EXPRESSWAY Rte I93 S   \n",
            "112222  KOSCIUSZKO CIRCLE / WILLIAM T MORRISSEY BOULEVARD   \n",
            "112260  FRONTAGE ROAD Rte SR3A N / RAMP-RT 90 EB TO KN...   \n",
            "112301  GALLIVAN BOULEVARD Rte SR203 E / WASHINGTON ST...   \n",
            "112312             JOHN F FITZGERALD EXPRESSWAY Rte I93 S   \n",
            "\n",
            "       Distance_From_Nearest_Milemarker  \\\n",
            "66397            Rte 93 Milemarker 16.0   \n",
            "66405            Rte 93 Milemarker 16.0   \n",
            "66406            Rte 93 Milemarker 16.0   \n",
            "66448          Rte 93 N Milemarker 17.3   \n",
            "66500          Rte 93 N Milemarker 16.1   \n",
            "...                                 ...   \n",
            "111961         Rte 93 N Milemarker 12.4   \n",
            "112222        Rte 90 W Milemarker 130.6   \n",
            "112260        Rte 90 W Milemarker 133.0   \n",
            "112301   150 feet W from Milemarker 3.9   \n",
            "112312   150 feet W from Milemarker 3.9   \n",
            "\n",
            "                               Distance_From_Nearest_Exit  \\\n",
            "66397                                 Exit 24 on Rte 93 S   \n",
            "66405                                 Exit 24 on Rte 93 S   \n",
            "66406                                 Exit 24 on Rte 93 S   \n",
            "66448                                 Exit 26 on Rte 93 S   \n",
            "66500                                 Exit 11 on Rte 93 N   \n",
            "...                                                   ...   \n",
            "111961  Exit 17A-B on JOHN F FITZGERALD EXPRESSWAY Rte...   \n",
            "112222                               Exit 131 on Rte 90 E   \n",
            "112260                                Exit 15 on Rte 93 S   \n",
            "112301  Exit 17A-B on JOHN F FITZGERALD EXPRESSWAY Rte...   \n",
            "112312  Exit 17A-B on JOHN F FITZGERALD EXPRESSWAY Rte...   \n",
            "\n",
            "          Distance_From_Nearest_Landmark Non_Motorist_Type X_Cooordinate  \\\n",
            "66397   ON RAMP FROM EXIT 15 TO RTE 93 S    P2: Pedestrian   233325.5936   \n",
            "66405                    HAGGERTY BRIDGE    P2: Pedestrian   236397.8357   \n",
            "66406                    HAGGERTY BRIDGE    P2: Pedestrian   236112.4065   \n",
            "66448            LOWER DECK PAST EXIT 26       P2: Cyclist   235533.7031   \n",
            "66500              @ SOLDIERS FIELD ROAD    P2: Pedestrian   236351.6050   \n",
            "...                                  ...               ...           ...   \n",
            "111961                      ZAKIM BRIDGE    P2: Pedestrian   235986.7121   \n",
            "112222                RUTHERFORD ON RAMP    P2: Pedestrian   237021.8811   \n",
            "112260                GARAGE PARKING LOT    P2: Pedestrian   236491.5138   \n",
            "112301                          LAMBERTS    P3: Pedestrian   235511.0501   \n",
            "112312                          LAMBERTS    P3: Pedestrian   236392.2833   \n",
            "\n",
            "       Y_Cooordinate  \n",
            "66397    897543.4375  \n",
            "66405    897503.8646  \n",
            "66406    893779.0000  \n",
            "66448    899108.3748  \n",
            "66500    902672.4475  \n",
            "...              ...  \n",
            "111961   902090.6616  \n",
            "112222   896909.4237  \n",
            "112260   899982.7209  \n",
            "112301   892130.4602  \n",
            "112312   901573.5104  \n",
            "\n",
            "[958 rows x 23 columns]\n"
          ]
        }
      ]
    },
    {
      "cell_type": "code",
      "source": [
        "#Scatter plot for how road surfaces causes severe injuires\n",
        "plt.scatter(crash_df['Road_Surface_Condition'], crash_df['Maximum_Injury_Severity_Reported'])\n",
        "plt.xlabel('Road_Surface_Condition')\n",
        "plt.ylabel('Maximum_Injury_Severity_Reported')\n",
        "plt.title('Crashes due to road surface condition')\n",
        "plt.subplots_adjust(bottom=1, top=3, left=1, right=3)"
      ],
      "metadata": {
        "id": "jdhm70EM9blT",
        "colab": {
          "base_uri": "https://localhost:8080/",
          "height": 1000
        },
        "outputId": "03f01f11-6ce3-4304-caab-026a7259e0b3"
      },
      "execution_count": 21,
      "outputs": [
        {
          "output_type": "display_data",
          "data": {
            "text/plain": [
              "<Figure size 640x480 with 1 Axes>"
            ],
            "image/png": "[encoded data removed]"
          },
          "metadata": {}
        }
      ]
    },
    {
      "cell_type": "code",
      "source": [
        "#Number of Crashes in Boston of yearly bases from 2012-2022\n",
        "crash_years = crash_df[(crash_df['Crash_Date'].dt.year >= 2012) & (crash_df['Crash_Date'].dt.year <= 2022)]\n",
        "\n",
        "crash_years['Crash_Date'].dt.year.value_counts().sort_index().plot(kind='bar')\n",
        "\n",
        "plt.title('Number of Crashes in Boston (2012-2022)')\n",
        "plt.xlabel('Year')\n",
        "plt.ylabel('Number of Crashes')\n",
        "\n",
        "plt.show()"
      ],
      "metadata": {
        "id": "EuXiSMinAO-O",
        "colab": {
          "base_uri": "https://localhost:8080/",
          "height": 493
        },
        "outputId": "e7206967-9ea0-4bc5-faf7-0136eae58e36"
      },
      "execution_count": 22,
      "outputs": [
        {
          "output_type": "display_data",
          "data": {
            "text/plain": [
              "<Figure size 640x480 with 1 Axes>"
            ],
            "image/png": "[encoded data removed]"
          },
          "metadata": {}
        }
      ]
    },
    {
      "cell_type": "code",
      "source": [
        "#crashes in Boston 2012-2022 by injury severity\n",
        "injury_crashes = crash_df.groupby('Maximum_Injury_Severity_Reported').size()\n",
        "fig = plt.figure(figsize=(10, 10))\n",
        "plt.pie(injury_crashes.values, labels=injury_crashes.index, autopct='%1.1f%%')\n",
        "plt.title('Crashes in Boston (2012-2022) by Injury Severity',fontsize=16, fontweight='bold')\n",
        "plt.tight_layout()\n",
        "plt.show()"
      ],
      "metadata": {
        "id": "ZDjfMfb7A3nO",
        "colab": {
          "base_uri": "https://localhost:8080/",
          "height": 827
        },
        "outputId": "06dbbdf9-13d3-41ab-f490-087d26649f79"
      },
      "execution_count": 23,
      "outputs": [
        {
          "output_type": "display_data",
          "data": {
            "text/plain": [
              "<Figure size 1000x1000 with 1 Axes>"
            ],
            "image/png": "[encoded data removed]"
          },
          "metadata": {}
        }
      ]
    },
    {
      "cell_type": "code",
      "source": [
        "\n",
        "#Assignmenet 2 - Technique practice"
      ],
      "metadata": {
        "id": "qxMqx00fkUen"
      },
      "execution_count": 24,
      "outputs": []
    },
    {
      "cell_type": "code",
      "source": [
        "# import libraries\n",
        "from sklearn.preprocessing import LabelEncoder\n",
        "from sklearn.model_selection import train_test_split\n",
        "from sklearn.ensemble import RandomForestClassifier\n",
        "from sklearn.metrics import accuracy_score, confusion_matrix, classification_report"
      ],
      "metadata": {
        "id": "sxC4G68tkbZY"
      },
      "execution_count": 25,
      "outputs": []
    },
    {
      "cell_type": "code",
      "source": [
        "# Convert 'Crash_Date' column to datetime format\n",
        "crash_df['Crash_Date'] = pd.to_datetime(crash_df['Crash_Date']).dt.tz_localize(None)\n",
        "\n",
        "# Convert 'Crash_Date' to Unix timestamp\n",
        "crash_df['Crash_Date'] = (crash_df['Crash_Date'] - np.datetime64('1970-01-01T00:00:00Z')) / np.timedelta64(1, 's')\n",
        "\n",
        "# Selecting relevant features\n",
        "crash_df = crash_df[['City_Town_Name', 'Crash_Date', 'Crash_Time', 'Number_of_Vehicles', 'Vehicle_Configuration', 'Road_Surface_Condition', 'Ambient_Light', 'Weather_Condition', 'At_Roadway_Intersection']]"
      ],
      "metadata": {
        "id": "a7jQzh7EkemD",
        "colab": {
          "base_uri": "https://localhost:8080/"
        },
        "outputId": "b099a4be-e614-4b1b-986c-7e20c19497e3"
      },
      "execution_count": 26,
      "outputs": [
        {
          "output_type": "stream",
          "name": "stderr",
          "text": [
            "<ipython-input-26-e76673bed4c5>:5: DeprecationWarning: parsing timezone aware datetimes is deprecated; this will raise an error in the future\n",
            "  crash_df['Crash_Date'] = (crash_df['Crash_Date'] - np.datetime64('1970-01-01T00:00:00Z')) / np.timedelta64(1, 's')\n"
          ]
        }
      ]
    },
    {
      "cell_type": "code",
      "source": [
        "#Encoding categorical features\n",
        "le = LabelEncoder()\n",
        "for col in crash_df.columns:\n",
        "    if crash_df[col].dtype == 'object':\n",
        "        crash_df[col] = le.fit_transform(crash_df[col].astype(str))"
      ],
      "metadata": {
        "id": "G1Urn4_Mve09",
        "colab": {
          "base_uri": "https://localhost:8080/"
        },
        "outputId": "b5cd3006-4a95-4bb6-cdd5-87051e9b9084"
      },
      "execution_count": 27,
      "outputs": [
        {
          "output_type": "stream",
          "name": "stderr",
          "text": [
            "<ipython-input-27-bb7f97024312>:5: SettingWithCopyWarning: \n",
            "A value is trying to be set on a copy of a slice from a DataFrame.\n",
            "Try using .loc[row_indexer,col_indexer] = value instead\n",
            "\n",
            "See the caveats in the documentation: https://pandas.pydata.org/pandas-docs/stable/user_guide/indexing.html#returning-a-view-versus-a-copy\n",
            "  crash_df[col] = le.fit_transform(crash_df[col].astype(str))\n",
            "<ipython-input-27-bb7f97024312>:5: SettingWithCopyWarning: \n",
            "A value is trying to be set on a copy of a slice from a DataFrame.\n",
            "Try using .loc[row_indexer,col_indexer] = value instead\n",
            "\n",
            "See the caveats in the documentation: https://pandas.pydata.org/pandas-docs/stable/user_guide/indexing.html#returning-a-view-versus-a-copy\n",
            "  crash_df[col] = le.fit_transform(crash_df[col].astype(str))\n",
            "<ipython-input-27-bb7f97024312>:5: SettingWithCopyWarning: \n",
            "A value is trying to be set on a copy of a slice from a DataFrame.\n",
            "Try using .loc[row_indexer,col_indexer] = value instead\n",
            "\n",
            "See the caveats in the documentation: https://pandas.pydata.org/pandas-docs/stable/user_guide/indexing.html#returning-a-view-versus-a-copy\n",
            "  crash_df[col] = le.fit_transform(crash_df[col].astype(str))\n",
            "<ipython-input-27-bb7f97024312>:5: SettingWithCopyWarning: \n",
            "A value is trying to be set on a copy of a slice from a DataFrame.\n",
            "Try using .loc[row_indexer,col_indexer] = value instead\n",
            "\n",
            "See the caveats in the documentation: https://pandas.pydata.org/pandas-docs/stable/user_guide/indexing.html#returning-a-view-versus-a-copy\n",
            "  crash_df[col] = le.fit_transform(crash_df[col].astype(str))\n",
            "<ipython-input-27-bb7f97024312>:5: SettingWithCopyWarning: \n",
            "A value is trying to be set on a copy of a slice from a DataFrame.\n",
            "Try using .loc[row_indexer,col_indexer] = value instead\n",
            "\n",
            "See the caveats in the documentation: https://pandas.pydata.org/pandas-docs/stable/user_guide/indexing.html#returning-a-view-versus-a-copy\n",
            "  crash_df[col] = le.fit_transform(crash_df[col].astype(str))\n",
            "<ipython-input-27-bb7f97024312>:5: SettingWithCopyWarning: \n",
            "A value is trying to be set on a copy of a slice from a DataFrame.\n",
            "Try using .loc[row_indexer,col_indexer] = value instead\n",
            "\n",
            "See the caveats in the documentation: https://pandas.pydata.org/pandas-docs/stable/user_guide/indexing.html#returning-a-view-versus-a-copy\n",
            "  crash_df[col] = le.fit_transform(crash_df[col].astype(str))\n",
            "<ipython-input-27-bb7f97024312>:5: SettingWithCopyWarning: \n",
            "A value is trying to be set on a copy of a slice from a DataFrame.\n",
            "Try using .loc[row_indexer,col_indexer] = value instead\n",
            "\n",
            "See the caveats in the documentation: https://pandas.pydata.org/pandas-docs/stable/user_guide/indexing.html#returning-a-view-versus-a-copy\n",
            "  crash_df[col] = le.fit_transform(crash_df[col].astype(str))\n"
          ]
        }
      ]
    },
    {
      "cell_type": "code",
      "source": [
        "# Splitting the data into training and testing sets\n",
        "X = crash_df.drop('Ambient_Light', axis=1)\n",
        "y = crash_df['Ambient_Light']\n",
        "X_train, X_test, y_train, y_test = train_test_split(X, y, test_size=0.2, random_state=0)"
      ],
      "metadata": {
        "id": "oI9geZlfwXb1"
      },
      "execution_count": 28,
      "outputs": []
    },
    {
      "cell_type": "code",
      "source": [
        "from sklearn.preprocessing import LabelEncoder\n",
        "from sklearn.model_selection import train_test_split\n",
        "from sklearn.tree import DecisionTreeClassifier\n",
        "import numpy as np\n",
        "import pandas as pd\n",
        "import matplotlib.pyplot as plt\n"
      ],
      "metadata": {
        "id": "R6MXUzwrwa9L"
      },
      "execution_count": 29,
      "outputs": []
    },
    {
      "cell_type": "code",
      "source": [
        "\n"
      ],
      "metadata": {
        "id": "NripXScYXxxk"
      },
      "execution_count": 29,
      "outputs": []
    },
    {
      "cell_type": "code",
      "source": [
        "# Training Decision Tree\n",
        "dt = DecisionTreeClassifier()\n",
        "dt.fit(X_train, y_train)\n",
        "dt_pred = dt.predict(X_test)\n",
        "import matplotlib.pyplot as plt\n",
        "\n",
        "# Plot feature importance\n",
        "feat_importances = pd.Series(dt.feature_importances_, index=X_train.columns)\n",
        "feat_importances.nlargest(10).plot(kind='barh')\n",
        "plt.show()\n"
      ],
      "metadata": {
        "id": "0TGvIU4KX4ay",
        "colab": {
          "base_uri": "https://localhost:8080/",
          "height": 430
        },
        "outputId": "5b7c9089-bbe2-43ee-b798-bd05d0960159"
      },
      "execution_count": 30,
      "outputs": [
        {
          "output_type": "display_data",
          "data": {
            "text/plain": [
              "<Figure size 640x480 with 1 Axes>"
            ],
            "image/png": "[encoded data removed]"
          },
          "metadata": {}
        }
      ]
    },
    {
      "cell_type": "code",
      "source": [
        "# Training Random Forest\n",
        "\n",
        "from sklearn.ensemble import RandomForestClassifier\n",
        "rf = RandomForestClassifier(n_estimators=100)\n",
        "rf.fit(X_train, y_train)\n",
        "rf_pred = rf.predict(X_test)\n"
      ],
      "metadata": {
        "id": "m2NJ0Arvwgow"
      },
      "execution_count": 31,
      "outputs": []
    },
    {
      "cell_type": "code",
      "source": [
        "#Importance graph for Random Forest\n",
        "import plotly.express as px\n",
        "\n",
        "\n",
        "# Plot feature importances\n",
        "feature_importance = pd.DataFrame(zip(X_train.columns, rf.feature_importances_), columns=['Feature', 'Importance'])\n",
        "fig = px.bar(feature_importance.sort_values('Importance', ascending=False), x='Importance', y='Feature', orientation='h')\n",
        "fig.show()"
      ],
      "metadata": {
        "id": "VawQ34J70Z2d",
        "colab": {
          "base_uri": "https://localhost:8080/",
          "height": 542
        },
        "outputId": "9524fa3c-3148-4012-b59f-ecd0ff828e6c"
      },
      "execution_count": 32,
      "outputs": [
        {
          "output_type": "display_data",
          "data": {
            "text/html": [
              "<html>\n",
              "<head><meta charset=\"utf-8\" /></head>\n",
              "<body>\n",
              "    <div>            <script src=\"https://cdnjs.cloudflare.com/ajax/libs/mathjax/2.7.5/MathJax.js?config=TeX-AMS-MML_SVG\"></script><script type=\"text/javascript\">if (window.MathJax && window.MathJax.Hub && window.MathJax.Hub.Config) {window.MathJax.Hub.Config({SVG: {font: \"STIX-Web\"}});}</script>                <script type=\"text/javascript\">window.PlotlyConfig = {MathJaxConfig: 'local'};</script>\n",
              "        <script src=\"https://cdn.plot.ly/plotly-2.18.2.min.js\"></script>                <div id=\"745b5ecc-70cd-4da1-bef3-6260a5afb5eb\" class=\"plotly-graph-div\" style=\"height:525px; width:100%;\"></div>            <script type=\"text/javascript\">                                    window.PLOTLYENV=window.PLOTLYENV || {};                                    if (document.getElementById(\"745b5ecc-70cd-4da1-bef3-6260a5afb5eb\")) {                    Plotly.newPlot(                        \"745b5ecc-70cd-4da1-bef3-6260a5afb5eb\",                        [{\"alignmentgroup\":\"True\",\"hovertemplate\":\"Importance=%{x}<br>Feature=%{y}<extra></extra>\",\"legendgroup\":\"\",\"marker\":{\"color\":\"#636efa\",\"pattern\":{\"shape\":\"\"}},\"name\":\"\",\"offsetgroup\":\"\",\"orientation\":\"h\",\"showlegend\":false,\"textposition\":\"auto\",\"x\":[0.26792266022548955,0.2578791745433515,0.23350451336794364,0.08821197181042154,0.06680285809082545,0.0497444086623727,0.0359344132995956,0.0],\"xaxis\":\"x\",\"y\":[\"Crash_Time\",\"Crash_Date\",\"At_Roadway_Intersection\",\"Vehicle_Configuration\",\"Weather_Condition\",\"Road_Surface_Condition\",\"Number_of_Vehicles\",\"City_Town_Name\"],\"yaxis\":\"y\",\"type\":\"bar\"}],                        {\"template\":{\"data\":{\"histogram2dcontour\":[{\"type\":\"histogram2dcontour\",\"colorbar\":{\"outlinewidth\":0,\"ticks\":\"\"},\"colorscale\":[[0.0,\"#0d0887\"],[0.1111111111111111,\"#46039f\"],[0.2222222222222222,\"#7201a8\"],[0.3333333333333333,\"#9c179e\"],[0.4444444444444444,\"#bd3786\"],[0.5555555555555556,\"#d8576b\"],[0.6666666666666666,\"#ed7953\"],[0.7777777777777778,\"#fb9f3a\"],[0.8888888888888888,\"#fdca26\"],[1.0,\"#f0f921\"]]}],\"choropleth\":[{\"type\":\"choropleth\",\"colorbar\":{\"outlinewidth\":0,\"ticks\":\"\"}}],\"histogram2d\":[{\"type\":\"histogram2d\",\"colorbar\":{\"outlinewidth\":0,\"ticks\":\"\"},\"colorscale\":[[0.0,\"#0d0887\"],[0.1111111111111111,\"#46039f\"],[0.2222222222222222,\"#7201a8\"],[0.3333333333333333,\"#9c179e\"],[0.4444444444444444,\"#bd3786\"],[0.5555555555555556,\"#d8576b\"],[0.6666666666666666,\"#ed7953\"],[0.7777777777777778,\"#fb9f3a\"],[0.8888888888888888,\"#fdca26\"],[1.0,\"#f0f921\"]]}],\"heatmap\":[{\"type\":\"heatmap\",\"colorbar\":{\"outlinewidth\":0,\"ticks\":\"\"},\"colorscale\":[[0.0,\"#0d0887\"],[0.1111111111111111,\"#46039f\"],[0.2222222222222222,\"#7201a8\"],[0.3333333333333333,\"#9c179e\"],[0.4444444444444444,\"#bd3786\"],[0.5555555555555556,\"#d8576b\"],[0.6666666666666666,\"#ed7953\"],[0.7777777777777778,\"#fb9f3a\"],[0.8888888888888888,\"#fdca26\"],[1.0,\"#f0f921\"]]}],\"heatmapgl\":[{\"type\":\"heatmapgl\",\"colorbar\":{\"outlinewidth\":0,\"ticks\":\"\"},\"colorscale\":[[0.0,\"#0d0887\"],[0.1111111111111111,\"#46039f\"],[0.2222222222222222,\"#7201a8\"],[0.3333333333333333,\"#9c179e\"],[0.4444444444444444,\"#bd3786\"],[0.5555555555555556,\"#d8576b\"],[0.6666666666666666,\"#ed7953\"],[0.7777777777777778,\"#fb9f3a\"],[0.8888888888888888,\"#fdca26\"],[1.0,\"#f0f921\"]]}],\"contourcarpet\":[{\"type\":\"contourcarpet\",\"colorbar\":{\"outlinewidth\":0,\"ticks\":\"\"}}],\"contour\":[{\"type\":\"contour\",\"colorbar\":{\"outlinewidth\":0,\"ticks\":\"\"},\"colorscale\":[[0.0,\"#0d0887\"],[0.1111111111111111,\"#46039f\"],[0.2222222222222222,\"#7201a8\"],[0.3333333333333333,\"#9c179e\"],[0.4444444444444444,\"#bd3786\"],[0.5555555555555556,\"#d8576b\"],[0.6666666666666666,\"#ed7953\"],[0.7777777777777778,\"#fb9f3a\"],[0.8888888888888888,\"#fdca26\"],[1.0,\"#f0f921\"]]}],\"surface\":[{\"type\":\"surface\",\"colorbar\":{\"outlinewidth\":0,\"ticks\":\"\"},\"colorscale\":[[0.0,\"#0d0887\"],[0.1111111111111111,\"#46039f\"],[0.2222222222222222,\"#7201a8\"],[0.3333333333333333,\"#9c179e\"],[0.4444444444444444,\"#bd3786\"],[0.5555555555555556,\"#d8576b\"],[0.6666666666666666,\"#ed7953\"],[0.7777777777777778,\"#fb9f3a\"],[0.8888888888888888,\"#fdca26\"],[1.0,\"#f0f921\"]]}],\"mesh3d\":[{\"type\":\"mesh3d\",\"colorbar\":{\"outlinewidth\":0,\"ticks\":\"\"}}],\"scatter\":[{\"fillpattern\":{\"fillmode\":\"overlay\",\"size\":10,\"solidity\":0.2},\"type\":\"scatter\"}],\"parcoords\":[{\"type\":\"parcoords\",\"line\":{\"colorbar\":{\"outlinewidth\":0,\"ticks\":\"\"}}}],\"scatterpolargl\":[{\"type\":\"scatterpolargl\",\"marker\":{\"colorbar\":{\"outlinewidth\":0,\"ticks\":\"\"}}}],\"bar\":[{\"error_x\":{\"color\":\"#2a3f5f\"},\"error_y\":{\"color\":\"#2a3f5f\"},\"marker\":{\"line\":{\"color\":\"#E5ECF6\",\"width\":0.5},\"pattern\":{\"fillmode\":\"overlay\",\"size\":10,\"solidity\":0.2}},\"type\":\"bar\"}],\"scattergeo\":[{\"type\":\"scattergeo\",\"marker\":{\"colorbar\":{\"outlinewidth\":0,\"ticks\":\"\"}}}],\"scatterpolar\":[{\"type\":\"scatterpolar\",\"marker\":{\"colorbar\":{\"outlinewidth\":0,\"ticks\":\"\"}}}],\"histogram\":[{\"marker\":{\"pattern\":{\"fillmode\":\"overlay\",\"size\":10,\"solidity\":0.2}},\"type\":\"histogram\"}],\"scattergl\":[{\"type\":\"scattergl\",\"marker\":{\"colorbar\":{\"outlinewidth\":0,\"ticks\":\"\"}}}],\"scatter3d\":[{\"type\":\"scatter3d\",\"line\":{\"colorbar\":{\"outlinewidth\":0,\"ticks\":\"\"}},\"marker\":{\"colorbar\":{\"outlinewidth\":0,\"ticks\":\"\"}}}],\"scattermapbox\":[{\"type\":\"scattermapbox\",\"marker\":{\"colorbar\":{\"outlinewidth\":0,\"ticks\":\"\"}}}],\"scatterternary\":[{\"type\":\"scatterternary\",\"marker\":{\"colorbar\":{\"outlinewidth\":0,\"ticks\":\"\"}}}],\"scattercarpet\":[{\"type\":\"scattercarpet\",\"marker\":{\"colorbar\":{\"outlinewidth\":0,\"ticks\":\"\"}}}],\"carpet\":[{\"aaxis\":{\"endlinecolor\":\"#2a3f5f\",\"gridcolor\":\"white\",\"linecolor\":\"white\",\"minorgridcolor\":\"white\",\"startlinecolor\":\"#2a3f5f\"},\"baxis\":{\"endlinecolor\":\"#2a3f5f\",\"gridcolor\":\"white\",\"linecolor\":\"white\",\"minorgridcolor\":\"white\",\"startlinecolor\":\"#2a3f5f\"},\"type\":\"carpet\"}],\"table\":[{\"cells\":{\"fill\":{\"color\":\"#EBF0F8\"},\"line\":{\"color\":\"white\"}},\"header\":{\"fill\":{\"color\":\"#C8D4E3\"},\"line\":{\"color\":\"white\"}},\"type\":\"table\"}],\"barpolar\":[{\"marker\":{\"line\":{\"color\":\"#E5ECF6\",\"width\":0.5},\"pattern\":{\"fillmode\":\"overlay\",\"size\":10,\"solidity\":0.2}},\"type\":\"barpolar\"}],\"pie\":[{\"automargin\":true,\"type\":\"pie\"}]},\"layout\":{\"autotypenumbers\":\"strict\",\"colorway\":[\"#636efa\",\"#EF553B\",\"#00cc96\",\"#ab63fa\",\"#FFA15A\",\"#19d3f3\",\"#FF6692\",\"#B6E880\",\"#FF97FF\",\"#FECB52\"],\"font\":{\"color\":\"#2a3f5f\"},\"hovermode\":\"closest\",\"hoverlabel\":{\"align\":\"left\"},\"paper_bgcolor\":\"white\",\"plot_bgcolor\":\"#E5ECF6\",\"polar\":{\"bgcolor\":\"#E5ECF6\",\"angularaxis\":{\"gridcolor\":\"white\",\"linecolor\":\"white\",\"ticks\":\"\"},\"radialaxis\":{\"gridcolor\":\"white\",\"linecolor\":\"white\",\"ticks\":\"\"}},\"ternary\":{\"bgcolor\":\"#E5ECF6\",\"aaxis\":{\"gridcolor\":\"white\",\"linecolor\":\"white\",\"ticks\":\"\"},\"baxis\":{\"gridcolor\":\"white\",\"linecolor\":\"white\",\"ticks\":\"\"},\"caxis\":{\"gridcolor\":\"white\",\"linecolor\":\"white\",\"ticks\":\"\"}},\"coloraxis\":{\"colorbar\":{\"outlinewidth\":0,\"ticks\":\"\"}},\"colorscale\":{\"sequential\":[[0.0,\"#0d0887\"],[0.1111111111111111,\"#46039f\"],[0.2222222222222222,\"#7201a8\"],[0.3333333333333333,\"#9c179e\"],[0.4444444444444444,\"#bd3786\"],[0.5555555555555556,\"#d8576b\"],[0.6666666666666666,\"#ed7953\"],[0.7777777777777778,\"#fb9f3a\"],[0.8888888888888888,\"#fdca26\"],[1.0,\"#f0f921\"]],\"sequentialminus\":[[0.0,\"#0d0887\"],[0.1111111111111111,\"#46039f\"],[0.2222222222222222,\"#7201a8\"],[0.3333333333333333,\"#9c179e\"],[0.4444444444444444,\"#bd3786\"],[0.5555555555555556,\"#d8576b\"],[0.6666666666666666,\"#ed7953\"],[0.7777777777777778,\"#fb9f3a\"],[0.8888888888888888,\"#fdca26\"],[1.0,\"#f0f921\"]],\"diverging\":[[0,\"#8e0152\"],[0.1,\"#c51b7d\"],[0.2,\"#de77ae\"],[0.3,\"#f1b6da\"],[0.4,\"#fde0ef\"],[0.5,\"#f7f7f7\"],[0.6,\"#e6f5d0\"],[0.7,\"#b8e186\"],[0.8,\"#7fbc41\"],[0.9,\"#4d9221\"],[1,\"#276419\"]]},\"xaxis\":{\"gridcolor\":\"white\",\"linecolor\":\"white\",\"ticks\":\"\",\"title\":{\"standoff\":15},\"zerolinecolor\":\"white\",\"automargin\":true,\"zerolinewidth\":2},\"yaxis\":{\"gridcolor\":\"white\",\"linecolor\":\"white\",\"ticks\":\"\",\"title\":{\"standoff\":15},\"zerolinecolor\":\"white\",\"automargin\":true,\"zerolinewidth\":2},\"scene\":{\"xaxis\":{\"backgroundcolor\":\"#E5ECF6\",\"gridcolor\":\"white\",\"linecolor\":\"white\",\"showbackground\":true,\"ticks\":\"\",\"zerolinecolor\":\"white\",\"gridwidth\":2},\"yaxis\":{\"backgroundcolor\":\"#E5ECF6\",\"gridcolor\":\"white\",\"linecolor\":\"white\",\"showbackground\":true,\"ticks\":\"\",\"zerolinecolor\":\"white\",\"gridwidth\":2},\"zaxis\":{\"backgroundcolor\":\"#E5ECF6\",\"gridcolor\":\"white\",\"linecolor\":\"white\",\"showbackground\":true,\"ticks\":\"\",\"zerolinecolor\":\"white\",\"gridwidth\":2}},\"shapedefaults\":{\"line\":{\"color\":\"#2a3f5f\"}},\"annotationdefaults\":{\"arrowcolor\":\"#2a3f5f\",\"arrowhead\":0,\"arrowwidth\":1},\"geo\":{\"bgcolor\":\"white\",\"landcolor\":\"#E5ECF6\",\"subunitcolor\":\"white\",\"showland\":true,\"showlakes\":true,\"lakecolor\":\"white\"},\"title\":{\"x\":0.05},\"mapbox\":{\"style\":\"light\"}}},\"xaxis\":{\"anchor\":\"y\",\"domain\":[0.0,1.0],\"title\":{\"text\":\"Importance\"}},\"yaxis\":{\"anchor\":\"x\",\"domain\":[0.0,1.0],\"title\":{\"text\":\"Feature\"}},\"legend\":{\"tracegroupgap\":0},\"margin\":{\"t\":60},\"barmode\":\"relative\"},                        {\"responsive\": true}                    ).then(function(){\n",
              "                            \n",
              "var gd = document.getElementById('745b5ecc-70cd-4da1-bef3-6260a5afb5eb');\n",
              "var x = new MutationObserver(function (mutations, observer) {{\n",
              "        var display = window.getComputedStyle(gd).display;\n",
              "        if (!display || display === 'none') {{\n",
              "            console.log([gd, 'removed!']);\n",
              "            Plotly.purge(gd);\n",
              "            observer.disconnect();\n",
              "        }}\n",
              "}});\n",
              "\n",
              "// Listen for the removal of the full notebook cells\n",
              "var notebookContainer = gd.closest('#notebook-container');\n",
              "if (notebookContainer) {{\n",
              "    x.observe(notebookContainer, {childList: true});\n",
              "}}\n",
              "\n",
              "// Listen for the clearing of the current output cell\n",
              "var outputEl = gd.closest('.output');\n",
              "if (outputEl) {{\n",
              "    x.observe(outputEl, {childList: true});\n",
              "}}\n",
              "\n",
              "                        })                };                            </script>        </div>\n",
              "</body>\n",
              "</html>"
            ]
          },
          "metadata": {}
        }
      ]
    },
    {
      "cell_type": "code",
      "source": [
        "from sklearn.preprocessing import LabelEncoder\n",
        "\n",
        "le = LabelEncoder()\n",
        "y_train = le.fit_transform(y_train)\n",
        "y_test = le.transform(y_test)\n"
      ],
      "metadata": {
        "id": "mv7GOfvwwjk-"
      },
      "execution_count": 33,
      "outputs": []
    },
    {
      "cell_type": "code",
      "source": [
        "# Training XGBoost\n",
        "from xgboost import XGBClassifier\n",
        "\n",
        "xgb = XGBClassifier()\n",
        "xgb.fit(X_train, y_train)\n",
        "xgb_pred = xgb.predict(X_test)"
      ],
      "metadata": {
        "id": "Sg5XnxmcwmqY"
      },
      "execution_count": 34,
      "outputs": []
    },
    {
      "cell_type": "code",
      "source": [
        "import matplotlib.pyplot as plt\n",
        "from xgboost import plot_importance"
      ],
      "metadata": {
        "id": "whVMs2eNysGB"
      },
      "execution_count": 35,
      "outputs": []
    },
    {
      "cell_type": "code",
      "source": [
        "# Plot feature importance\n",
        "fig, ax = plt.subplots(figsize=(10, 8))\n",
        "plot_importance(xgb, ax=ax)\n",
        "plt.show()"
      ],
      "metadata": {
        "id": "Qpt2_qYLyte9",
        "colab": {
          "base_uri": "https://localhost:8080/",
          "height": 718
        },
        "outputId": "822e7fcb-24e2-4e59-e434-81d8e9212ee6"
      },
      "execution_count": 36,
      "outputs": [
        {
          "output_type": "display_data",
          "data": {
            "text/plain": [
              "<Figure size 1000x800 with 1 Axes>"
            ],
            "image/png": "[encoded data removed]"
          },
          "metadata": {}
        }
      ]
    },
    {
      "cell_type": "code",
      "source": [
        "# Evaluating the models\n",
        "dt_acc = accuracy_score(y_test, dt_pred)\n",
        "rf_acc = accuracy_score(y_test, rf_pred)\n",
        "xgb_acc = accuracy_score(y_test, xgb_pred)\n",
        "\n",
        "print(\"Decision Tree accuracy:\", dt_acc)\n",
        "print(\"Random Forest accuracy:\", rf_acc)\n",
        "print(\"XGBoost accuracy:\", xgb_acc)\n"
      ],
      "metadata": {
        "id": "fZlQVHR5wpJL",
        "colab": {
          "base_uri": "https://localhost:8080/"
        },
        "outputId": "cac3e0a0-8e81-4638-d39b-1d2877c3d684"
      },
      "execution_count": 37,
      "outputs": [
        {
          "output_type": "stream",
          "name": "stdout",
          "text": [
            "Decision Tree accuracy: 0.5805785123966942\n",
            "Random Forest accuracy: 0.661809482383645\n",
            "XGBoost accuracy: 0.7433666811657242\n"
          ]
        }
      ]
    },
    {
      "cell_type": "code",
      "source": [
        "#Module 3 Technique Practice"
      ],
      "metadata": {
        "id": "-J9mhTyUw5fm"
      },
      "execution_count": 38,
      "outputs": []
    },
    {
      "cell_type": "code",
      "source": [
        "#PART 1 - #Performing Linear and Logistic regression - Avi Milan Jani"
      ],
      "metadata": {
        "id": "_aTlvRyVCWYZ"
      },
      "execution_count": 39,
      "outputs": []
    },
    {
      "cell_type": "code",
      "source": [
        "#Performing Linear and Logistic regression"
      ],
      "metadata": {
        "id": "kplbvkOByxoA"
      },
      "execution_count": 40,
      "outputs": []
    },
    {
      "cell_type": "code",
      "source": [
        "import pandas as pd\n",
        "from sklearn.linear_model import LinearRegression\n",
        "from sklearn.linear_model import LogisticRegression\n",
        "from sklearn.model_selection import train_test_split"
      ],
      "metadata": {
        "id": "ORgpjKNny3Io"
      },
      "execution_count": 41,
      "outputs": []
    },
    {
      "cell_type": "code",
      "source": [
        "# Split the data into training and testing sets\n",
        "X_train, X_test, y_train, y_test = train_test_split(crash_df, crash_df['Number_of_Vehicles'], test_size=0.2, random_state=0)"
      ],
      "metadata": {
        "id": "hxVGxPEhy9dH"
      },
      "execution_count": 42,
      "outputs": []
    },
    {
      "cell_type": "code",
      "source": [
        "# Create the linear regression model\n",
        "lin_reg = LinearRegression()\n",
        "\n",
        "# Train the linear regression model\n",
        "lin_reg.fit(X_train, y_train)"
      ],
      "metadata": {
        "colab": {
          "base_uri": "https://localhost:8080/",
          "height": 75
        },
        "id": "kCjzjzFNzMsu",
        "outputId": "cf8db6c3-06a6-40fc-bf69-ebb113aec2e8"
      },
      "execution_count": 43,
      "outputs": [
        {
          "output_type": "execute_result",
          "data": {
            "text/plain": [
              "LinearRegression()"
            ],
            "text/html": [
              "<style>#sk-container-id-1 {color: black;background-color: white;}#sk-container-id-1 pre{padding: 0;}#sk-container-id-1 div.sk-toggleable {background-color: white;}#sk-container-id-1 label.sk-toggleable__label {cursor: pointer;display: block;width: 100%;margin-bottom: 0;padding: 0.3em;box-sizing: border-box;text-align: center;}#sk-container-id-1 label.sk-toggleable__label-arrow:before {content: \"▸\";float: left;margin-right: 0.25em;color: #696969;}#sk-container-id-1 label.sk-toggleable__label-arrow:hover:before {color: black;}#sk-container-id-1 div.sk-estimator:hover label.sk-toggleable__label-arrow:before {color: black;}#sk-container-id-1 div.sk-toggleable__content {max-height: 0;max-width: 0;overflow: hidden;text-align: left;background-color: #f0f8ff;}#sk-container-id-1 div.sk-toggleable__content pre {margin: 0.2em;color: black;border-radius: 0.25em;background-color: #f0f8ff;}#sk-container-id-1 input.sk-toggleable__control:checked~div.sk-toggleable__content {max-height: 200px;max-width: 100%;overflow: auto;}#sk-container-id-1 input.sk-toggleable__control:checked~label.sk-toggleable__label-arrow:before {content: \"▾\";}#sk-container-id-1 div.sk-estimator input.sk-toggleable__control:checked~label.sk-toggleable__label {background-color: #d4ebff;}#sk-container-id-1 div.sk-label input.sk-toggleable__control:checked~label.sk-toggleable__label {background-color: #d4ebff;}#sk-container-id-1 input.sk-hidden--visually {border: 0;clip: rect(1px 1px 1px 1px);clip: rect(1px, 1px, 1px, 1px);height: 1px;margin: -1px;overflow: hidden;padding: 0;position: absolute;width: 1px;}#sk-container-id-1 div.sk-estimator {font-family: monospace;background-color: #f0f8ff;border: 1px dotted black;border-radius: 0.25em;box-sizing: border-box;margin-bottom: 0.5em;}#sk-container-id-1 div.sk-estimator:hover {background-color: #d4ebff;}#sk-container-id-1 div.sk-parallel-item::after {content: \"\";width: 100%;border-bottom: 1px solid gray;flex-grow: 1;}#sk-container-id-1 div.sk-label:hover label.sk-toggleable__label {background-color: #d4ebff;}#sk-container-id-1 div.sk-serial::before {content: \"\";position: absolute;border-left: 1px solid gray;box-sizing: border-box;top: 0;bottom: 0;left: 50%;z-index: 0;}#sk-container-id-1 div.sk-serial {display: flex;flex-direction: column;align-items: center;background-color: white;padding-right: 0.2em;padding-left: 0.2em;position: relative;}#sk-container-id-1 div.sk-item {position: relative;z-index: 1;}#sk-container-id-1 div.sk-parallel {display: flex;align-items: stretch;justify-content: center;background-color: white;position: relative;}#sk-container-id-1 div.sk-item::before, #sk-container-id-1 div.sk-parallel-item::before {content: \"\";position: absolute;border-left: 1px solid gray;box-sizing: border-box;top: 0;bottom: 0;left: 50%;z-index: -1;}#sk-container-id-1 div.sk-parallel-item {display: flex;flex-direction: column;z-index: 1;position: relative;background-color: white;}#sk-container-id-1 div.sk-parallel-item:first-child::after {align-self: flex-end;width: 50%;}#sk-container-id-1 div.sk-parallel-item:last-child::after {align-self: flex-start;width: 50%;}#sk-container-id-1 div.sk-parallel-item:only-child::after {width: 0;}#sk-container-id-1 div.sk-dashed-wrapped {border: 1px dashed gray;margin: 0 0.4em 0.5em 0.4em;box-sizing: border-box;padding-bottom: 0.4em;background-color: white;}#sk-container-id-1 div.sk-label label {font-family: monospace;font-weight: bold;display: inline-block;line-height: 1.2em;}#sk-container-id-1 div.sk-label-container {text-align: center;}#sk-container-id-1 div.sk-container {/* jupyter's `normalize.less` sets `[hidden] { display: none; }` but bootstrap.min.css set `[hidden] { display: none !important; }` so we also need the `!important` here to be able to override the default hidden behavior on the sphinx rendered scikit-learn.org. See: https://github.com/scikit-learn/scikit-learn/issues/21755 */display: inline-block !important;position: relative;}#sk-container-id-1 div.sk-text-repr-fallback {display: none;}</style><div id=\"sk-container-id-1\" class=\"sk-top-container\"><div class=\"sk-text-repr-fallback\"><pre>LinearRegression()</pre><b>In a Jupyter environment, please rerun this cell to show the HTML representation or trust the notebook. <br />On GitHub, the HTML representation is unable to render, please try loading this page with nbviewer.org.</b></div><div class=\"sk-container\" hidden><div class=\"sk-item\"><div class=\"sk-estimator sk-toggleable\"><input class=\"sk-toggleable__control sk-hidden--visually\" id=\"sk-estimator-id-1\" type=\"checkbox\" checked><label for=\"sk-estimator-id-1\" class=\"sk-toggleable__label sk-toggleable__label-arrow\">LinearRegression</label><div class=\"sk-toggleable__content\"><pre>LinearRegression()</pre></div></div></div></div></div>"
            ]
          },
          "metadata": {},
          "execution_count": 43
        }
      ]
    },
    {
      "cell_type": "code",
      "source": [
        "# Evaluate the linear regression model on the testing set\n",
        "lin_reg_score = lin_reg.score(X_test, y_test)"
      ],
      "metadata": {
        "id": "0A9n_ltPzzwz"
      },
      "execution_count": 44,
      "outputs": []
    },
    {
      "cell_type": "code",
      "source": [
        "# Create the logistic regression model\n",
        "log_reg = LogisticRegression()\n",
        "\n",
        "# Train the logistic regression model\n",
        "log_reg.fit(X_train, y_train)\n"
      ],
      "metadata": {
        "colab": {
          "base_uri": "https://localhost:8080/",
          "height": 75
        },
        "id": "nY9F1Dw-z0My",
        "outputId": "ebf5b19a-1cb0-427e-90a9-cf0a6fbb5ed1"
      },
      "execution_count": 45,
      "outputs": [
        {
          "output_type": "execute_result",
          "data": {
            "text/plain": [
              "LogisticRegression()"
            ],
            "text/html": [
              "<style>#sk-container-id-2 {color: black;background-color: white;}#sk-container-id-2 pre{padding: 0;}#sk-container-id-2 div.sk-toggleable {background-color: white;}#sk-container-id-2 label.sk-toggleable__label {cursor: pointer;display: block;width: 100%;margin-bottom: 0;padding: 0.3em;box-sizing: border-box;text-align: center;}#sk-container-id-2 label.sk-toggleable__label-arrow:before {content: \"▸\";float: left;margin-right: 0.25em;color: #696969;}#sk-container-id-2 label.sk-toggleable__label-arrow:hover:before {color: black;}#sk-container-id-2 div.sk-estimator:hover label.sk-toggleable__label-arrow:before {color: black;}#sk-container-id-2 div.sk-toggleable__content {max-height: 0;max-width: 0;overflow: hidden;text-align: left;background-color: #f0f8ff;}#sk-container-id-2 div.sk-toggleable__content pre {margin: 0.2em;color: black;border-radius: 0.25em;background-color: #f0f8ff;}#sk-container-id-2 input.sk-toggleable__control:checked~div.sk-toggleable__content {max-height: 200px;max-width: 100%;overflow: auto;}#sk-container-id-2 input.sk-toggleable__control:checked~label.sk-toggleable__label-arrow:before {content: \"▾\";}#sk-container-id-2 div.sk-estimator input.sk-toggleable__control:checked~label.sk-toggleable__label {background-color: #d4ebff;}#sk-container-id-2 div.sk-label input.sk-toggleable__control:checked~label.sk-toggleable__label {background-color: #d4ebff;}#sk-container-id-2 input.sk-hidden--visually {border: 0;clip: rect(1px 1px 1px 1px);clip: rect(1px, 1px, 1px, 1px);height: 1px;margin: -1px;overflow: hidden;padding: 0;position: absolute;width: 1px;}#sk-container-id-2 div.sk-estimator {font-family: monospace;background-color: #f0f8ff;border: 1px dotted black;border-radius: 0.25em;box-sizing: border-box;margin-bottom: 0.5em;}#sk-container-id-2 div.sk-estimator:hover {background-color: #d4ebff;}#sk-container-id-2 div.sk-parallel-item::after {content: \"\";width: 100%;border-bottom: 1px solid gray;flex-grow: 1;}#sk-container-id-2 div.sk-label:hover label.sk-toggleable__label {background-color: #d4ebff;}#sk-container-id-2 div.sk-serial::before {content: \"\";position: absolute;border-left: 1px solid gray;box-sizing: border-box;top: 0;bottom: 0;left: 50%;z-index: 0;}#sk-container-id-2 div.sk-serial {display: flex;flex-direction: column;align-items: center;background-color: white;padding-right: 0.2em;padding-left: 0.2em;position: relative;}#sk-container-id-2 div.sk-item {position: relative;z-index: 1;}#sk-container-id-2 div.sk-parallel {display: flex;align-items: stretch;justify-content: center;background-color: white;position: relative;}#sk-container-id-2 div.sk-item::before, #sk-container-id-2 div.sk-parallel-item::before {content: \"\";position: absolute;border-left: 1px solid gray;box-sizing: border-box;top: 0;bottom: 0;left: 50%;z-index: -1;}#sk-container-id-2 div.sk-parallel-item {display: flex;flex-direction: column;z-index: 1;position: relative;background-color: white;}#sk-container-id-2 div.sk-parallel-item:first-child::after {align-self: flex-end;width: 50%;}#sk-container-id-2 div.sk-parallel-item:last-child::after {align-self: flex-start;width: 50%;}#sk-container-id-2 div.sk-parallel-item:only-child::after {width: 0;}#sk-container-id-2 div.sk-dashed-wrapped {border: 1px dashed gray;margin: 0 0.4em 0.5em 0.4em;box-sizing: border-box;padding-bottom: 0.4em;background-color: white;}#sk-container-id-2 div.sk-label label {font-family: monospace;font-weight: bold;display: inline-block;line-height: 1.2em;}#sk-container-id-2 div.sk-label-container {text-align: center;}#sk-container-id-2 div.sk-container {/* jupyter's `normalize.less` sets `[hidden] { display: none; }` but bootstrap.min.css set `[hidden] { display: none !important; }` so we also need the `!important` here to be able to override the default hidden behavior on the sphinx rendered scikit-learn.org. See: https://github.com/scikit-learn/scikit-learn/issues/21755 */display: inline-block !important;position: relative;}#sk-container-id-2 div.sk-text-repr-fallback {display: none;}</style><div id=\"sk-container-id-2\" class=\"sk-top-container\"><div class=\"sk-text-repr-fallback\"><pre>LogisticRegression()</pre><b>In a Jupyter environment, please rerun this cell to show the HTML representation or trust the notebook. <br />On GitHub, the HTML representation is unable to render, please try loading this page with nbviewer.org.</b></div><div class=\"sk-container\" hidden><div class=\"sk-item\"><div class=\"sk-estimator sk-toggleable\"><input class=\"sk-toggleable__control sk-hidden--visually\" id=\"sk-estimator-id-2\" type=\"checkbox\" checked><label for=\"sk-estimator-id-2\" class=\"sk-toggleable__label sk-toggleable__label-arrow\">LogisticRegression</label><div class=\"sk-toggleable__content\"><pre>LogisticRegression()</pre></div></div></div></div></div>"
            ]
          },
          "metadata": {},
          "execution_count": 45
        }
      ]
    },
    {
      "cell_type": "code",
      "source": [
        "# Evaluate the logistic regression model on the testing set\n",
        "log_reg_score = log_reg.score(X_test, y_test)"
      ],
      "metadata": {
        "id": "2bpeBGnRz4Rz"
      },
      "execution_count": 46,
      "outputs": []
    },
    {
      "cell_type": "code",
      "source": [
        "# Compare the performance of the models\n",
        "print('Linear regression score:', lin_reg_score)\n",
        "print('Logistic regression score:', log_reg_score)"
      ],
      "metadata": {
        "colab": {
          "base_uri": "https://localhost:8080/"
        },
        "id": "W1MZka6F0lyw",
        "outputId": "975692a4-7021-460e-ce79-8ed8d0afd432"
      },
      "execution_count": 47,
      "outputs": [
        {
          "output_type": "stream",
          "name": "stdout",
          "text": [
            "Linear regression score: 1.0\n",
            "Logistic regression score: 0.6260330578512396\n"
          ]
        }
      ]
    },
    {
      "cell_type": "code",
      "source": [
        "#L2 Regularization for logistic regression"
      ],
      "metadata": {
        "id": "lkC2UVCE0wRd"
      },
      "execution_count": 48,
      "outputs": []
    },
    {
      "cell_type": "code",
      "source": [
        "from sklearn.linear_model import LogisticRegression\n",
        "\n",
        "# Create the logistic regression model\n",
        "log_reg = LogisticRegression(penalty='l2')\n",
        "\n",
        "# Train the logistic regression model\n",
        "log_reg.fit(X_train, y_train)\n",
        "\n",
        "# Evaluate the logistic regression model on the testing set\n",
        "log_reg_score = log_reg.score(X_test, y_test)\n",
        "\n",
        "# Print the score\n",
        "print('Logistic regression score with L2 regularization:', log_reg_score)\n",
        "\n"
      ],
      "metadata": {
        "colab": {
          "base_uri": "https://localhost:8080/"
        },
        "id": "sDB_Jxbx1j3z",
        "outputId": "e5e1a696-b719-4a3a-92c8-05f1ed151367"
      },
      "execution_count": 49,
      "outputs": [
        {
          "output_type": "stream",
          "name": "stdout",
          "text": [
            "Logistic regression score with L2 regularization: 0.6260330578512396\n"
          ]
        }
      ]
    },
    {
      "cell_type": "code",
      "source": [
        "from sklearn.linear_model import LinearRegression, LogisticRegression\n",
        "from sklearn.metrics import roc_curve, auc, precision_recall_curve, f1_score, confusion_matrix\n",
        "from sklearn.model_selection import train_test_split"
      ],
      "metadata": {
        "id": "nWQt6llk1mFI"
      },
      "execution_count": 50,
      "outputs": []
    },
    {
      "cell_type": "code",
      "source": [
        "# Convert Number_of_Vehicles into a binary classification problem\n",
        "crash_df['Target'] = np.where(crash_df['Number_of_Vehicles'] >= 2, 1, 0)"
      ],
      "metadata": {
        "id": "9hDMU1Po3fyk"
      },
      "execution_count": 51,
      "outputs": []
    },
    {
      "cell_type": "code",
      "source": [
        "# Split the data into training and testing sets\n",
        "X_train, X_test, y_train, y_test = train_test_split(crash_df.drop(['Number_of_Vehicles', 'Target'], axis=1),\n",
        "                                                    crash_df['Target'],\n",
        "                                                    test_size=0.2,\n",
        "                                                    random_state=0)"
      ],
      "metadata": {
        "id": "TlEqETrf3iXi"
      },
      "execution_count": 52,
      "outputs": []
    },
    {
      "cell_type": "code",
      "source": [
        "# Linear Regression model\n",
        "lin_reg = LinearRegression()\n",
        "lin_reg.fit(X_train, y_train)\n"
      ],
      "metadata": {
        "colab": {
          "base_uri": "https://localhost:8080/",
          "height": 75
        },
        "id": "2QDiVcfh54yV",
        "outputId": "022e026c-5388-43a9-ce4c-3c7f5007f22e"
      },
      "execution_count": 53,
      "outputs": [
        {
          "output_type": "execute_result",
          "data": {
            "text/plain": [
              "LinearRegression()"
            ],
            "text/html": [
              "<style>#sk-container-id-3 {color: black;background-color: white;}#sk-container-id-3 pre{padding: 0;}#sk-container-id-3 div.sk-toggleable {background-color: white;}#sk-container-id-3 label.sk-toggleable__label {cursor: pointer;display: block;width: 100%;margin-bottom: 0;padding: 0.3em;box-sizing: border-box;text-align: center;}#sk-container-id-3 label.sk-toggleable__label-arrow:before {content: \"▸\";float: left;margin-right: 0.25em;color: #696969;}#sk-container-id-3 label.sk-toggleable__label-arrow:hover:before {color: black;}#sk-container-id-3 div.sk-estimator:hover label.sk-toggleable__label-arrow:before {color: black;}#sk-container-id-3 div.sk-toggleable__content {max-height: 0;max-width: 0;overflow: hidden;text-align: left;background-color: #f0f8ff;}#sk-container-id-3 div.sk-toggleable__content pre {margin: 0.2em;color: black;border-radius: 0.25em;background-color: #f0f8ff;}#sk-container-id-3 input.sk-toggleable__control:checked~div.sk-toggleable__content {max-height: 200px;max-width: 100%;overflow: auto;}#sk-container-id-3 input.sk-toggleable__control:checked~label.sk-toggleable__label-arrow:before {content: \"▾\";}#sk-container-id-3 div.sk-estimator input.sk-toggleable__control:checked~label.sk-toggleable__label {background-color: #d4ebff;}#sk-container-id-3 div.sk-label input.sk-toggleable__control:checked~label.sk-toggleable__label {background-color: #d4ebff;}#sk-container-id-3 input.sk-hidden--visually {border: 0;clip: rect(1px 1px 1px 1px);clip: rect(1px, 1px, 1px, 1px);height: 1px;margin: -1px;overflow: hidden;padding: 0;position: absolute;width: 1px;}#sk-container-id-3 div.sk-estimator {font-family: monospace;background-color: #f0f8ff;border: 1px dotted black;border-radius: 0.25em;box-sizing: border-box;margin-bottom: 0.5em;}#sk-container-id-3 div.sk-estimator:hover {background-color: #d4ebff;}#sk-container-id-3 div.sk-parallel-item::after {content: \"\";width: 100%;border-bottom: 1px solid gray;flex-grow: 1;}#sk-container-id-3 div.sk-label:hover label.sk-toggleable__label {background-color: #d4ebff;}#sk-container-id-3 div.sk-serial::before {content: \"\";position: absolute;border-left: 1px solid gray;box-sizing: border-box;top: 0;bottom: 0;left: 50%;z-index: 0;}#sk-container-id-3 div.sk-serial {display: flex;flex-direction: column;align-items: center;background-color: white;padding-right: 0.2em;padding-left: 0.2em;position: relative;}#sk-container-id-3 div.sk-item {position: relative;z-index: 1;}#sk-container-id-3 div.sk-parallel {display: flex;align-items: stretch;justify-content: center;background-color: white;position: relative;}#sk-container-id-3 div.sk-item::before, #sk-container-id-3 div.sk-parallel-item::before {content: \"\";position: absolute;border-left: 1px solid gray;box-sizing: border-box;top: 0;bottom: 0;left: 50%;z-index: -1;}#sk-container-id-3 div.sk-parallel-item {display: flex;flex-direction: column;z-index: 1;position: relative;background-color: white;}#sk-container-id-3 div.sk-parallel-item:first-child::after {align-self: flex-end;width: 50%;}#sk-container-id-3 div.sk-parallel-item:last-child::after {align-self: flex-start;width: 50%;}#sk-container-id-3 div.sk-parallel-item:only-child::after {width: 0;}#sk-container-id-3 div.sk-dashed-wrapped {border: 1px dashed gray;margin: 0 0.4em 0.5em 0.4em;box-sizing: border-box;padding-bottom: 0.4em;background-color: white;}#sk-container-id-3 div.sk-label label {font-family: monospace;font-weight: bold;display: inline-block;line-height: 1.2em;}#sk-container-id-3 div.sk-label-container {text-align: center;}#sk-container-id-3 div.sk-container {/* jupyter's `normalize.less` sets `[hidden] { display: none; }` but bootstrap.min.css set `[hidden] { display: none !important; }` so we also need the `!important` here to be able to override the default hidden behavior on the sphinx rendered scikit-learn.org. See: https://github.com/scikit-learn/scikit-learn/issues/21755 */display: inline-block !important;position: relative;}#sk-container-id-3 div.sk-text-repr-fallback {display: none;}</style><div id=\"sk-container-id-3\" class=\"sk-top-container\"><div class=\"sk-text-repr-fallback\"><pre>LinearRegression()</pre><b>In a Jupyter environment, please rerun this cell to show the HTML representation or trust the notebook. <br />On GitHub, the HTML representation is unable to render, please try loading this page with nbviewer.org.</b></div><div class=\"sk-container\" hidden><div class=\"sk-item\"><div class=\"sk-estimator sk-toggleable\"><input class=\"sk-toggleable__control sk-hidden--visually\" id=\"sk-estimator-id-3\" type=\"checkbox\" checked><label for=\"sk-estimator-id-3\" class=\"sk-toggleable__label sk-toggleable__label-arrow\">LinearRegression</label><div class=\"sk-toggleable__content\"><pre>LinearRegression()</pre></div></div></div></div></div>"
            ]
          },
          "metadata": {},
          "execution_count": 53
        }
      ]
    },
    {
      "cell_type": "code",
      "source": [
        "# Evaluate the Linear Regression model on the testing set\n",
        "lin_reg_score = lin_reg.score(X_test, y_test)\n"
      ],
      "metadata": {
        "id": "Cb095WGE6J0D"
      },
      "execution_count": 54,
      "outputs": []
    },
    {
      "cell_type": "code",
      "source": [
        "# Logistic Regression model\n",
        "log_reg = LogisticRegression()\n",
        "log_reg.fit(X_train, y_train)\n",
        "\n",
        "# Evaluate the Logistic Regression model on the testing set\n",
        "log_reg_score = log_reg.score(X_test, y_test)"
      ],
      "metadata": {
        "id": "hYcd3BPC63Cj"
      },
      "execution_count": 55,
      "outputs": []
    },
    {
      "cell_type": "code",
      "source": [
        "# Logistic Regression model with L2 regularization\n",
        "log_reg_l2 = LogisticRegression(penalty='l2')\n",
        "log_reg_l2.fit(X_train, y_train)"
      ],
      "metadata": {
        "colab": {
          "base_uri": "https://localhost:8080/",
          "height": 75
        },
        "id": "hAbwn0Ol7ale",
        "outputId": "7b481f45-e551-41b1-e67f-9eb419baab04"
      },
      "execution_count": 56,
      "outputs": [
        {
          "output_type": "execute_result",
          "data": {
            "text/plain": [
              "LogisticRegression()"
            ],
            "text/html": [
              "<style>#sk-container-id-4 {color: black;background-color: white;}#sk-container-id-4 pre{padding: 0;}#sk-container-id-4 div.sk-toggleable {background-color: white;}#sk-container-id-4 label.sk-toggleable__label {cursor: pointer;display: block;width: 100%;margin-bottom: 0;padding: 0.3em;box-sizing: border-box;text-align: center;}#sk-container-id-4 label.sk-toggleable__label-arrow:before {content: \"▸\";float: left;margin-right: 0.25em;color: #696969;}#sk-container-id-4 label.sk-toggleable__label-arrow:hover:before {color: black;}#sk-container-id-4 div.sk-estimator:hover label.sk-toggleable__label-arrow:before {color: black;}#sk-container-id-4 div.sk-toggleable__content {max-height: 0;max-width: 0;overflow: hidden;text-align: left;background-color: #f0f8ff;}#sk-container-id-4 div.sk-toggleable__content pre {margin: 0.2em;color: black;border-radius: 0.25em;background-color: #f0f8ff;}#sk-container-id-4 input.sk-toggleable__control:checked~div.sk-toggleable__content {max-height: 200px;max-width: 100%;overflow: auto;}#sk-container-id-4 input.sk-toggleable__control:checked~label.sk-toggleable__label-arrow:before {content: \"▾\";}#sk-container-id-4 div.sk-estimator input.sk-toggleable__control:checked~label.sk-toggleable__label {background-color: #d4ebff;}#sk-container-id-4 div.sk-label input.sk-toggleable__control:checked~label.sk-toggleable__label {background-color: #d4ebff;}#sk-container-id-4 input.sk-hidden--visually {border: 0;clip: rect(1px 1px 1px 1px);clip: rect(1px, 1px, 1px, 1px);height: 1px;margin: -1px;overflow: hidden;padding: 0;position: absolute;width: 1px;}#sk-container-id-4 div.sk-estimator {font-family: monospace;background-color: #f0f8ff;border: 1px dotted black;border-radius: 0.25em;box-sizing: border-box;margin-bottom: 0.5em;}#sk-container-id-4 div.sk-estimator:hover {background-color: #d4ebff;}#sk-container-id-4 div.sk-parallel-item::after {content: \"\";width: 100%;border-bottom: 1px solid gray;flex-grow: 1;}#sk-container-id-4 div.sk-label:hover label.sk-toggleable__label {background-color: #d4ebff;}#sk-container-id-4 div.sk-serial::before {content: \"\";position: absolute;border-left: 1px solid gray;box-sizing: border-box;top: 0;bottom: 0;left: 50%;z-index: 0;}#sk-container-id-4 div.sk-serial {display: flex;flex-direction: column;align-items: center;background-color: white;padding-right: 0.2em;padding-left: 0.2em;position: relative;}#sk-container-id-4 div.sk-item {position: relative;z-index: 1;}#sk-container-id-4 div.sk-parallel {display: flex;align-items: stretch;justify-content: center;background-color: white;position: relative;}#sk-container-id-4 div.sk-item::before, #sk-container-id-4 div.sk-parallel-item::before {content: \"\";position: absolute;border-left: 1px solid gray;box-sizing: border-box;top: 0;bottom: 0;left: 50%;z-index: -1;}#sk-container-id-4 div.sk-parallel-item {display: flex;flex-direction: column;z-index: 1;position: relative;background-color: white;}#sk-container-id-4 div.sk-parallel-item:first-child::after {align-self: flex-end;width: 50%;}#sk-container-id-4 div.sk-parallel-item:last-child::after {align-self: flex-start;width: 50%;}#sk-container-id-4 div.sk-parallel-item:only-child::after {width: 0;}#sk-container-id-4 div.sk-dashed-wrapped {border: 1px dashed gray;margin: 0 0.4em 0.5em 0.4em;box-sizing: border-box;padding-bottom: 0.4em;background-color: white;}#sk-container-id-4 div.sk-label label {font-family: monospace;font-weight: bold;display: inline-block;line-height: 1.2em;}#sk-container-id-4 div.sk-label-container {text-align: center;}#sk-container-id-4 div.sk-container {/* jupyter's `normalize.less` sets `[hidden] { display: none; }` but bootstrap.min.css set `[hidden] { display: none !important; }` so we also need the `!important` here to be able to override the default hidden behavior on the sphinx rendered scikit-learn.org. See: https://github.com/scikit-learn/scikit-learn/issues/21755 */display: inline-block !important;position: relative;}#sk-container-id-4 div.sk-text-repr-fallback {display: none;}</style><div id=\"sk-container-id-4\" class=\"sk-top-container\"><div class=\"sk-text-repr-fallback\"><pre>LogisticRegression()</pre><b>In a Jupyter environment, please rerun this cell to show the HTML representation or trust the notebook. <br />On GitHub, the HTML representation is unable to render, please try loading this page with nbviewer.org.</b></div><div class=\"sk-container\" hidden><div class=\"sk-item\"><div class=\"sk-estimator sk-toggleable\"><input class=\"sk-toggleable__control sk-hidden--visually\" id=\"sk-estimator-id-4\" type=\"checkbox\" checked><label for=\"sk-estimator-id-4\" class=\"sk-toggleable__label sk-toggleable__label-arrow\">LogisticRegression</label><div class=\"sk-toggleable__content\"><pre>LogisticRegression()</pre></div></div></div></div></div>"
            ]
          },
          "metadata": {},
          "execution_count": 56
        }
      ]
    },
    {
      "cell_type": "code",
      "source": [
        "# Evaluate the Logistic Regression model with L2 regularization on the testing set\n",
        "log_reg_l2_score = log_reg_l2.score(X_test, y_test)"
      ],
      "metadata": {
        "id": "YjMLbAIqAekt"
      },
      "execution_count": 57,
      "outputs": []
    },
    {
      "cell_type": "code",
      "source": [
        "# Compute the ROC curve and AUC for the Linear Regression model\n",
        "fpr_lin_reg, tpr_lin_reg, thresholds_lin_reg = roc_curve(y_test, lin_reg.predict(X_test))\n",
        "lin_reg_roc_auc = auc(fpr_lin_reg, tpr_lin_reg)"
      ],
      "metadata": {
        "id": "YQ9YJaFVAgy7"
      },
      "execution_count": 58,
      "outputs": []
    },
    {
      "cell_type": "code",
      "source": [
        "# Compute the ROC curve and AUC for the Logistic Regression model\n",
        "fpr_log_reg, tpr_log_reg, thresholds_log_reg = roc_curve(y_test, log_reg.predict_proba(X_test)[:, 1])\n",
        "log_reg_roc_auc = auc(fpr_log_reg, tpr_log_reg)"
      ],
      "metadata": {
        "id": "x7LFtrbeAjBP"
      },
      "execution_count": 59,
      "outputs": []
    },
    {
      "cell_type": "code",
      "source": [
        "# Compute the PR-ROC curve and AUC for the Logistic Regression model\n",
        "precision, recall, thresholds_pr = precision_recall_curve(y_test, log_reg.predict_proba(X_test)[:, 1])\n",
        "log_reg_pr_auc = auc(recall, precision)"
      ],
      "metadata": {
        "id": "o64X_ktbAlN9"
      },
      "execution_count": 60,
      "outputs": []
    },
    {
      "cell_type": "code",
      "source": [
        "# Compute the F1-score for the Linear Regression model\n",
        "lin_reg_f1_score = f1_score(y_test, np.round(lin_reg.predict(X_test)))\n",
        "\n",
        "# Compute the F1-score for the Logistic Regression model\n",
        "log_reg_f1_score = f1_score(y_test, log_reg.predict(X_test))"
      ],
      "metadata": {
        "id": "ccdNhu-DAm_4"
      },
      "execution_count": 61,
      "outputs": []
    },
    {
      "cell_type": "code",
      "source": [
        "# Compute the confusion matrix for the Linear Regression model\n",
        "lin_reg_cm = confusion_matrix(y_test, np.round(lin_reg.predict(X_test)))\n",
        "\n",
        "# Compute the confusion matrix for the Logistic Regression model\n",
        "log_reg_cm = confusion_matrix(y_test, log_reg.predict(X_test))"
      ],
      "metadata": {
        "id": "wJssSq4DApCj"
      },
      "execution_count": 62,
      "outputs": []
    },
    {
      "cell_type": "code",
      "source": [
        "# Print the performance metrics\n",
        "print('Linear Regression score: {:.3f}'.format(lin_reg_score))\n",
        "print('Logistic Regression score: {:.3f}'.format(log_reg_score))\n",
        "print('Logistic Regression with L2 regularization score: {:.3f}'.format(log_reg_l2_score))\n",
        "print('Linear Regression F1-score: {:.3f}'.format(lin_reg_f1_score))\n",
        "print('Logistic Regression F1-score: {:.3f}'.format(log_reg_f1_score))\n",
        "print('Linear Regression confusion matrix:')\n",
        "print(lin_reg_cm)\n",
        "print('Logistic Regression confusion matrix:')\n",
        "print(log_reg_cm)\n",
        "print('Linear Regression ROC curve AUC: {:.3f}'.format(lin_reg_roc_auc))\n",
        "print('Logistic Regression ROC curve AUC: {:.3f}'.format(log_reg_roc_auc))\n",
        "print('Logistic Regression PR-ROC curve AUC: {:.3f}'.format(log_reg_pr_auc))"
      ],
      "metadata": {
        "colab": {
          "base_uri": "https://localhost:8080/"
        },
        "id": "bc-DkKeNAtx8",
        "outputId": "3122073e-bbb9-4deb-fe48-c4702890078c"
      },
      "execution_count": 63,
      "outputs": [
        {
          "output_type": "stream",
          "name": "stdout",
          "text": [
            "Linear Regression score: 0.069\n",
            "Logistic Regression score: 0.768\n",
            "Logistic Regression with L2 regularization score: 0.768\n",
            "Linear Regression F1-score: 0.868\n",
            "Logistic Regression F1-score: 0.869\n",
            "Linear Regression confusion matrix:\n",
            "[[  92 2040]\n",
            " [  90 6974]]\n",
            "Logistic Regression confusion matrix:\n",
            "[[   0 2132]\n",
            " [   0 7064]]\n",
            "Linear Regression ROC curve AUC: 0.681\n",
            "Logistic Regression ROC curve AUC: 0.530\n",
            "Logistic Regression PR-ROC curve AUC: 0.776\n"
          ]
        }
      ]
    },
    {
      "cell_type": "code",
      "source": [
        "import matplotlib.pyplot as plt\n"
      ],
      "metadata": {
        "id": "Tj1tzbfJBMMm"
      },
      "execution_count": 64,
      "outputs": []
    },
    {
      "cell_type": "code",
      "source": [
        "# Plot the ROC curves for the Linear Regression and Logistic Regression models\n",
        "plt.plot(fpr_lin_reg, tpr_lin_reg, label='Linear Regression (AUC = {:.2f})'.format(lin_reg_roc_auc))\n",
        "plt.plot(fpr_log_reg, tpr_log_reg, label='Logistic Regression (AUC = {:.2f})'.format(log_reg_roc_auc))\n",
        "plt.plot([0, 1], [0, 1], 'k--')\n",
        "plt.xlim([0.0, 1.0])\n",
        "plt.ylim([0.0, 1.05])\n",
        "plt.xlabel('False Positive Rate')\n",
        "plt.ylabel('True Positive Rate')\n",
        "plt.title('ROC Curve')\n",
        "plt.legend(loc=\"lower right\")\n",
        "plt.show()\n"
      ],
      "metadata": {
        "colab": {
          "base_uri": "https://localhost:8080/",
          "height": 472
        },
        "id": "WxZk_ZNLBaw9",
        "outputId": "b711914c-68ce-49d5-cc8f-661c0d9b0776"
      },
      "execution_count": 65,
      "outputs": [
        {
          "output_type": "display_data",
          "data": {
            "text/plain": [
              "<Figure size 640x480 with 1 Axes>"
            ],
            "image/png": "[encoded data removed]"
          },
          "metadata": {}
        }
      ]
    },
    {
      "cell_type": "code",
      "source": [
        "# Plot the PR-ROC curve for the Logistic Regression model\n",
        "plt.plot(recall, precision, label='Logistic Regression (AUC = {:.2f})'.format(log_reg_pr_auc))\n",
        "plt.xlim([0.0, 1.0])\n",
        "plt.ylim([0.0, 1.05])\n",
        "plt.xlabel('Recall')\n",
        "plt.ylabel('Precision')\n",
        "plt.title('PR-ROC Curve')\n",
        "plt.legend(loc=\"lower left\")\n",
        "plt.show()"
      ],
      "metadata": {
        "colab": {
          "base_uri": "https://localhost:8080/",
          "height": 472
        },
        "id": "u8nQPN9oBc4d",
        "outputId": "cd931022-114f-471b-ab69-bcb8521026a2"
      },
      "execution_count": 66,
      "outputs": [
        {
          "output_type": "display_data",
          "data": {
            "text/plain": [
              "<Figure size 640x480 with 1 Axes>"
            ],
            "image/png": "[encoded data removed]"
          },
          "metadata": {}
        }
      ]
    },
    {
      "cell_type": "code",
      "source": [
        "# Plot the confusion matrices for the Linear Regression and Logistic Regression models\n",
        "plt.subplot(1, 2, 1)\n",
        "plt.imshow(lin_reg_cm, cmap=plt.cm.Blues)\n",
        "plt.xlabel('Predicted label')\n",
        "plt.ylabel('True label')\n",
        "plt.title('Linear Regression\\nAccuracy={:.3f}'.format(lin_reg_score))\n",
        "plt.xticks([0,1], ['0', '1'])\n",
        "plt.yticks([0,1], ['0', '1'])\n",
        "plt.colorbar()\n",
        "\n",
        "plt.subplot(1, 2, 2)\n",
        "plt.imshow(log_reg_cm, cmap=plt.cm.Blues)\n",
        "plt.xlabel('Predicted label')\n",
        "plt.ylabel('True label')\n",
        "plt.title('Logistic Regression\\nAccuracy={:.3f}'.format(log_reg_score))\n",
        "plt.xticks([0,1], ['0', '1'])\n",
        "plt.yticks([0,1], ['0', '1'])\n",
        "plt.colorbar()\n",
        "\n",
        "plt.tight_layout()\n",
        "plt.show()\n"
      ],
      "metadata": {
        "colab": {
          "base_uri": "https://localhost:8080/",
          "height": 486
        },
        "id": "M25CbGnkBpA9",
        "outputId": "47f49cac-15a9-4d4c-dede-5d805580f62c"
      },
      "execution_count": 67,
      "outputs": [
        {
          "output_type": "display_data",
          "data": {
            "text/plain": [
              "<Figure size 640x480 with 4 Axes>"
            ],
            "image/png": "[encoded data removed]"
          },
          "metadata": {}
        }
      ]
    },
    {
      "cell_type": "code",
      "source": [
        "#PART 1 - END"
      ],
      "metadata": {
        "id": "648bW7wVBv8e"
      },
      "execution_count": 68,
      "outputs": []
    },
    {
      "cell_type": "code",
      "source": [
        "#PART 2 - Hyperparameter tuning using LightGBM"
      ],
      "metadata": {
        "id": "ZnnSoC0BCev2"
      },
      "execution_count": 69,
      "outputs": []
    },
    {
      "cell_type": "code",
      "source": [
        "import pandas as pd\n",
        "import lightgbm as lgb\n",
        "from sklearn.model_selection import train_test_split\n",
        "from sklearn.metrics import accuracy_score\n",
        "from sklearn.model_selection import GridSearchCV"
      ],
      "metadata": {
        "id": "7098tuPGNR7l"
      },
      "execution_count": 70,
      "outputs": []
    },
    {
      "cell_type": "code",
      "source": [
        "# Convert Number_of_Vehicles into a binary classification problem\n",
        "crash_df['Target'] = np.where(crash_df['Number_of_Vehicles'] >= 2, 1, 0)\n"
      ],
      "metadata": {
        "id": "bv9t9Eo_PLyk"
      },
      "execution_count": 71,
      "outputs": []
    },
    {
      "cell_type": "code",
      "source": [
        "# Split the data into training and testing sets\n",
        "X_train, X_test, y_train, y_test = train_test_split(crash_df.drop(['Number_of_Vehicles', 'Target'], axis=1),\n",
        "                                                    crash_df['Target'],\n",
        "                                                    test_size=0.2,\n",
        "                                                    random_state=0)"
      ],
      "metadata": {
        "id": "Afs7plqPPPHJ"
      },
      "execution_count": 72,
      "outputs": []
    },
    {
      "cell_type": "code",
      "source": [
        "# Define the hyperparameter grid for tuning\n",
        "param_grid = {'num_leaves': [31, 63, 127],\n",
        "              'max_depth': [3, 5, 7],\n",
        "              'learning_rate': [0.05, 0.1, 0.2],\n",
        "              'n_estimators': [50, 100, 200]}\n"
      ],
      "metadata": {
        "id": "-itaikV0PRAZ"
      },
      "execution_count": 73,
      "outputs": []
    },
    {
      "cell_type": "code",
      "source": [
        "# Create a LightGBM classifier object\n",
        "lgb_clf = lgb.LGBMClassifier(random_state=0)"
      ],
      "metadata": {
        "id": "twMaHrr2PS98"
      },
      "execution_count": 74,
      "outputs": []
    },
    {
      "cell_type": "code",
      "source": [
        "# Perform grid search cross-validation to find the best hyperparameters\n",
        "grid_search = GridSearchCV(estimator=lgb_clf,\n",
        "                           param_grid=param_grid,\n",
        "                           cv=3,\n",
        "                           scoring='accuracy',\n",
        "                           n_jobs=-1)\n",
        "grid_search.fit(X_train, y_train)\n"
      ],
      "metadata": {
        "colab": {
          "base_uri": "https://localhost:8080/",
          "height": 118
        },
        "id": "uYAwQ55fPUwm",
        "outputId": "1158fe78-221e-4667-dbf0-0c7675e34cdc"
      },
      "execution_count": 75,
      "outputs": [
        {
          "output_type": "execute_result",
          "data": {
            "text/plain": [
              "GridSearchCV(cv=3, estimator=LGBMClassifier(random_state=0), n_jobs=-1,\n",
              "             param_grid={'learning_rate': [0.05, 0.1, 0.2],\n",
              "                         'max_depth': [3, 5, 7], 'n_estimators': [50, 100, 200],\n",
              "                         'num_leaves': [31, 63, 127]},\n",
              "             scoring='accuracy')"
            ],
            "text/html": [
              "<style>#sk-container-id-5 {color: black;background-color: white;}#sk-container-id-5 pre{padding: 0;}#sk-container-id-5 div.sk-toggleable {background-color: white;}#sk-container-id-5 label.sk-toggleable__label {cursor: pointer;display: block;width: 100%;margin-bottom: 0;padding: 0.3em;box-sizing: border-box;text-align: center;}#sk-container-id-5 label.sk-toggleable__label-arrow:before {content: \"▸\";float: left;margin-right: 0.25em;color: #696969;}#sk-container-id-5 label.sk-toggleable__label-arrow:hover:before {color: black;}#sk-container-id-5 div.sk-estimator:hover label.sk-toggleable__label-arrow:before {color: black;}#sk-container-id-5 div.sk-toggleable__content {max-height: 0;max-width: 0;overflow: hidden;text-align: left;background-color: #f0f8ff;}#sk-container-id-5 div.sk-toggleable__content pre {margin: 0.2em;color: black;border-radius: 0.25em;background-color: #f0f8ff;}#sk-container-id-5 input.sk-toggleable__control:checked~div.sk-toggleable__content {max-height: 200px;max-width: 100%;overflow: auto;}#sk-container-id-5 input.sk-toggleable__control:checked~label.sk-toggleable__label-arrow:before {content: \"▾\";}#sk-container-id-5 div.sk-estimator input.sk-toggleable__control:checked~label.sk-toggleable__label {background-color: #d4ebff;}#sk-container-id-5 div.sk-label input.sk-toggleable__control:checked~label.sk-toggleable__label {background-color: #d4ebff;}#sk-container-id-5 input.sk-hidden--visually {border: 0;clip: rect(1px 1px 1px 1px);clip: rect(1px, 1px, 1px, 1px);height: 1px;margin: -1px;overflow: hidden;padding: 0;position: absolute;width: 1px;}#sk-container-id-5 div.sk-estimator {font-family: monospace;background-color: #f0f8ff;border: 1px dotted black;border-radius: 0.25em;box-sizing: border-box;margin-bottom: 0.5em;}#sk-container-id-5 div.sk-estimator:hover {background-color: #d4ebff;}#sk-container-id-5 div.sk-parallel-item::after {content: \"\";width: 100%;border-bottom: 1px solid gray;flex-grow: 1;}#sk-container-id-5 div.sk-label:hover label.sk-toggleable__label {background-color: #d4ebff;}#sk-container-id-5 div.sk-serial::before {content: \"\";position: absolute;border-left: 1px solid gray;box-sizing: border-box;top: 0;bottom: 0;left: 50%;z-index: 0;}#sk-container-id-5 div.sk-serial {display: flex;flex-direction: column;align-items: center;background-color: white;padding-right: 0.2em;padding-left: 0.2em;position: relative;}#sk-container-id-5 div.sk-item {position: relative;z-index: 1;}#sk-container-id-5 div.sk-parallel {display: flex;align-items: stretch;justify-content: center;background-color: white;position: relative;}#sk-container-id-5 div.sk-item::before, #sk-container-id-5 div.sk-parallel-item::before {content: \"\";position: absolute;border-left: 1px solid gray;box-sizing: border-box;top: 0;bottom: 0;left: 50%;z-index: -1;}#sk-container-id-5 div.sk-parallel-item {display: flex;flex-direction: column;z-index: 1;position: relative;background-color: white;}#sk-container-id-5 div.sk-parallel-item:first-child::after {align-self: flex-end;width: 50%;}#sk-container-id-5 div.sk-parallel-item:last-child::after {align-self: flex-start;width: 50%;}#sk-container-id-5 div.sk-parallel-item:only-child::after {width: 0;}#sk-container-id-5 div.sk-dashed-wrapped {border: 1px dashed gray;margin: 0 0.4em 0.5em 0.4em;box-sizing: border-box;padding-bottom: 0.4em;background-color: white;}#sk-container-id-5 div.sk-label label {font-family: monospace;font-weight: bold;display: inline-block;line-height: 1.2em;}#sk-container-id-5 div.sk-label-container {text-align: center;}#sk-container-id-5 div.sk-container {/* jupyter's `normalize.less` sets `[hidden] { display: none; }` but bootstrap.min.css set `[hidden] { display: none !important; }` so we also need the `!important` here to be able to override the default hidden behavior on the sphinx rendered scikit-learn.org. See: https://github.com/scikit-learn/scikit-learn/issues/21755 */display: inline-block !important;position: relative;}#sk-container-id-5 div.sk-text-repr-fallback {display: none;}</style><div id=\"sk-container-id-5\" class=\"sk-top-container\"><div class=\"sk-text-repr-fallback\"><pre>GridSearchCV(cv=3, estimator=LGBMClassifier(random_state=0), n_jobs=-1,\n",
              "             param_grid={&#x27;learning_rate&#x27;: [0.05, 0.1, 0.2],\n",
              "                         &#x27;max_depth&#x27;: [3, 5, 7], &#x27;n_estimators&#x27;: [50, 100, 200],\n",
              "                         &#x27;num_leaves&#x27;: [31, 63, 127]},\n",
              "             scoring=&#x27;accuracy&#x27;)</pre><b>In a Jupyter environment, please rerun this cell to show the HTML representation or trust the notebook. <br />On GitHub, the HTML representation is unable to render, please try loading this page with nbviewer.org.</b></div><div class=\"sk-container\" hidden><div class=\"sk-item sk-dashed-wrapped\"><div class=\"sk-label-container\"><div class=\"sk-label sk-toggleable\"><input class=\"sk-toggleable__control sk-hidden--visually\" id=\"sk-estimator-id-5\" type=\"checkbox\" ><label for=\"sk-estimator-id-5\" class=\"sk-toggleable__label sk-toggleable__label-arrow\">GridSearchCV</label><div class=\"sk-toggleable__content\"><pre>GridSearchCV(cv=3, estimator=LGBMClassifier(random_state=0), n_jobs=-1,\n",
              "             param_grid={&#x27;learning_rate&#x27;: [0.05, 0.1, 0.2],\n",
              "                         &#x27;max_depth&#x27;: [3, 5, 7], &#x27;n_estimators&#x27;: [50, 100, 200],\n",
              "                         &#x27;num_leaves&#x27;: [31, 63, 127]},\n",
              "             scoring=&#x27;accuracy&#x27;)</pre></div></div></div><div class=\"sk-parallel\"><div class=\"sk-parallel-item\"><div class=\"sk-item\"><div class=\"sk-label-container\"><div class=\"sk-label sk-toggleable\"><input class=\"sk-toggleable__control sk-hidden--visually\" id=\"sk-estimator-id-6\" type=\"checkbox\" ><label for=\"sk-estimator-id-6\" class=\"sk-toggleable__label sk-toggleable__label-arrow\">estimator: LGBMClassifier</label><div class=\"sk-toggleable__content\"><pre>LGBMClassifier(random_state=0)</pre></div></div></div><div class=\"sk-serial\"><div class=\"sk-item\"><div class=\"sk-estimator sk-toggleable\"><input class=\"sk-toggleable__control sk-hidden--visually\" id=\"sk-estimator-id-7\" type=\"checkbox\" ><label for=\"sk-estimator-id-7\" class=\"sk-toggleable__label sk-toggleable__label-arrow\">LGBMClassifier</label><div class=\"sk-toggleable__content\"><pre>LGBMClassifier(random_state=0)</pre></div></div></div></div></div></div></div></div></div></div>"
            ]
          },
          "metadata": {},
          "execution_count": 75
        }
      ]
    },
    {
      "cell_type": "code",
      "source": [
        "# Print the best hyperparameters and accuracy score\n",
        "print(\"Best Hyperparameters: \", grid_search.best_params_)\n",
        "print(\"Best Accuracy Score: \", grid_search.best_score_)"
      ],
      "metadata": {
        "colab": {
          "base_uri": "https://localhost:8080/"
        },
        "id": "Tnf4jRZDPWni",
        "outputId": "fa6751bb-2df0-4854-b7d8-77eff59aebda"
      },
      "execution_count": 76,
      "outputs": [
        {
          "output_type": "stream",
          "name": "stdout",
          "text": [
            "Best Hyperparameters:  {'learning_rate': 0.1, 'max_depth': 7, 'n_estimators': 50, 'num_leaves': 127}\n",
            "Best Accuracy Score:  0.9783330269922113\n"
          ]
        }
      ]
    },
    {
      "cell_type": "code",
      "source": [
        "# Train a LightGBM classifier with the best hyperparameters\n",
        "best_lgb_clf = lgb.LGBMClassifier(**grid_search.best_params_)\n",
        "best_lgb_clf.fit(X_train, y_train)"
      ],
      "metadata": {
        "colab": {
          "base_uri": "https://localhost:8080/",
          "height": 75
        },
        "id": "GDIpq1ZAPw89",
        "outputId": "f37171b7-7053-4d10-cf10-cf53e158e701"
      },
      "execution_count": 77,
      "outputs": [
        {
          "output_type": "execute_result",
          "data": {
            "text/plain": [
              "LGBMClassifier(max_depth=7, n_estimators=50, num_leaves=127)"
            ],
            "text/html": [
              "<style>#sk-container-id-6 {color: black;background-color: white;}#sk-container-id-6 pre{padding: 0;}#sk-container-id-6 div.sk-toggleable {background-color: white;}#sk-container-id-6 label.sk-toggleable__label {cursor: pointer;display: block;width: 100%;margin-bottom: 0;padding: 0.3em;box-sizing: border-box;text-align: center;}#sk-container-id-6 label.sk-toggleable__label-arrow:before {content: \"▸\";float: left;margin-right: 0.25em;color: #696969;}#sk-container-id-6 label.sk-toggleable__label-arrow:hover:before {color: black;}#sk-container-id-6 div.sk-estimator:hover label.sk-toggleable__label-arrow:before {color: black;}#sk-container-id-6 div.sk-toggleable__content {max-height: 0;max-width: 0;overflow: hidden;text-align: left;background-color: #f0f8ff;}#sk-container-id-6 div.sk-toggleable__content pre {margin: 0.2em;color: black;border-radius: 0.25em;background-color: #f0f8ff;}#sk-container-id-6 input.sk-toggleable__control:checked~div.sk-toggleable__content {max-height: 200px;max-width: 100%;overflow: auto;}#sk-container-id-6 input.sk-toggleable__control:checked~label.sk-toggleable__label-arrow:before {content: \"▾\";}#sk-container-id-6 div.sk-estimator input.sk-toggleable__control:checked~label.sk-toggleable__label {background-color: #d4ebff;}#sk-container-id-6 div.sk-label input.sk-toggleable__control:checked~label.sk-toggleable__label {background-color: #d4ebff;}#sk-container-id-6 input.sk-hidden--visually {border: 0;clip: rect(1px 1px 1px 1px);clip: rect(1px, 1px, 1px, 1px);height: 1px;margin: -1px;overflow: hidden;padding: 0;position: absolute;width: 1px;}#sk-container-id-6 div.sk-estimator {font-family: monospace;background-color: #f0f8ff;border: 1px dotted black;border-radius: 0.25em;box-sizing: border-box;margin-bottom: 0.5em;}#sk-container-id-6 div.sk-estimator:hover {background-color: #d4ebff;}#sk-container-id-6 div.sk-parallel-item::after {content: \"\";width: 100%;border-bottom: 1px solid gray;flex-grow: 1;}#sk-container-id-6 div.sk-label:hover label.sk-toggleable__label {background-color: #d4ebff;}#sk-container-id-6 div.sk-serial::before {content: \"\";position: absolute;border-left: 1px solid gray;box-sizing: border-box;top: 0;bottom: 0;left: 50%;z-index: 0;}#sk-container-id-6 div.sk-serial {display: flex;flex-direction: column;align-items: center;background-color: white;padding-right: 0.2em;padding-left: 0.2em;position: relative;}#sk-container-id-6 div.sk-item {position: relative;z-index: 1;}#sk-container-id-6 div.sk-parallel {display: flex;align-items: stretch;justify-content: center;background-color: white;position: relative;}#sk-container-id-6 div.sk-item::before, #sk-container-id-6 div.sk-parallel-item::before {content: \"\";position: absolute;border-left: 1px solid gray;box-sizing: border-box;top: 0;bottom: 0;left: 50%;z-index: -1;}#sk-container-id-6 div.sk-parallel-item {display: flex;flex-direction: column;z-index: 1;position: relative;background-color: white;}#sk-container-id-6 div.sk-parallel-item:first-child::after {align-self: flex-end;width: 50%;}#sk-container-id-6 div.sk-parallel-item:last-child::after {align-self: flex-start;width: 50%;}#sk-container-id-6 div.sk-parallel-item:only-child::after {width: 0;}#sk-container-id-6 div.sk-dashed-wrapped {border: 1px dashed gray;margin: 0 0.4em 0.5em 0.4em;box-sizing: border-box;padding-bottom: 0.4em;background-color: white;}#sk-container-id-6 div.sk-label label {font-family: monospace;font-weight: bold;display: inline-block;line-height: 1.2em;}#sk-container-id-6 div.sk-label-container {text-align: center;}#sk-container-id-6 div.sk-container {/* jupyter's `normalize.less` sets `[hidden] { display: none; }` but bootstrap.min.css set `[hidden] { display: none !important; }` so we also need the `!important` here to be able to override the default hidden behavior on the sphinx rendered scikit-learn.org. See: https://github.com/scikit-learn/scikit-learn/issues/21755 */display: inline-block !important;position: relative;}#sk-container-id-6 div.sk-text-repr-fallback {display: none;}</style><div id=\"sk-container-id-6\" class=\"sk-top-container\"><div class=\"sk-text-repr-fallback\"><pre>LGBMClassifier(max_depth=7, n_estimators=50, num_leaves=127)</pre><b>In a Jupyter environment, please rerun this cell to show the HTML representation or trust the notebook. <br />On GitHub, the HTML representation is unable to render, please try loading this page with nbviewer.org.</b></div><div class=\"sk-container\" hidden><div class=\"sk-item\"><div class=\"sk-estimator sk-toggleable\"><input class=\"sk-toggleable__control sk-hidden--visually\" id=\"sk-estimator-id-8\" type=\"checkbox\" checked><label for=\"sk-estimator-id-8\" class=\"sk-toggleable__label sk-toggleable__label-arrow\">LGBMClassifier</label><div class=\"sk-toggleable__content\"><pre>LGBMClassifier(max_depth=7, n_estimators=50, num_leaves=127)</pre></div></div></div></div></div>"
            ]
          },
          "metadata": {},
          "execution_count": 77
        }
      ]
    },
    {
      "cell_type": "code",
      "source": [
        "# Evaluate the performance of the classifier on the testing set\n",
        "y_pred = best_lgb_clf.predict(X_test)\n",
        "accuracy = accuracy_score(y_test, y_pred)\n",
        "print(\"Accuracy Score on Testing Set: \", accuracy)"
      ],
      "metadata": {
        "colab": {
          "base_uri": "https://localhost:8080/"
        },
        "id": "utVfC_juP1Bq",
        "outputId": "93744581-e58f-4fb5-d6a0-c1934047a457"
      },
      "execution_count": 78,
      "outputs": [
        {
          "output_type": "stream",
          "name": "stdout",
          "text": [
            "Accuracy Score on Testing Set:  0.9792301000434972\n"
          ]
        }
      ]
    },
    {
      "cell_type": "code",
      "source": [
        "#PART 2 END\n"
      ],
      "metadata": {
        "id": "VdcwSmOyP342"
      },
      "execution_count": 79,
      "outputs": []
    },
    {
      "cell_type": "code",
      "source": [
        "#PART 3 - CatBoost"
      ],
      "metadata": {
        "id": "EBSRFASZQDzX"
      },
      "execution_count": 80,
      "outputs": []
    },
    {
      "cell_type": "code",
      "source": [
        "import pandas as pd\n",
        "!pip install catboost\n",
        "from catboost import CatBoostClassifier\n",
        "from sklearn.model_selection import train_test_split\n",
        "from sklearn.metrics import accuracy_score"
      ],
      "metadata": {
        "colab": {
          "base_uri": "https://localhost:8080/"
        },
        "id": "EVPEJBplZ_ft",
        "outputId": "ed64f7fd-1c4b-4ba0-b74b-2655b9c656bd"
      },
      "execution_count": 81,
      "outputs": [
        {
          "output_type": "stream",
          "name": "stdout",
          "text": [
            "Looking in indexes: https://pypi.org/simple, https://us-python.pkg.dev/colab-wheels/public/simple/\n",
            "Collecting catboost\n",
            "  Downloading catboost-1.1.1-cp310-none-manylinux1_x86_64.whl (76.6 MB)\n",
            "\u001b[2K     \u001b[90m━━━━━━━━━━━━━━━━━━━━━━━━━━━━━━━━━━━━━━━━\u001b[0m \u001b[32m76.6/76.6 MB\u001b[0m \u001b[31m11.9 MB/s\u001b[0m eta \u001b[36m0:00:00\u001b[0m\n",
            "\u001b[?25hRequirement already satisfied: matplotlib in /usr/local/lib/python3.10/dist-packages (from catboost) (3.7.1)\n",
            "Requirement already satisfied: plotly in /usr/local/lib/python3.10/dist-packages (from catboost) (5.13.1)\n",
            "Requirement already satisfied: numpy>=1.16.0 in /usr/local/lib/python3.10/dist-packages (from catboost) (1.22.4)\n",
            "Requirement already satisfied: six in /usr/local/lib/python3.10/dist-packages (from catboost) (1.16.0)\n",
            "Requirement already satisfied: graphviz in /usr/local/lib/python3.10/dist-packages (from catboost) (0.20.1)\n",
            "Requirement already satisfied: scipy in /usr/local/lib/python3.10/dist-packages (from catboost) (1.10.1)\n",
            "Requirement already satisfied: pandas>=0.24.0 in /usr/local/lib/python3.10/dist-packages (from catboost) (1.5.3)\n",
            "Requirement already satisfied: pytz>=2020.1 in /usr/local/lib/python3.10/dist-packages (from pandas>=0.24.0->catboost) (2022.7.1)\n",
            "Requirement already satisfied: python-dateutil>=2.8.1 in /usr/local/lib/python3.10/dist-packages (from pandas>=0.24.0->catboost) (2.8.2)\n",
            "Requirement already satisfied: fonttools>=4.22.0 in /usr/local/lib/python3.10/dist-packages (from matplotlib->catboost) (4.39.3)\n",
            "Requirement already satisfied: kiwisolver>=1.0.1 in /usr/local/lib/python3.10/dist-packages (from matplotlib->catboost) (1.4.4)\n",
            "Requirement already satisfied: pillow>=6.2.0 in /usr/local/lib/python3.10/dist-packages (from matplotlib->catboost) (8.4.0)\n",
            "Requirement already satisfied: cycler>=0.10 in /usr/local/lib/python3.10/dist-packages (from matplotlib->catboost) (0.11.0)\n",
            "Requirement already satisfied: packaging>=20.0 in /usr/local/lib/python3.10/dist-packages (from matplotlib->catboost) (23.1)\n",
            "Requirement already satisfied: contourpy>=1.0.1 in /usr/local/lib/python3.10/dist-packages (from matplotlib->catboost) (1.0.7)\n",
            "Requirement already satisfied: pyparsing>=2.3.1 in /usr/local/lib/python3.10/dist-packages (from matplotlib->catboost) (3.0.9)\n",
            "Requirement already satisfied: tenacity>=6.2.0 in /usr/local/lib/python3.10/dist-packages (from plotly->catboost) (8.2.2)\n",
            "Installing collected packages: catboost\n",
            "Successfully installed catboost-1.1.1\n"
          ]
        }
      ]
    },
    {
      "cell_type": "code",
      "source": [
        "# Convert Number_of_Vehicles into a binary classification problem\n",
        "crash_df['Target'] = np.where(crash_df['Number_of_Vehicles'] >= 2, 1, 0)"
      ],
      "metadata": {
        "id": "84BV4AdVaC9J"
      },
      "execution_count": 82,
      "outputs": []
    },
    {
      "cell_type": "code",
      "source": [
        "# Split the data into training and testing sets\n",
        "X_train, X_test, y_train, y_test = train_test_split(crash_df.drop(['Number_of_Vehicles', 'Target'], axis=1),\n",
        "                                                    crash_df['Target'],\n",
        "                                                    test_size=0.2,\n",
        "                                                    random_state=0)"
      ],
      "metadata": {
        "id": "gjXkXf3uaqGT"
      },
      "execution_count": 83,
      "outputs": []
    },
    {
      "cell_type": "code",
      "source": [
        "# Create a CatBoost classifier object\n",
        "cat_clf = CatBoostClassifier(random_state=0, verbose=False)"
      ],
      "metadata": {
        "id": "5IeEaV6nas7d"
      },
      "execution_count": 84,
      "outputs": []
    },
    {
      "cell_type": "code",
      "source": [
        "# Train the classifier\n",
        "cat_clf.fit(X_train, y_train, cat_features=['Ambient_Light', 'Vehicle_Configuration'])"
      ],
      "metadata": {
        "colab": {
          "base_uri": "https://localhost:8080/"
        },
        "id": "u8-aJaWTawdR",
        "outputId": "02823708-56d7-4ae6-f047-a64f626bc5d5"
      },
      "execution_count": 85,
      "outputs": [
        {
          "output_type": "execute_result",
          "data": {
            "text/plain": [
              "<catboost.core.CatBoostClassifier at 0x7f5628264d90>"
            ]
          },
          "metadata": {},
          "execution_count": 85
        }
      ]
    },
    {
      "cell_type": "code",
      "source": [
        "# Evaluate the performance of the classifier on the testing set\n",
        "y_pred = cat_clf.predict(X_test)\n",
        "accuracy = accuracy_score(y_test, y_pred)\n",
        "print(\"Accuracy Score on Testing Set: \", accuracy)"
      ],
      "metadata": {
        "colab": {
          "base_uri": "https://localhost:8080/"
        },
        "id": "XsG8l_GaazbH",
        "outputId": "a57eaf48-c19f-439a-c735-dbe22513a8b4"
      },
      "execution_count": 86,
      "outputs": [
        {
          "output_type": "stream",
          "name": "stdout",
          "text": [
            "Accuracy Score on Testing Set:  0.9812962157459765\n"
          ]
        }
      ]
    },
    {
      "cell_type": "code",
      "source": [
        "from catboost import CatBoostClassifier, Pool"
      ],
      "metadata": {
        "id": "brRdu3_seUqg"
      },
      "execution_count": 87,
      "outputs": []
    },
    {
      "cell_type": "code",
      "source": [
        "from sklearn.model_selection import train_test_split\n",
        "from sklearn.metrics import accuracy_score\n",
        "import matplotlib.pyplot as plt"
      ],
      "metadata": {
        "id": "oG48MeIqeWp9"
      },
      "execution_count": 88,
      "outputs": []
    },
    {
      "cell_type": "code",
      "source": [
        "# Get feature importances\n",
        "feature_importance = cat_clf.get_feature_importance()\n",
        "\n",
        "# Plot the feature importance graph\n",
        "plt.figure(figsize=(10,6))\n",
        "plt.bar(X_train.columns, feature_importance)\n",
        "plt.xticks(rotation=90)\n",
        "plt.xlabel('Features')\n",
        "plt.ylabel('Feature Importance')\n",
        "plt.title('Feature Importance Plot')\n",
        "plt.show()"
      ],
      "metadata": {
        "colab": {
          "base_uri": "https://localhost:8080/",
          "height": 724
        },
        "id": "UCNcj6nNe-XU",
        "outputId": "806918b3-95e2-440a-fa60-f3cee4ba1bd9"
      },
      "execution_count": 89,
      "outputs": [
        {
          "output_type": "display_data",
          "data": {
            "text/plain": [
              "<Figure size 1000x600 with 1 Axes>"
            ],
            "image/png": "[encoded data removed]"
          },
          "metadata": {}
        }
      ]
    },
    {
      "cell_type": "code",
      "source": [
        "# Make predictions on the testing set\n",
        "y_pred = cat_clf.predict_proba(X_test)[:, 1]\n",
        "\n",
        "# Calculate the false positive rate, true positive rate, and thresholds\n",
        "fpr, tpr, thresholds = roc_curve(y_test, y_pred)\n"
      ],
      "metadata": {
        "id": "MBdoGDzLfF3w"
      },
      "execution_count": 90,
      "outputs": []
    },
    {
      "cell_type": "code",
      "source": [
        "# Plot the ROC curve\n",
        "plt.figure(figsize=(8, 8))\n",
        "plt.plot(fpr, tpr, lw=2)\n",
        "plt.plot([0, 1], [0, 1], '--', color='gray', lw=1)\n",
        "plt.xlim([-0.05, 1.05])\n",
        "plt.ylim([-0.05, 1.05])\n",
        "plt.xlabel('False Positive Rate')\n",
        "plt.ylabel('True Positive Rate')\n",
        "plt.title('ROC Curve')\n",
        "plt.show()"
      ],
      "metadata": {
        "colab": {
          "base_uri": "https://localhost:8080/",
          "height": 718
        },
        "id": "-c2_9yIpgkr1",
        "outputId": "240402d3-2299-48a2-f411-c13b00e0764b"
      },
      "execution_count": 91,
      "outputs": [
        {
          "output_type": "display_data",
          "data": {
            "text/plain": [
              "<Figure size 800x800 with 1 Axes>"
            ],
            "image/png": "[encoded data removed]"
          },
          "metadata": {}
        }
      ]
    },
    {
      "cell_type": "code",
      "source": [
        "# Calculate the area under the ROC curve (AUC)\n",
        "from sklearn.metrics import accuracy_score, roc_auc_score\n",
        "auc_score = roc_auc_score(y_test, y_pred)\n",
        "print(\"AUC: \", auc_score)"
      ],
      "metadata": {
        "colab": {
          "base_uri": "https://localhost:8080/"
        },
        "id": "faJp5xG3glHM",
        "outputId": "310aace2-b14f-47f4-c656-3a9bf0acff6c"
      },
      "execution_count": 92,
      "outputs": [
        {
          "output_type": "stream",
          "name": "stdout",
          "text": [
            "AUC:  0.9915354443639393\n"
          ]
        }
      ]
    },
    {
      "cell_type": "code",
      "source": [
        "#PART 3 - END"
      ],
      "metadata": {
        "id": "OR-p4Ey6gp44"
      },
      "execution_count": 93,
      "outputs": []
    },
    {
      "cell_type": "code",
      "source": [
        "#PART 4 - XGBoost for 2 variables"
      ],
      "metadata": {
        "id": "CwtsabxmOFsi"
      },
      "execution_count": 95,
      "outputs": []
    },
    {
      "cell_type": "code",
      "source": [
        "import pandas as pd\n",
        "import xgboost as xgb\n",
        "from sklearn.model_selection import train_test_split\n",
        "from sklearn.metrics import accuracy_score, roc_auc_score"
      ],
      "metadata": {
        "id": "q0q3bEu2SLqK"
      },
      "execution_count": 96,
      "outputs": []
    },
    {
      "cell_type": "code",
      "source": [
        "# Convert Number_of_Vehicles into a binary classification problem\n",
        "crash_df['Target'] = (crash_df['Number_of_Vehicles'] >= 2).astype(int)\n"
      ],
      "metadata": {
        "id": "Hz8l_4EISMxG"
      },
      "execution_count": 97,
      "outputs": []
    },
    {
      "cell_type": "code",
      "source": [
        "# Split the data into training and testing sets\n",
        "X_train, X_test, y_train, y_test = train_test_split(crash_df.drop(['Number_of_Vehicles', 'Target'], axis=1),\n",
        "                                                    crash_df['Target'],\n",
        "                                                    test_size=0.2,\n",
        "                                                    random_state=0)"
      ],
      "metadata": {
        "id": "nlo3A8r_SRVM"
      },
      "execution_count": 98,
      "outputs": []
    },
    {
      "cell_type": "code",
      "source": [
        "# Create a DMatrix for XGBoost\n",
        "dtrain = xgb.DMatrix(X_train, label=y_train)\n",
        "dtest = xgb.DMatrix(X_test)"
      ],
      "metadata": {
        "id": "P-LQdD3QSVXJ"
      },
      "execution_count": 109,
      "outputs": []
    },
    {
      "cell_type": "code",
      "source": [
        "# Set XGBoost parameters\n",
        "params = {'max_depth': 3, 'eta': 0.1, 'objective': 'binary:logistic', 'eval_metric': 'auc'}"
      ],
      "metadata": {
        "id": "LapsdZFBSXSW"
      },
      "execution_count": 110,
      "outputs": []
    },
    {
      "cell_type": "code",
      "source": [
        "# Train the model\n",
        "xgb_model = xgb.train(params, dtrain)"
      ],
      "metadata": {
        "id": "ST4cyTPWSZWc"
      },
      "execution_count": 112,
      "outputs": []
    },
    {
      "cell_type": "code",
      "source": [
        "# Predict on the test set\n",
        "y_pred = xgb_model.predict(dtest)"
      ],
      "metadata": {
        "id": "ujGgXE74Tqul"
      },
      "execution_count": 113,
      "outputs": []
    },
    {
      "cell_type": "code",
      "source": [
        "# Convert probabilities to binary predictions\n",
        "y_pred_binary = [1 if p >= 0.5 else 0 for p in y_pred]"
      ],
      "metadata": {
        "id": "hBGsb2M7Ttx7"
      },
      "execution_count": 114,
      "outputs": []
    },
    {
      "cell_type": "code",
      "source": [
        "# Calculate accuracy and AUC score\n",
        "accuracy = accuracy_score(y_test, y_pred_binary)\n",
        "auc_score = roc_auc_score(y_test, y_pred)\n",
        "print(\"Accuracy: \", accuracy)\n",
        "print(\"AUC: \", auc_score)"
      ],
      "metadata": {
        "colab": {
          "base_uri": "https://localhost:8080/"
        },
        "id": "RVl7z3VnTxBX",
        "outputId": "5626812e-6177-4403-ad37-c2af7a1ce356"
      },
      "execution_count": 115,
      "outputs": [
        {
          "output_type": "stream",
          "name": "stdout",
          "text": [
            "Accuracy:  0.959873858199217\n",
            "AUC:  0.9819880856133896\n"
          ]
        }
      ]
    },
    {
      "cell_type": "code",
      "source": [
        "import matplotlib.pyplot as plt\n",
        "from sklearn.metrics import roc_curve\n",
        "\n",
        "# Calculate the false positive rate and true positive rate\n",
        "fpr, tpr, _ = roc_curve(y_test, y_pred)\n",
        "\n",
        "# Plot the ROC curve\n",
        "plt.plot(fpr, tpr)\n",
        "plt.xlabel('False Positive Rate')\n",
        "plt.ylabel('True Positive Rate')\n",
        "plt.title('ROC Curve')\n",
        "plt.show()"
      ],
      "metadata": {
        "colab": {
          "base_uri": "https://localhost:8080/",
          "height": 472
        },
        "id": "1fQxLpXXTzM8",
        "outputId": "5440c26a-0aec-455b-f563-f2b1977967a5"
      },
      "execution_count": 116,
      "outputs": [
        {
          "output_type": "display_data",
          "data": {
            "text/plain": [
              "<Figure size 640x480 with 1 Axes>"
            ],
            "image/png": "[encoded data removed]"
          },
          "metadata": {}
        }
      ]
    },
    {
      "cell_type": "code",
      "source": [
        "#Part4 - End"
      ],
      "metadata": {
        "id": "8hF6o-4WT7u1"
      },
      "execution_count": 117,
      "outputs": []
    },
    {
      "cell_type": "code",
      "source": [
        "#Assignmenet 3 - End"
      ],
      "metadata": {
        "id": "xFNf06otUG6a"
      },
      "execution_count": 118,
      "outputs": []
    },
    {
      "cell_type": "code",
      "source": [],
      "metadata": {
        "id": "zG3r31EfUMk9"
      },
      "execution_count": null,
      "outputs": []
    }
  ]
}